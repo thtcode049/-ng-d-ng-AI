{
  "cells": [
    {
      "cell_type": "markdown",
      "metadata": {
        "id": "W-qkopmfsk1-"
      },
      "source": [
        "Dự Đoán Doanh Số Thương Mại Điện Tử\n",
        "\n",
        "Dự đoán doanh số chính xác cho phép các nhà bán lẻ lập kế hoạch tốt hơn cho tương lai của một doanh nghiệp thương mại điện tử. Dự đoán doanh số là một phần quan trọng trong việc đáp ứng kỳ vọng của khách hàng và cung cấp cái nhìn về cách mà thị trường sẽ phản ứng với bất kỳ sản phẩm nào.\n",
        "\n",
        "Chúng ta sống trong thế giới thương mại điện tử. Chúng ta thấy rất nhiều cửa hàng khác nhau qua mạng. Internet đã làm cho việc giao dịch với bất kỳ ai và ở bất kỳ đâu trở nên khả thi. Chúng ta có thể mua hàng mà không cần rời khỏi nhà, so sánh giá cả giữa các cửa hàng chỉ trong vài giây, và tìm thấy những gì mình thực sự muốn mà không chấp nhận chỉ những lựa chọn tương đối phù hợp đầu tiên. Và tôi tin rằng việc nhìn vào thế giới này thông qua dữ liệu mà nó tạo ra sẽ rất thú vị. Đó là lý do tại sao tôi quyết định khám phá những con số trong thương mại điện tử và cố gắng hiểu rõ hơn về điều đó.\n",
        "\n",
        "Dữ liệu được sử dụng trong phân tích này được lấy từ tập dữ liệu Kaggle \"Dữ Liệu Thương Mại Điện Tử | Các giao dịch thực tế của nhà bán lẻ ở Vương quốc Anh\".\n",
        "\n",
        "Đây là một tập dữ liệu giao dịch chứa tất cả các giao dịch xảy ra giữa ngày 01/12/2010 và 09/12/2011 cho một nhà bán lẻ trực tuyến không có cửa hàng có trụ sở tại Vương quốc Anh. Công ty chủ yếu bán các món quà độc đáo cho mọi dịp. Nhiều khách hàng của công ty là các nhà bán buôn.\n",
        "\n",
        "Như thường lệ, chúng ta bắt đầu phân tích bằng cách thiết lập môi trường và nhập các thư viện cần thiết.\n",
        "\n",
        "Chúng ta nhập các thư viện tiêu chuẩn numpy và pandas để có thể thực hiện phân tích với Python, đồng thời cũng cần các thư viện trực quan hóa dữ liệu matplotlib và seaborn để xuất ra những phát hiện thú vị.\n",
        "\n",
        "Dự đoán doanh số trong thương mại điện tử là một khía cạnh quan trọng trong việc quản lý doanh nghiệp bán lẻ trực tuyến. Dự đoán doanh số chính xác có thể giúp bạn đưa ra quyết định thông minh về quản lý hàng tồn kho, chiến lược tiếp thị và tăng trưởng tổng thể của doanh nghiệp. Dưới đây là một số phương pháp và yếu tố quan trọng để dự đoán doanh số trong thương mại điện tử:\n",
        "\n",
        "1. Phân Tích Dữ Liệu Lịch Sử:\n",
        "\n",
        "Bắt đầu bằng cách phân tích dữ liệu doanh số lịch sử của bạn. Tìm hiểu các xu hướng, tính mùa vụ và bất kỳ mô hình nào có thể xuất hiện. Dữ liệu này có thể cung cấp cái nhìn quý giá về hiệu suất trong quá khứ.\n",
        "2. Dự Đoán Thời Gian:\n",
        "\n",
        "Các phương pháp dự đoán thời gian, như ARIMA (Tự hồi quy tích lũy trung bình) hoặc Prophet, có thể được sử dụng để dự đoán doanh số tương lai dựa trên dữ liệu doanh số trong quá khứ. Những mô hình này xem xét tính mùa vụ và xu hướng.\n",
        "3. Mô Hình Học Máy:\n",
        "\n",
        "Các mô hình học máy như hồi quy, cây quyết định, rừng ngẫu nhiên và mạng nơ-ron có thể được đào tạo trên dữ liệu lịch sử để đưa ra dự đoán. Kỹ thuật tạo đặc trưng, liên quan đến việc chọn và biến đổi các đặc trưng đầu vào liên quan, là rất quan trọng cho các mô hình này.\n",
        "4. Phân Khúc Khách Hàng:\n",
        "\n",
        "Chia khách hàng thành các phân khúc để xác định các nhóm khác nhau với hành vi mua sắm khác nhau. Điều này có thể giúp bạn điều chỉnh nỗ lực tiếp thị và dự đoán doanh số chính xác hơn cho từng phân khúc.\n",
        "5. Yếu Tố Bên Ngoài:\n",
        "\n",
        "Xem xét các yếu tố bên ngoài có thể ảnh hưởng đến doanh số, như các ngày lễ, điều kiện kinh tế và xu hướng ngành. Việc đưa những yếu tố này vào mô hình của bạn có thể cải thiện độ chính xác.\n",
        "6. Quản Lý Hàng Tồn Kho:\n",
        "\n",
        "Dự đoán doanh số chính xác là điều cần thiết cho việc quản lý hàng tồn kho. Cung cấp quá nhiều hoặc quá ít hàng có thể dẫn đến mất doanh số hoặc chi phí thừa. Đảm bảo rằng các dự đoán của bạn phù hợp với mức tồn kho.\n",
        "7. Phân Tích Chiến Dịch Tiếp Thị:\n",
        "\n",
        "Phân tích tác động của các chiến dịch tiếp thị đến doanh số. Mô hình phân bổ có thể giúp bạn hiểu những nỗ lực tiếp thị nào đang thúc đẩy nhiều doanh số nhất, cho phép bạn tối ưu hóa chiến lược tiếp thị của mình.\n",
        "8. Kiểm Tra A/B:\n",
        "\n",
        "Thực hiện kiểm tra A/B để thử nghiệm các chiến lược khác nhau và xác định đâu là những chiến lược có tác động lớn nhất đến doanh số. Điều này có thể giúp cải thiện các dự đoán của bạn theo thời gian.\n",
        "9.Phản Hồi và Đánh Giá của Khách Hàng:\n",
        "\n",
        "Chú ý đến phản hồi của khách hàng và đánh giá sản phẩm. Phản hồi tiêu cực có thể dẫn đến giảm doanh số, trong khi phản hồi tích cực có thể thúc đẩy doanh số. Theo dõi cảm xúc và giải quyết những lo ngại của khách hàng kịp thời.\n",
        "10. Công Cụ Dự Đoán:\n",
        "\n",
        "Cân nhắc việc sử dụng phần mềm dự đoán chuyên dụng hoặc nền tảng phân tích thương mại điện tử cung cấp các mô hình và bảng điều khiển được xây dựng sẵn phù hợp với dự đoán doanh số.\n",
        "11. Giám Sát và Cải Tiến Liên Tục:\n",
        "\n",
        "Các mô hình dự đoán doanh số nên được giám sát và cập nhật thường xuyên khi dữ liệu mới trở nên có sẵn. Thương mại điện tử là một lĩnh vực năng động, và điều kiện thị trường có thể thay đổi nhanh chóng.\n",
        "12. Sử Dụng AI và Phân Tích Dự Đoán:\n",
        "\n",
        "Các kỹ thuật trí tuệ nhân tạo tiên tiến và phân tích dự đoán, chẳng hạn như học sâu và học tăng cường, có thể cung cấp dự đoán doanh số chính xác hơn và tự động, đặc biệt là đối với các tập dữ liệu lớn.\n",
        "Hãy nhớ rằng dự đoán doanh số không phải lúc nào cũng chính xác 100%, nhưng với việc tinh chỉnh liên tục và sử dụng nhiều nguồn dữ liệu và mô hình khác nhau, bạn có thể cải thiện độ chính xác theo thời gian. Ngoài ra, hãy chuẩn bị để điều chỉnh chiến lược của bạn dựa trên những thông tin thu được từ các dự đoán để tối đa hóa thành công trong thương mại điện tử."
      ]
    },
    {
      "cell_type": "markdown",
      "metadata": {
        "id": "N5E1IhDbsk2F"
      },
      "source": [
        "# Import libraries and Data"
      ]
    },
    {
      "cell_type": "code",
      "execution_count": 1,
      "metadata": {
        "id": "rZg8D3jFsk2G"
      },
      "outputs": [],
      "source": [
        "import pandas as pd\n",
        "import numpy as np\n",
        "import matplotlib.pyplot as plt\n",
        "import seaborn as sns\n",
        "\n",
        "import warnings\n",
        "warnings.filterwarnings('ignore')\n",
        "\n",
        "plt.style.use('fivethirtyeight')\n",
        "%matplotlib inline"
      ]
    },
    {
      "cell_type": "code",
      "execution_count": 2,
      "metadata": {
        "id": "bbK3RFlLsk2I"
      },
      "outputs": [],
      "source": [
        "df = pd.read_csv(\"D:\\Đại học\\ứng dụng AI\\dữ liệu.csv\", encoding=\"latin\", dtype={'CustomerID': str})\n"
      ]
    },
    {
      "cell_type": "code",
      "execution_count": 3,
      "metadata": {
        "colab": {
          "base_uri": "https://localhost:8080/",
          "height": 538
        },
        "id": "dHEjSSo1sk2J",
        "outputId": "328d4885-a01f-4d1d-f578-4e6edcf37766"
      },
      "outputs": [
        {
          "data": {
            "text/html": [
              "<div>\n",
              "<style scoped>\n",
              "    .dataframe tbody tr th:only-of-type {\n",
              "        vertical-align: middle;\n",
              "    }\n",
              "\n",
              "    .dataframe tbody tr th {\n",
              "        vertical-align: top;\n",
              "    }\n",
              "\n",
              "    .dataframe thead th {\n",
              "        text-align: right;\n",
              "    }\n",
              "</style>\n",
              "<table border=\"1\" class=\"dataframe\">\n",
              "  <thead>\n",
              "    <tr style=\"text-align: right;\">\n",
              "      <th></th>\n",
              "      <th>InvoiceNo</th>\n",
              "      <th>StockCode</th>\n",
              "      <th>Description</th>\n",
              "      <th>Quantity</th>\n",
              "      <th>InvoiceDate</th>\n",
              "      <th>UnitPrice</th>\n",
              "      <th>CustomerID</th>\n",
              "      <th>Country</th>\n",
              "    </tr>\n",
              "  </thead>\n",
              "  <tbody>\n",
              "    <tr>\n",
              "      <th>0</th>\n",
              "      <td>536365</td>\n",
              "      <td>85123A</td>\n",
              "      <td>WHITE HANGING HEART T-LIGHT HOLDER</td>\n",
              "      <td>6</td>\n",
              "      <td>12/1/2010 8:26</td>\n",
              "      <td>2.55</td>\n",
              "      <td>17850</td>\n",
              "      <td>United Kingdom</td>\n",
              "    </tr>\n",
              "    <tr>\n",
              "      <th>1</th>\n",
              "      <td>536365</td>\n",
              "      <td>71053</td>\n",
              "      <td>WHITE METAL LANTERN</td>\n",
              "      <td>6</td>\n",
              "      <td>12/1/2010 8:26</td>\n",
              "      <td>3.39</td>\n",
              "      <td>17850</td>\n",
              "      <td>United Kingdom</td>\n",
              "    </tr>\n",
              "    <tr>\n",
              "      <th>2</th>\n",
              "      <td>536365</td>\n",
              "      <td>84406B</td>\n",
              "      <td>CREAM CUPID HEARTS COAT HANGER</td>\n",
              "      <td>8</td>\n",
              "      <td>12/1/2010 8:26</td>\n",
              "      <td>2.75</td>\n",
              "      <td>17850</td>\n",
              "      <td>United Kingdom</td>\n",
              "    </tr>\n",
              "    <tr>\n",
              "      <th>3</th>\n",
              "      <td>536365</td>\n",
              "      <td>84029G</td>\n",
              "      <td>KNITTED UNION FLAG HOT WATER BOTTLE</td>\n",
              "      <td>6</td>\n",
              "      <td>12/1/2010 8:26</td>\n",
              "      <td>3.39</td>\n",
              "      <td>17850</td>\n",
              "      <td>United Kingdom</td>\n",
              "    </tr>\n",
              "    <tr>\n",
              "      <th>4</th>\n",
              "      <td>536365</td>\n",
              "      <td>84029E</td>\n",
              "      <td>RED WOOLLY HOTTIE WHITE HEART.</td>\n",
              "      <td>6</td>\n",
              "      <td>12/1/2010 8:26</td>\n",
              "      <td>3.39</td>\n",
              "      <td>17850</td>\n",
              "      <td>United Kingdom</td>\n",
              "    </tr>\n",
              "  </tbody>\n",
              "</table>\n",
              "</div>"
            ],
            "text/plain": [
              "  InvoiceNo StockCode                          Description  Quantity  \\\n",
              "0    536365    85123A   WHITE HANGING HEART T-LIGHT HOLDER         6   \n",
              "1    536365     71053                  WHITE METAL LANTERN         6   \n",
              "2    536365    84406B       CREAM CUPID HEARTS COAT HANGER         8   \n",
              "3    536365    84029G  KNITTED UNION FLAG HOT WATER BOTTLE         6   \n",
              "4    536365    84029E       RED WOOLLY HOTTIE WHITE HEART.         6   \n",
              "\n",
              "      InvoiceDate  UnitPrice CustomerID         Country  \n",
              "0  12/1/2010 8:26       2.55      17850  United Kingdom  \n",
              "1  12/1/2010 8:26       3.39      17850  United Kingdom  \n",
              "2  12/1/2010 8:26       2.75      17850  United Kingdom  \n",
              "3  12/1/2010 8:26       3.39      17850  United Kingdom  \n",
              "4  12/1/2010 8:26       3.39      17850  United Kingdom  "
            ]
          },
          "execution_count": 3,
          "metadata": {},
          "output_type": "execute_result"
        }
      ],
      "source": [
        "df.head()"
      ]
    },
    {
      "cell_type": "markdown",
      "metadata": {
        "id": "PPtD4MuBsk2M"
      },
      "source": [
        "- Chỉ cần nhìn vào 5 hàng đầu tiên của bảng, chúng ta có thể hiểu cấu trúc và các kiểu dữ liệu có trong tập dữ liệu của chúng ta.\n",
        "- Chúng ta có thể nhận thấy rằng chúng ta sẽ phải xử lý dữ liệu chuỗi thời gian, số nguyên và số thực, cũng như dữ liệu phân loại và văn bản."
      ]
    },
    {
      "cell_type": "markdown",
      "metadata": {
        "id": "goGhtRBOsk2N"
      },
      "source": [
        "# Phân Tích Dữ Liệu Khám Phá (EDA)\n",
        "\n",
        "Mỗi dự án khoa học dữ liệu đều bắt đầu bằng EDA vì chúng ta cần hiểu những gì mình đang xử lý. Tôi chia EDA thành 2 loại: trực quan và số liệu. Hãy bắt đầu với loại số liệu, vì phương thức đơn giản .describe() của pandas cung cấp cho chúng ta nhiều thông tin hữu ích."
      ]
    },
    {
      "cell_type": "markdown",
      "metadata": {
        "id": "ASfLzt-9sk2O"
      },
      "source": [
        "## Tổng quan thống kê nhanh"
      ]
    },
    {
      "cell_type": "code",
      "execution_count": 4,
      "metadata": {
        "colab": {
          "base_uri": "https://localhost:8080/",
          "height": 300
        },
        "id": "jIz2g1GZsk2P",
        "outputId": "a01eaa4b-1d45-41e8-accc-c359bec86283"
      },
      "outputs": [
        {
          "data": {
            "text/html": [
              "<div>\n",
              "<style scoped>\n",
              "    .dataframe tbody tr th:only-of-type {\n",
              "        vertical-align: middle;\n",
              "    }\n",
              "\n",
              "    .dataframe tbody tr th {\n",
              "        vertical-align: top;\n",
              "    }\n",
              "\n",
              "    .dataframe thead th {\n",
              "        text-align: right;\n",
              "    }\n",
              "</style>\n",
              "<table border=\"1\" class=\"dataframe\">\n",
              "  <thead>\n",
              "    <tr style=\"text-align: right;\">\n",
              "      <th></th>\n",
              "      <th>Quantity</th>\n",
              "      <th>UnitPrice</th>\n",
              "    </tr>\n",
              "  </thead>\n",
              "  <tbody>\n",
              "    <tr>\n",
              "      <th>count</th>\n",
              "      <td>541909.000000</td>\n",
              "      <td>541909.000000</td>\n",
              "    </tr>\n",
              "    <tr>\n",
              "      <th>mean</th>\n",
              "      <td>9.552250</td>\n",
              "      <td>4.611114</td>\n",
              "    </tr>\n",
              "    <tr>\n",
              "      <th>std</th>\n",
              "      <td>218.081158</td>\n",
              "      <td>96.759853</td>\n",
              "    </tr>\n",
              "    <tr>\n",
              "      <th>min</th>\n",
              "      <td>-80995.000000</td>\n",
              "      <td>-11062.060000</td>\n",
              "    </tr>\n",
              "    <tr>\n",
              "      <th>25%</th>\n",
              "      <td>1.000000</td>\n",
              "      <td>1.250000</td>\n",
              "    </tr>\n",
              "    <tr>\n",
              "      <th>50%</th>\n",
              "      <td>3.000000</td>\n",
              "      <td>2.080000</td>\n",
              "    </tr>\n",
              "    <tr>\n",
              "      <th>75%</th>\n",
              "      <td>10.000000</td>\n",
              "      <td>4.130000</td>\n",
              "    </tr>\n",
              "    <tr>\n",
              "      <th>max</th>\n",
              "      <td>80995.000000</td>\n",
              "      <td>38970.000000</td>\n",
              "    </tr>\n",
              "  </tbody>\n",
              "</table>\n",
              "</div>"
            ],
            "text/plain": [
              "            Quantity      UnitPrice\n",
              "count  541909.000000  541909.000000\n",
              "mean        9.552250       4.611114\n",
              "std       218.081158      96.759853\n",
              "min    -80995.000000  -11062.060000\n",
              "25%         1.000000       1.250000\n",
              "50%         3.000000       2.080000\n",
              "75%        10.000000       4.130000\n",
              "max     80995.000000   38970.000000"
            ]
          },
          "execution_count": 4,
          "metadata": {},
          "output_type": "execute_result"
        }
      ],
      "source": [
        "df.describe()"
      ]
    },
    {
      "cell_type": "markdown",
      "metadata": {
        "id": "iw0S_98fsk2Q"
      },
      "source": [
        "- Chỉ cần một cái nhìn nhanh về dữ liệu bằng phương thức .describe() đã cung cấp cho chúng ta nhiều không gian để suy nghĩ.  \n",
        "- Chúng ta thấy có số lượng và giá cả âm, và không phải tất cả các bản ghi đều có dữ liệu CustomerID.  \n",
        "- Chúng ta cũng thấy rằng phần lớn các giao dịch có số lượng từ 3 đến 10 món hàng, và phần lớn các món hàng có giá lên đến 5 bảng.  \n",
        "- Chúng ta có một số lượng lớn các điểm ngoại lệ lớn mà chúng ta sẽ phải xử lý sau."
      ]
    },
    {
      "cell_type": "markdown",
      "metadata": {
        "id": "O819JsKFsk2R"
      },
      "source": [
        "## Xử Lý Các Kiểu Dữ Liệu  \n",
        "- Phương thức .read_csv() thực hiện kiểm tra kiểu cơ bản, nhưng không hoàn hảo.  \n",
        "- Vì vậy, tốt hơn hết là chúng ta nên xử lý các kiểu dữ liệu trong dataframe trước khi thực hiện bất kỳ sửa đổi nào để ngăn ngừa khó khăn thêm.  \n",
        "- Mỗi dataframe của pandas có thuộc tính .dtypes giúp chúng ta hiểu những gì hiện có và dữ liệu nào cần được chuyển đổi sang kiểu chính xác."
      ]
    },
    {
      "cell_type": "code",
      "execution_count": 5,
      "metadata": {
        "colab": {
          "base_uri": "https://localhost:8080/",
          "height": 335
        },
        "id": "Dt7MZA7Isk2S",
        "outputId": "a3193cc1-3c5a-4e55-bf4f-280f4f62d64c"
      },
      "outputs": [
        {
          "data": {
            "text/plain": [
              "InvoiceNo       object\n",
              "StockCode       object\n",
              "Description     object\n",
              "Quantity         int64\n",
              "InvoiceDate     object\n",
              "UnitPrice      float64\n",
              "CustomerID      object\n",
              "Country         object\n",
              "dtype: object"
            ]
          },
          "execution_count": 5,
          "metadata": {},
          "output_type": "execute_result"
        }
      ],
      "source": [
        "df.dtypes"
      ]
    },
    {
      "cell_type": "markdown",
      "metadata": {
        "id": "X5_bqHuesk2T"
      },
      "source": [
        "- Nếu chúng ta có dữ liệu DateTime, tốt hơn là chuyển đổi nó sang kiểu DateTime.  \n",
        "- Chúng ta không chạm vào InvoiceNo vào lúc này vì có vẻ dữ liệu trong cột này không chỉ có số.  \n",
        "- Chúng ta chỉ xem 5 hàng đầu tiên, trong khi pandas trong quá trình nhập đã quét toàn bộ dữ liệu và phát hiện rằng kiểu dữ liệu ở đây không phải là số."
      ]
    },
    {
      "cell_type": "code",
      "execution_count": 6,
      "metadata": {
        "id": "USrsBhk-sk2T"
      },
      "outputs": [],
      "source": [
        "df['InvoiceDate'] = pd.to_datetime(df['InvoiceDate'])\n",
        "df = df.set_index('InvoiceDate')"
      ]
    },
    {
      "cell_type": "code",
      "execution_count": 7,
      "metadata": {
        "colab": {
          "base_uri": "https://localhost:8080/",
          "height": 570
        },
        "id": "6nDVOwpNsk2U",
        "outputId": "b52b0e18-964a-4e93-d611-98df63ac78f5"
      },
      "outputs": [
        {
          "data": {
            "text/html": [
              "<div>\n",
              "<style scoped>\n",
              "    .dataframe tbody tr th:only-of-type {\n",
              "        vertical-align: middle;\n",
              "    }\n",
              "\n",
              "    .dataframe tbody tr th {\n",
              "        vertical-align: top;\n",
              "    }\n",
              "\n",
              "    .dataframe thead th {\n",
              "        text-align: right;\n",
              "    }\n",
              "</style>\n",
              "<table border=\"1\" class=\"dataframe\">\n",
              "  <thead>\n",
              "    <tr style=\"text-align: right;\">\n",
              "      <th></th>\n",
              "      <th>InvoiceNo</th>\n",
              "      <th>StockCode</th>\n",
              "      <th>Description</th>\n",
              "      <th>Quantity</th>\n",
              "      <th>UnitPrice</th>\n",
              "      <th>CustomerID</th>\n",
              "      <th>Country</th>\n",
              "    </tr>\n",
              "    <tr>\n",
              "      <th>InvoiceDate</th>\n",
              "      <th></th>\n",
              "      <th></th>\n",
              "      <th></th>\n",
              "      <th></th>\n",
              "      <th></th>\n",
              "      <th></th>\n",
              "      <th></th>\n",
              "    </tr>\n",
              "  </thead>\n",
              "  <tbody>\n",
              "    <tr>\n",
              "      <th>2010-12-01 08:26:00</th>\n",
              "      <td>536365</td>\n",
              "      <td>85123A</td>\n",
              "      <td>WHITE HANGING HEART T-LIGHT HOLDER</td>\n",
              "      <td>6</td>\n",
              "      <td>2.55</td>\n",
              "      <td>17850</td>\n",
              "      <td>United Kingdom</td>\n",
              "    </tr>\n",
              "    <tr>\n",
              "      <th>2010-12-01 08:26:00</th>\n",
              "      <td>536365</td>\n",
              "      <td>71053</td>\n",
              "      <td>WHITE METAL LANTERN</td>\n",
              "      <td>6</td>\n",
              "      <td>3.39</td>\n",
              "      <td>17850</td>\n",
              "      <td>United Kingdom</td>\n",
              "    </tr>\n",
              "    <tr>\n",
              "      <th>2010-12-01 08:26:00</th>\n",
              "      <td>536365</td>\n",
              "      <td>84406B</td>\n",
              "      <td>CREAM CUPID HEARTS COAT HANGER</td>\n",
              "      <td>8</td>\n",
              "      <td>2.75</td>\n",
              "      <td>17850</td>\n",
              "      <td>United Kingdom</td>\n",
              "    </tr>\n",
              "    <tr>\n",
              "      <th>2010-12-01 08:26:00</th>\n",
              "      <td>536365</td>\n",
              "      <td>84029G</td>\n",
              "      <td>KNITTED UNION FLAG HOT WATER BOTTLE</td>\n",
              "      <td>6</td>\n",
              "      <td>3.39</td>\n",
              "      <td>17850</td>\n",
              "      <td>United Kingdom</td>\n",
              "    </tr>\n",
              "    <tr>\n",
              "      <th>2010-12-01 08:26:00</th>\n",
              "      <td>536365</td>\n",
              "      <td>84029E</td>\n",
              "      <td>RED WOOLLY HOTTIE WHITE HEART.</td>\n",
              "      <td>6</td>\n",
              "      <td>3.39</td>\n",
              "      <td>17850</td>\n",
              "      <td>United Kingdom</td>\n",
              "    </tr>\n",
              "  </tbody>\n",
              "</table>\n",
              "</div>"
            ],
            "text/plain": [
              "                    InvoiceNo StockCode                          Description  \\\n",
              "InvoiceDate                                                                    \n",
              "2010-12-01 08:26:00    536365    85123A   WHITE HANGING HEART T-LIGHT HOLDER   \n",
              "2010-12-01 08:26:00    536365     71053                  WHITE METAL LANTERN   \n",
              "2010-12-01 08:26:00    536365    84406B       CREAM CUPID HEARTS COAT HANGER   \n",
              "2010-12-01 08:26:00    536365    84029G  KNITTED UNION FLAG HOT WATER BOTTLE   \n",
              "2010-12-01 08:26:00    536365    84029E       RED WOOLLY HOTTIE WHITE HEART.   \n",
              "\n",
              "                     Quantity  UnitPrice CustomerID         Country  \n",
              "InvoiceDate                                                          \n",
              "2010-12-01 08:26:00         6       2.55      17850  United Kingdom  \n",
              "2010-12-01 08:26:00         6       3.39      17850  United Kingdom  \n",
              "2010-12-01 08:26:00         8       2.75      17850  United Kingdom  \n",
              "2010-12-01 08:26:00         6       3.39      17850  United Kingdom  \n",
              "2010-12-01 08:26:00         6       3.39      17850  United Kingdom  "
            ]
          },
          "execution_count": 7,
          "metadata": {},
          "output_type": "execute_result"
        }
      ],
      "source": [
        "df.head()"
      ]
    },
    {
      "cell_type": "markdown",
      "metadata": {
        "id": "4QLEKynssk2U"
      },
      "source": [
        "## Xử Lý Giá Trị Null  \n",
        "- Bước tiếp theo và rất quan trọng là xử lý các giá trị bị thiếu.  \n",
        "\n",
        "- Thông thường, nếu bạn gặp giá trị null trong tập dữ liệu, bạn cần hiểu bản chất của những giá trị null đó và tác động khả thi mà chúng có thể gây ra cho mô hình.  \n",
        "\n",
        "- Có một vài chiến lược mà chúng ta có thể sử dụng để khắc phục vấn đề với các giá trị null:  \n",
        "\n",
        "    - xóa các hàng có giá trị null  \n",
        "    - xóa đặc trưng có giá trị null  \n",
        "    - bù đắp dữ liệu bằng giá trị trung bình hoặc giá trị trung vị hoặc sử dụng chiến lược bù đắp khác (phương thức .fillna())"
      ]
    },
    {
      "cell_type": "code",
      "execution_count": 8,
      "metadata": {
        "colab": {
          "base_uri": "https://localhost:8080/",
          "height": 303
        },
        "id": "sFD4B5t7sk2U",
        "outputId": "88d8a01b-7b2e-4f84-e176-aa97d3139471"
      },
      "outputs": [
        {
          "data": {
            "text/plain": [
              "InvoiceNo           0\n",
              "StockCode           0\n",
              "Description      1454\n",
              "Quantity            0\n",
              "UnitPrice           0\n",
              "CustomerID     135080\n",
              "Country             0\n",
              "dtype: int64"
            ]
          },
          "execution_count": 8,
          "metadata": {},
          "output_type": "execute_result"
        }
      ],
      "source": [
        "df.isnull().sum()"
      ]
    },
    {
      "cell_type": "markdown",
      "metadata": {
        "id": "7wUdfJcUsk2V"
      },
      "source": [
        "- CustomerID có quá nhiều giá trị null và đặc trưng này không thể dự đoán nhiều, vì vậy chúng ta có thể xóa nó.  \n",
        "- Việc tạo một đặc trưng khác \"Amount of orders per customer\" có thể là hợp lý."
      ]
    },
    {
      "cell_type": "code",
      "execution_count": 9,
      "metadata": {
        "id": "FXg8lLH5sk2W"
      },
      "outputs": [],
      "source": [
        "df = df.drop(columns=['CustomerID'])"
      ]
    },
    {
      "cell_type": "markdown",
      "metadata": {
        "id": "kn98dT_ssk2W"
      },
      "source": [
        "### Hãy kiểm tra xem chúng ta có loại null nào trong phần Description:\n"
      ]
    },
    {
      "cell_type": "code",
      "execution_count": 10,
      "metadata": {
        "colab": {
          "base_uri": "https://localhost:8080/",
          "height": 324
        },
        "id": "kC-HksrYsk2X",
        "outputId": "86136914-b114-466e-a98f-288bbe480ccf"
      },
      "outputs": [
        {
          "data": {
            "text/html": [
              "<div>\n",
              "<style scoped>\n",
              "    .dataframe tbody tr th:only-of-type {\n",
              "        vertical-align: middle;\n",
              "    }\n",
              "\n",
              "    .dataframe tbody tr th {\n",
              "        vertical-align: top;\n",
              "    }\n",
              "\n",
              "    .dataframe thead th {\n",
              "        text-align: right;\n",
              "    }\n",
              "</style>\n",
              "<table border=\"1\" class=\"dataframe\">\n",
              "  <thead>\n",
              "    <tr style=\"text-align: right;\">\n",
              "      <th></th>\n",
              "      <th>InvoiceNo</th>\n",
              "      <th>StockCode</th>\n",
              "      <th>Description</th>\n",
              "      <th>Quantity</th>\n",
              "      <th>UnitPrice</th>\n",
              "      <th>Country</th>\n",
              "    </tr>\n",
              "    <tr>\n",
              "      <th>InvoiceDate</th>\n",
              "      <th></th>\n",
              "      <th></th>\n",
              "      <th></th>\n",
              "      <th></th>\n",
              "      <th></th>\n",
              "      <th></th>\n",
              "    </tr>\n",
              "  </thead>\n",
              "  <tbody>\n",
              "    <tr>\n",
              "      <th>2010-12-01 11:52:00</th>\n",
              "      <td>536414</td>\n",
              "      <td>22139</td>\n",
              "      <td>NaN</td>\n",
              "      <td>56</td>\n",
              "      <td>0.0</td>\n",
              "      <td>United Kingdom</td>\n",
              "    </tr>\n",
              "    <tr>\n",
              "      <th>2010-12-01 14:32:00</th>\n",
              "      <td>536545</td>\n",
              "      <td>21134</td>\n",
              "      <td>NaN</td>\n",
              "      <td>1</td>\n",
              "      <td>0.0</td>\n",
              "      <td>United Kingdom</td>\n",
              "    </tr>\n",
              "    <tr>\n",
              "      <th>2010-12-01 14:33:00</th>\n",
              "      <td>536546</td>\n",
              "      <td>22145</td>\n",
              "      <td>NaN</td>\n",
              "      <td>1</td>\n",
              "      <td>0.0</td>\n",
              "      <td>United Kingdom</td>\n",
              "    </tr>\n",
              "    <tr>\n",
              "      <th>2010-12-01 14:33:00</th>\n",
              "      <td>536547</td>\n",
              "      <td>37509</td>\n",
              "      <td>NaN</td>\n",
              "      <td>1</td>\n",
              "      <td>0.0</td>\n",
              "      <td>United Kingdom</td>\n",
              "    </tr>\n",
              "    <tr>\n",
              "      <th>2010-12-01 14:34:00</th>\n",
              "      <td>536549</td>\n",
              "      <td>85226A</td>\n",
              "      <td>NaN</td>\n",
              "      <td>1</td>\n",
              "      <td>0.0</td>\n",
              "      <td>United Kingdom</td>\n",
              "    </tr>\n",
              "  </tbody>\n",
              "</table>\n",
              "</div>"
            ],
            "text/plain": [
              "                    InvoiceNo StockCode Description  Quantity  UnitPrice  \\\n",
              "InvoiceDate                                                                \n",
              "2010-12-01 11:52:00    536414     22139         NaN        56        0.0   \n",
              "2010-12-01 14:32:00    536545     21134         NaN         1        0.0   \n",
              "2010-12-01 14:33:00    536546     22145         NaN         1        0.0   \n",
              "2010-12-01 14:33:00    536547     37509         NaN         1        0.0   \n",
              "2010-12-01 14:34:00    536549    85226A         NaN         1        0.0   \n",
              "\n",
              "                            Country  \n",
              "InvoiceDate                          \n",
              "2010-12-01 11:52:00  United Kingdom  \n",
              "2010-12-01 14:32:00  United Kingdom  \n",
              "2010-12-01 14:33:00  United Kingdom  \n",
              "2010-12-01 14:33:00  United Kingdom  \n",
              "2010-12-01 14:34:00  United Kingdom  "
            ]
          },
          "execution_count": 10,
          "metadata": {},
          "output_type": "execute_result"
        }
      ],
      "source": [
        "df[df['Description'].isnull()].head()"
      ]
    },
    {
      "cell_type": "markdown",
      "metadata": {
        "id": "ggca4NgSsk2X"
      },
      "source": [
        "- Dữ liệu trong các hàng này khá kỳ lạ vì UnitPrice là 0, vì vậy những đơn hàng này không tạo ra doanh thu nào.\n",
        "- Chúng ta có thể bù đắp bằng \"UNKNOWN ITEM\" vào lúc này và xử lý chúng sau trong quá trình phân tích."
      ]
    },
    {
      "cell_type": "code",
      "execution_count": 11,
      "metadata": {
        "colab": {
          "base_uri": "https://localhost:8080/",
          "height": 272
        },
        "id": "_Eb9fz6tsk2X",
        "outputId": "b8e06c92-6623-4bc2-e236-98b0d5a59eb2"
      },
      "outputs": [
        {
          "data": {
            "text/plain": [
              "InvoiceNo      0\n",
              "StockCode      0\n",
              "Description    0\n",
              "Quantity       0\n",
              "UnitPrice      0\n",
              "Country        0\n",
              "dtype: int64"
            ]
          },
          "execution_count": 11,
          "metadata": {},
          "output_type": "execute_result"
        }
      ],
      "source": [
        "df['Description'] = df['Description'].fillna('UNKNOWN ITEM')\n",
        "df.isnull().sum()"
      ]
    },
    {
      "cell_type": "markdown",
      "metadata": {
        "id": "qgkg-9_Psk2X"
      },
      "source": [
        "### Kiểm tra từng cột riêng biệt  \n",
        "- Thật hợp lý khi đi từng đặc trưng và kiểm tra những cạm bẫy mà chúng ta có trong dữ liệu, cũng như hiểu rõ hơn về các con số.  \n",
        "\n",
        "- Hãy tiếp tục kiểm tra cột Description. Ở đây, chúng ta có thể thấy những mặt hàng đã được mua thường xuyên nhất."
      ]
    },
    {
      "cell_type": "code",
      "execution_count": 12,
      "metadata": {
        "colab": {
          "base_uri": "https://localhost:8080/",
          "height": 272
        },
        "id": "ikZ_1L8Bsk2X",
        "outputId": "12a5f3dd-aa7a-4b6a-d978-2efdae9b55dc"
      },
      "outputs": [
        {
          "data": {
            "text/plain": [
              "Description\n",
              "WHITE HANGING HEART T-LIGHT HOLDER    2369\n",
              "REGENCY CAKESTAND 3 TIER              2200\n",
              "JUMBO BAG RED RETROSPOT               2159\n",
              "PARTY BUNTING                         1727\n",
              "LUNCH BAG RED RETROSPOT               1638\n",
              "Name: count, dtype: int64"
            ]
          },
          "execution_count": 12,
          "metadata": {},
          "output_type": "execute_result"
        }
      ],
      "source": [
        "df['Description'].value_counts().head()"
      ]
    },
    {
      "cell_type": "markdown",
      "metadata": {
        "id": "F8T3xqK9sk2Y"
      },
      "source": [
        "- Ở đây, chúng ta có thể thấy các sản phẩm bán chạy nhất, những mặt hàng xuất hiện trong các đơn hàng thường xuyên nhất."
      ]
    },
    {
      "cell_type": "markdown",
      "metadata": {
        "id": "E0_3a5awsk2Y"
      },
      "source": [
        "# Để làm cho nó hấp dẫn hơn về mặt hình ảnh, chúng ta sẽ tạo một biểu đồ cột cho 15 mặt hàng hàng đầu."
      ]
    },
    {
      "cell_type": "code",
      "execution_count": 13,
      "metadata": {
        "colab": {
          "base_uri": "https://localhost:8080/",
          "height": 410
        },
        "id": "7yNlESFVsk2Z",
        "outputId": "4c3dfa7a-578c-47f9-a022-df4782f626de"
      },
      "outputs": [],
      "source": [
        "# Which items were bought more often?\n",
        "item_counts = df['Description'].value_counts().sort_values(ascending=False).iloc[0:15]\n",
        "plt.figure(figsize=(18,6))\n",
        "sns.barplot(x=item_counts.index, y=item_counts.values, palette=sns.cubehelix_palette(15))\n",
        "plt.ylabel(\"Counts\")\n",
        "plt.title(\"Which items were bought more often?\");\n",
        "plt.xticks(rotation=90);"
      ]
    },
    {
      "cell_type": "code",
      "execution_count": 14,
      "metadata": {
        "colab": {
          "base_uri": "https://localhost:8080/",
          "height": 272
        },
        "id": "vuLcdiKmsk2Z",
        "outputId": "d3fcf6a7-866e-414c-b60f-ae6114f59000"
      },
      "outputs": [
        {
          "data": {
            "text/plain": [
              "Description\n",
              "Missing                                1\n",
              "historic computer difference?....se    1\n",
              "DUSTY PINK CHRISTMAS TREE 30CM         1\n",
              "WRAP BLUE RUSSIAN FOLKART              1\n",
              "PINK BERTIE MOBILE PHONE CHARM         1\n",
              "Name: count, dtype: int64"
            ]
          },
          "execution_count": 14,
          "metadata": {},
          "output_type": "execute_result"
        }
      ],
      "source": [
        "df['Description'].value_counts().tail()"
      ]
    },
    {
      "cell_type": "markdown",
      "metadata": {
        "id": "FT-Qzq3Nsk2a"
      },
      "source": [
        "- Chúng ta cũng nhận thấy từ mã code ở trên rằng các mặt hàng hợp lệ thường là chữ in hoa và các mặt hàng không hợp lệ hoặc bị hủy là chữ thường."
      ]
    },
    {
      "cell_type": "code",
      "execution_count": 15,
      "metadata": {
        "colab": {
          "base_uri": "https://localhost:8080/",
          "height": 272
        },
        "id": "a77qtzsjsk2a",
        "outputId": "904f1907-7eab-428d-e5e9-3b5a7dcd6d93"
      },
      "outputs": [
        {
          "data": {
            "text/plain": [
              "Description\n",
              "Manual                                572\n",
              "BAG 125g SWIRLY MARBLES               304\n",
              "BAG 250g SWIRLY MARBLES               252\n",
              "3 TRADITIONAl BISCUIT CUTTERS  SET    240\n",
              "POLYESTER FILLER PAD 40x40cm          193\n",
              "Name: count, dtype: int64"
            ]
          },
          "execution_count": 15,
          "metadata": {},
          "output_type": "execute_result"
        }
      ],
      "source": [
        "df[~df['Description'].str.isupper()]['Description'].value_counts().head()"
      ]
    },
    {
      "cell_type": "markdown",
      "metadata": {
        "id": "kLhUuO1Zsk2b"
      },
      "source": [
        "- Kiểm tra nhanh về kiểu chữ trong Description cho thấy có một số mặt hàng có chữ thường trong tên của chúng và cũng cho thấy rằng các bản ghi chữ thường là cho những mặt hàng đã bị hủy.  \n",
        "- Ở đây, chúng ta có thể hiểu rằng việc quản lý dữ liệu trong cửa hàng có thể được cải thiện."
      ]
    },
    {
      "cell_type": "code",
      "execution_count": 16,
      "metadata": {
        "colab": {
          "base_uri": "https://localhost:8080/",
          "height": 407
        },
        "id": "c9yheKkdsk2b",
        "outputId": "e6fa72ad-2212-459d-e40a-ea974a9fa1ec"
      },
      "outputs": [],
      "source": [
        "# Not full upper case items\n",
        "lcase_counts = df[~df['Description'].str.isupper()]['Description'].value_counts().sort_values(ascending=False).iloc[0:15]\n",
        "plt.figure(figsize=(18,6))\n",
        "sns.barplot(x=lcase_counts.index, y=lcase_counts.values, palette=sns.color_palette(\"hls\", 15))\n",
        "plt.ylabel(\"Counts\")\n",
        "plt.title(\"Not full upper case items\");\n",
        "plt.xticks(rotation=90);"
      ]
    },
    {
      "cell_type": "markdown",
      "metadata": {
        "id": "GRDUO30isk2c"
      },
      "source": [
        "- Kiểm tra các stoke codes có vẻ như chúng có mối tương quan sâu sắc với descriptions - điều này thật hợp lý."
      ]
    },
    {
      "cell_type": "code",
      "execution_count": 17,
      "metadata": {
        "colab": {
          "base_uri": "https://localhost:8080/",
          "height": 272
        },
        "id": "DxDcXCCFsk2c",
        "outputId": "5d6e354c-443e-46a2-e1d4-13487fbd1624"
      },
      "outputs": [
        {
          "data": {
            "text/plain": [
              "StockCode\n",
              "85123A    2313\n",
              "22423     2203\n",
              "85099B    2159\n",
              "47566     1727\n",
              "20725     1639\n",
              "Name: count, dtype: int64"
            ]
          },
          "execution_count": 17,
          "metadata": {},
          "output_type": "execute_result"
        }
      ],
      "source": [
        "df['StockCode'].value_counts().head()"
      ]
    },
    {
      "cell_type": "code",
      "execution_count": 18,
      "metadata": {
        "colab": {
          "base_uri": "https://localhost:8080/",
          "height": 278
        },
        "id": "Gy-0Yj5osk2d",
        "outputId": "c77e4ac1-0d49-4576-9d77-4874718111d0"
      },
      "outputs": [],
      "source": [
        "# Which stock codes were used the most?\n",
        "stock_counts = df['StockCode'].value_counts().sort_values(ascending=False).iloc[0:15]\n",
        "plt.figure(figsize=(18,6))\n",
        "sns.barplot(x=stock_counts.index, y=stock_counts.values, palette=sns.color_palette(\"GnBu_d\"))\n",
        "plt.ylabel(\"Counts\")\n",
        "plt.title(\"Which stock codes were used the most?\");\n",
        "plt.xticks(rotation=90);"
      ]
    },
    {
      "cell_type": "markdown",
      "metadata": {
        "id": "h4bU7FxQsk2d"
      },
      "source": [
        "# Kiểm tra tương tự với cột InvoiceNo."
      ]
    },
    {
      "cell_type": "code",
      "execution_count": 19,
      "metadata": {
        "colab": {
          "base_uri": "https://localhost:8080/",
          "height": 272
        },
        "id": "PsYpgZK7sk2e",
        "outputId": "bb52f376-6b7e-40ee-d994-103c781fb765"
      },
      "outputs": [
        {
          "data": {
            "text/plain": [
              "InvoiceNo\n",
              "554023     1\n",
              "554022     1\n",
              "554021     1\n",
              "554020     1\n",
              "C558901    1\n",
              "Name: count, dtype: int64"
            ]
          },
          "execution_count": 19,
          "metadata": {},
          "output_type": "execute_result"
        }
      ],
      "source": [
        "df['InvoiceNo'].value_counts().tail()"
      ]
    },
    {
      "cell_type": "code",
      "execution_count": 20,
      "metadata": {
        "colab": {
          "base_uri": "https://localhost:8080/",
          "height": 277
        },
        "id": "D14yTwXxsk2e",
        "outputId": "83b57bf8-d64d-432a-c25a-440b4161bb5e"
      },
      "outputs": [],
      "source": [
        "#  Which invoices had the most items?\n",
        "inv_counts = df['InvoiceNo'].value_counts().sort_values(ascending=False).iloc[0:15]\n",
        "plt.figure(figsize=(18,6))\n",
        "sns.barplot(x=inv_counts.index, y=inv_counts.values, palette=sns.color_palette(\"BuGn_d\"))\n",
        "plt.ylabel(\"Counts\")\n",
        "plt.title(\"Which invoices had the most items?\");\n",
        "plt.xticks(rotation=90);"
      ]
    },
    {
      "cell_type": "code",
      "execution_count": 21,
      "metadata": {
        "colab": {
          "base_uri": "https://localhost:8080/",
          "height": 300
        },
        "id": "W1sVT-mbsk2o",
        "outputId": "5c502912-1121-4b33-86d9-714db235d5b7"
      },
      "outputs": [
        {
          "data": {
            "text/html": [
              "<div>\n",
              "<style scoped>\n",
              "    .dataframe tbody tr th:only-of-type {\n",
              "        vertical-align: middle;\n",
              "    }\n",
              "\n",
              "    .dataframe tbody tr th {\n",
              "        vertical-align: top;\n",
              "    }\n",
              "\n",
              "    .dataframe thead th {\n",
              "        text-align: right;\n",
              "    }\n",
              "</style>\n",
              "<table border=\"1\" class=\"dataframe\">\n",
              "  <thead>\n",
              "    <tr style=\"text-align: right;\">\n",
              "      <th></th>\n",
              "      <th>Quantity</th>\n",
              "      <th>UnitPrice</th>\n",
              "    </tr>\n",
              "  </thead>\n",
              "  <tbody>\n",
              "    <tr>\n",
              "      <th>count</th>\n",
              "      <td>9288.000000</td>\n",
              "      <td>9288.000000</td>\n",
              "    </tr>\n",
              "    <tr>\n",
              "      <th>mean</th>\n",
              "      <td>-29.885228</td>\n",
              "      <td>48.393661</td>\n",
              "    </tr>\n",
              "    <tr>\n",
              "      <th>std</th>\n",
              "      <td>1145.786965</td>\n",
              "      <td>666.600430</td>\n",
              "    </tr>\n",
              "    <tr>\n",
              "      <th>min</th>\n",
              "      <td>-80995.000000</td>\n",
              "      <td>0.010000</td>\n",
              "    </tr>\n",
              "    <tr>\n",
              "      <th>25%</th>\n",
              "      <td>-6.000000</td>\n",
              "      <td>1.450000</td>\n",
              "    </tr>\n",
              "    <tr>\n",
              "      <th>50%</th>\n",
              "      <td>-2.000000</td>\n",
              "      <td>2.950000</td>\n",
              "    </tr>\n",
              "    <tr>\n",
              "      <th>75%</th>\n",
              "      <td>-1.000000</td>\n",
              "      <td>5.950000</td>\n",
              "    </tr>\n",
              "    <tr>\n",
              "      <th>max</th>\n",
              "      <td>-1.000000</td>\n",
              "      <td>38970.000000</td>\n",
              "    </tr>\n",
              "  </tbody>\n",
              "</table>\n",
              "</div>"
            ],
            "text/plain": [
              "           Quantity     UnitPrice\n",
              "count   9288.000000   9288.000000\n",
              "mean     -29.885228     48.393661\n",
              "std     1145.786965    666.600430\n",
              "min   -80995.000000      0.010000\n",
              "25%       -6.000000      1.450000\n",
              "50%       -2.000000      2.950000\n",
              "75%       -1.000000      5.950000\n",
              "max       -1.000000  38970.000000"
            ]
          },
          "execution_count": 21,
          "metadata": {},
          "output_type": "execute_result"
        }
      ],
      "source": [
        "df[df['InvoiceNo'].str.startswith('C')].describe()"
      ]
    },
    {
      "cell_type": "markdown",
      "metadata": {
        "id": "qBakHS8Zsk2p"
      },
      "source": [
        "- Có vẻ như các Invoices bắt đầu bằng chữ 'C' là các hóa đơn \"Canceling\"/\"Returning\". Điều này giải quyết bí ẩn về số lượng âm.\n",
        "\n",
        "- Mặc dù vậy, chúng ta lẽ ra nên đi sâu hơn vào phân tích các trường hợp trả lại đó, nhưng vì đơn giản, hãy tạm thời bỏ qua những giá trị đó.\n",
        "\n",
        "- Chúng ta thực sự có thể bắt đầu một dự án riêng dựa trên dữ liệu đó và dự đoán tỷ lệ trả lại/hủy bỏ cho cửa hàng."
      ]
    },
    {
      "cell_type": "code",
      "execution_count": 22,
      "metadata": {
        "id": "cNvoJsMJsk2p"
      },
      "outputs": [],
      "source": [
        "df = df[~df['InvoiceNo'].str.startswith('C')]"
      ]
    },
    {
      "cell_type": "code",
      "execution_count": 23,
      "metadata": {
        "colab": {
          "base_uri": "https://localhost:8080/",
          "height": 300
        },
        "id": "GcnLVgIksk2q",
        "outputId": "28a3e193-2e92-458f-bf00-79dbace92399"
      },
      "outputs": [
        {
          "data": {
            "text/html": [
              "<div>\n",
              "<style scoped>\n",
              "    .dataframe tbody tr th:only-of-type {\n",
              "        vertical-align: middle;\n",
              "    }\n",
              "\n",
              "    .dataframe tbody tr th {\n",
              "        vertical-align: top;\n",
              "    }\n",
              "\n",
              "    .dataframe thead th {\n",
              "        text-align: right;\n",
              "    }\n",
              "</style>\n",
              "<table border=\"1\" class=\"dataframe\">\n",
              "  <thead>\n",
              "    <tr style=\"text-align: right;\">\n",
              "      <th></th>\n",
              "      <th>Quantity</th>\n",
              "      <th>UnitPrice</th>\n",
              "    </tr>\n",
              "  </thead>\n",
              "  <tbody>\n",
              "    <tr>\n",
              "      <th>count</th>\n",
              "      <td>532621.000000</td>\n",
              "      <td>532621.000000</td>\n",
              "    </tr>\n",
              "    <tr>\n",
              "      <th>mean</th>\n",
              "      <td>10.239972</td>\n",
              "      <td>3.847621</td>\n",
              "    </tr>\n",
              "    <tr>\n",
              "      <th>std</th>\n",
              "      <td>159.593551</td>\n",
              "      <td>41.758023</td>\n",
              "    </tr>\n",
              "    <tr>\n",
              "      <th>min</th>\n",
              "      <td>-9600.000000</td>\n",
              "      <td>-11062.060000</td>\n",
              "    </tr>\n",
              "    <tr>\n",
              "      <th>25%</th>\n",
              "      <td>1.000000</td>\n",
              "      <td>1.250000</td>\n",
              "    </tr>\n",
              "    <tr>\n",
              "      <th>50%</th>\n",
              "      <td>3.000000</td>\n",
              "      <td>2.080000</td>\n",
              "    </tr>\n",
              "    <tr>\n",
              "      <th>75%</th>\n",
              "      <td>10.000000</td>\n",
              "      <td>4.130000</td>\n",
              "    </tr>\n",
              "    <tr>\n",
              "      <th>max</th>\n",
              "      <td>80995.000000</td>\n",
              "      <td>13541.330000</td>\n",
              "    </tr>\n",
              "  </tbody>\n",
              "</table>\n",
              "</div>"
            ],
            "text/plain": [
              "            Quantity      UnitPrice\n",
              "count  532621.000000  532621.000000\n",
              "mean       10.239972       3.847621\n",
              "std       159.593551      41.758023\n",
              "min     -9600.000000  -11062.060000\n",
              "25%         1.000000       1.250000\n",
              "50%         3.000000       2.080000\n",
              "75%        10.000000       4.130000\n",
              "max     80995.000000   13541.330000"
            ]
          },
          "execution_count": 23,
          "metadata": {},
          "output_type": "execute_result"
        }
      ],
      "source": [
        "df.describe()"
      ]
    },
    {
      "cell_type": "markdown",
      "metadata": {
        "id": "PKwVkR24sk2q"
      },
      "source": [
        "- Trong phân tích dữ liệu khám phá, chúng ta có thể quay lại các thao tác và kiểm tra tương tự, chỉ để hiểu cách mà hành động của chúng ta ảnh hưởng đến tập dữ liệu.\n",
        "\n",
        "- EDA là chuỗi các nhiệm vụ lặp đi lặp lại để hiểu rõ hơn về dữ liệu của chúng ta.\n",
        "\n",
        "- Ở đây, ví dụ, chúng ta quay lại phương pháp .describe() để có cái nhìn tổng thể về dữ liệu của mình sau một số thao tác.\n",
        "\n",
        "- Chúng ta vẫn thấy số lượng âm và giá âm, hãy xem xét các bản ghi đó."
      ]
    },
    {
      "cell_type": "code",
      "execution_count": 24,
      "metadata": {
        "colab": {
          "base_uri": "https://localhost:8080/",
          "height": 324
        },
        "id": "A2ftYPU_sk2q",
        "outputId": "a293b3df-b4b3-4d50-ee13-1677e92cb858"
      },
      "outputs": [
        {
          "data": {
            "text/html": [
              "<div>\n",
              "<style scoped>\n",
              "    .dataframe tbody tr th:only-of-type {\n",
              "        vertical-align: middle;\n",
              "    }\n",
              "\n",
              "    .dataframe tbody tr th {\n",
              "        vertical-align: top;\n",
              "    }\n",
              "\n",
              "    .dataframe thead th {\n",
              "        text-align: right;\n",
              "    }\n",
              "</style>\n",
              "<table border=\"1\" class=\"dataframe\">\n",
              "  <thead>\n",
              "    <tr style=\"text-align: right;\">\n",
              "      <th></th>\n",
              "      <th>InvoiceNo</th>\n",
              "      <th>StockCode</th>\n",
              "      <th>Description</th>\n",
              "      <th>Quantity</th>\n",
              "      <th>UnitPrice</th>\n",
              "      <th>Country</th>\n",
              "    </tr>\n",
              "    <tr>\n",
              "      <th>InvoiceDate</th>\n",
              "      <th></th>\n",
              "      <th></th>\n",
              "      <th></th>\n",
              "      <th></th>\n",
              "      <th></th>\n",
              "      <th></th>\n",
              "    </tr>\n",
              "  </thead>\n",
              "  <tbody>\n",
              "    <tr>\n",
              "      <th>2010-12-01 16:50:00</th>\n",
              "      <td>536589</td>\n",
              "      <td>21777</td>\n",
              "      <td>UNKNOWN ITEM</td>\n",
              "      <td>-10</td>\n",
              "      <td>0.0</td>\n",
              "      <td>United Kingdom</td>\n",
              "    </tr>\n",
              "    <tr>\n",
              "      <th>2010-12-02 14:42:00</th>\n",
              "      <td>536764</td>\n",
              "      <td>84952C</td>\n",
              "      <td>UNKNOWN ITEM</td>\n",
              "      <td>-38</td>\n",
              "      <td>0.0</td>\n",
              "      <td>United Kingdom</td>\n",
              "    </tr>\n",
              "    <tr>\n",
              "      <th>2010-12-03 15:30:00</th>\n",
              "      <td>536996</td>\n",
              "      <td>22712</td>\n",
              "      <td>UNKNOWN ITEM</td>\n",
              "      <td>-20</td>\n",
              "      <td>0.0</td>\n",
              "      <td>United Kingdom</td>\n",
              "    </tr>\n",
              "    <tr>\n",
              "      <th>2010-12-03 15:30:00</th>\n",
              "      <td>536997</td>\n",
              "      <td>22028</td>\n",
              "      <td>UNKNOWN ITEM</td>\n",
              "      <td>-20</td>\n",
              "      <td>0.0</td>\n",
              "      <td>United Kingdom</td>\n",
              "    </tr>\n",
              "    <tr>\n",
              "      <th>2010-12-03 15:30:00</th>\n",
              "      <td>536998</td>\n",
              "      <td>85067</td>\n",
              "      <td>UNKNOWN ITEM</td>\n",
              "      <td>-6</td>\n",
              "      <td>0.0</td>\n",
              "      <td>United Kingdom</td>\n",
              "    </tr>\n",
              "  </tbody>\n",
              "</table>\n",
              "</div>"
            ],
            "text/plain": [
              "                    InvoiceNo StockCode   Description  Quantity  UnitPrice  \\\n",
              "InvoiceDate                                                                  \n",
              "2010-12-01 16:50:00    536589     21777  UNKNOWN ITEM       -10        0.0   \n",
              "2010-12-02 14:42:00    536764    84952C  UNKNOWN ITEM       -38        0.0   \n",
              "2010-12-03 15:30:00    536996     22712  UNKNOWN ITEM       -20        0.0   \n",
              "2010-12-03 15:30:00    536997     22028  UNKNOWN ITEM       -20        0.0   \n",
              "2010-12-03 15:30:00    536998     85067  UNKNOWN ITEM        -6        0.0   \n",
              "\n",
              "                            Country  \n",
              "InvoiceDate                          \n",
              "2010-12-01 16:50:00  United Kingdom  \n",
              "2010-12-02 14:42:00  United Kingdom  \n",
              "2010-12-03 15:30:00  United Kingdom  \n",
              "2010-12-03 15:30:00  United Kingdom  \n",
              "2010-12-03 15:30:00  United Kingdom  "
            ]
          },
          "execution_count": 24,
          "metadata": {},
          "output_type": "execute_result"
        }
      ],
      "source": [
        "# df[df['Quantity'] < 0]\n",
        "df[df['Quantity'] < 0].head()"
      ]
    },
    {
      "cell_type": "markdown",
      "metadata": {
        "id": "903JZDPWsk2r"
      },
      "source": [
        "- Ở đây, chúng ta có thể thấy rằng các \"Negative quantities\" khác dường như là các mặt hàng bị hỏng/mất/tình trạng không rõ ràng.  \n",
        "- Một lần nữa, chúng ta sẽ chỉ bỏ qua chúng vì sự đơn giản của phân tích cho dự án này."
      ]
    },
    {
      "cell_type": "code",
      "execution_count": 25,
      "metadata": {
        "colab": {
          "base_uri": "https://localhost:8080/",
          "height": 300
        },
        "id": "lQr0h1UJsk2r",
        "outputId": "fda067b5-301e-4ca8-db67-6eb4d7cda2f0"
      },
      "outputs": [
        {
          "data": {
            "text/html": [
              "<div>\n",
              "<style scoped>\n",
              "    .dataframe tbody tr th:only-of-type {\n",
              "        vertical-align: middle;\n",
              "    }\n",
              "\n",
              "    .dataframe tbody tr th {\n",
              "        vertical-align: top;\n",
              "    }\n",
              "\n",
              "    .dataframe thead th {\n",
              "        text-align: right;\n",
              "    }\n",
              "</style>\n",
              "<table border=\"1\" class=\"dataframe\">\n",
              "  <thead>\n",
              "    <tr style=\"text-align: right;\">\n",
              "      <th></th>\n",
              "      <th>Quantity</th>\n",
              "      <th>UnitPrice</th>\n",
              "    </tr>\n",
              "  </thead>\n",
              "  <tbody>\n",
              "    <tr>\n",
              "      <th>count</th>\n",
              "      <td>531285.000000</td>\n",
              "      <td>531285.000000</td>\n",
              "    </tr>\n",
              "    <tr>\n",
              "      <th>mean</th>\n",
              "      <td>10.655262</td>\n",
              "      <td>3.857296</td>\n",
              "    </tr>\n",
              "    <tr>\n",
              "      <th>std</th>\n",
              "      <td>156.830323</td>\n",
              "      <td>41.810047</td>\n",
              "    </tr>\n",
              "    <tr>\n",
              "      <th>min</th>\n",
              "      <td>1.000000</td>\n",
              "      <td>-11062.060000</td>\n",
              "    </tr>\n",
              "    <tr>\n",
              "      <th>25%</th>\n",
              "      <td>1.000000</td>\n",
              "      <td>1.250000</td>\n",
              "    </tr>\n",
              "    <tr>\n",
              "      <th>50%</th>\n",
              "      <td>3.000000</td>\n",
              "      <td>2.080000</td>\n",
              "    </tr>\n",
              "    <tr>\n",
              "      <th>75%</th>\n",
              "      <td>10.000000</td>\n",
              "      <td>4.130000</td>\n",
              "    </tr>\n",
              "    <tr>\n",
              "      <th>max</th>\n",
              "      <td>80995.000000</td>\n",
              "      <td>13541.330000</td>\n",
              "    </tr>\n",
              "  </tbody>\n",
              "</table>\n",
              "</div>"
            ],
            "text/plain": [
              "            Quantity      UnitPrice\n",
              "count  531285.000000  531285.000000\n",
              "mean       10.655262       3.857296\n",
              "std       156.830323      41.810047\n",
              "min         1.000000  -11062.060000\n",
              "25%         1.000000       1.250000\n",
              "50%         3.000000       2.080000\n",
              "75%        10.000000       4.130000\n",
              "max     80995.000000   13541.330000"
            ]
          },
          "execution_count": 25,
          "metadata": {},
          "output_type": "execute_result"
        }
      ],
      "source": [
        "df = df[df['Quantity'] > 0]\n",
        "df.describe()"
      ]
    },
    {
      "cell_type": "markdown",
      "metadata": {
        "id": "ACMu86zwsk2r"
      },
      "source": [
        "- Chúng ta cũng thấy giá đơn vị (UnitPrice) âm, điều này không bình thường.\n",
        "- Hãy kiểm tra điều này."
      ]
    },
    {
      "cell_type": "code",
      "execution_count": 26,
      "metadata": {
        "colab": {
          "base_uri": "https://localhost:8080/",
          "height": 300
        },
        "id": "m8TLJEm4sk2s",
        "outputId": "68c313cc-b95d-497e-9613-914e2d941d8e"
      },
      "outputs": [
        {
          "data": {
            "text/html": [
              "<div>\n",
              "<style scoped>\n",
              "    .dataframe tbody tr th:only-of-type {\n",
              "        vertical-align: middle;\n",
              "    }\n",
              "\n",
              "    .dataframe tbody tr th {\n",
              "        vertical-align: top;\n",
              "    }\n",
              "\n",
              "    .dataframe thead th {\n",
              "        text-align: right;\n",
              "    }\n",
              "</style>\n",
              "<table border=\"1\" class=\"dataframe\">\n",
              "  <thead>\n",
              "    <tr style=\"text-align: right;\">\n",
              "      <th></th>\n",
              "      <th>Quantity</th>\n",
              "      <th>UnitPrice</th>\n",
              "    </tr>\n",
              "  </thead>\n",
              "  <tbody>\n",
              "    <tr>\n",
              "      <th>count</th>\n",
              "      <td>2.0</td>\n",
              "      <td>2.00</td>\n",
              "    </tr>\n",
              "    <tr>\n",
              "      <th>mean</th>\n",
              "      <td>1.0</td>\n",
              "      <td>-11062.06</td>\n",
              "    </tr>\n",
              "    <tr>\n",
              "      <th>std</th>\n",
              "      <td>0.0</td>\n",
              "      <td>0.00</td>\n",
              "    </tr>\n",
              "    <tr>\n",
              "      <th>min</th>\n",
              "      <td>1.0</td>\n",
              "      <td>-11062.06</td>\n",
              "    </tr>\n",
              "    <tr>\n",
              "      <th>25%</th>\n",
              "      <td>1.0</td>\n",
              "      <td>-11062.06</td>\n",
              "    </tr>\n",
              "    <tr>\n",
              "      <th>50%</th>\n",
              "      <td>1.0</td>\n",
              "      <td>-11062.06</td>\n",
              "    </tr>\n",
              "    <tr>\n",
              "      <th>75%</th>\n",
              "      <td>1.0</td>\n",
              "      <td>-11062.06</td>\n",
              "    </tr>\n",
              "    <tr>\n",
              "      <th>max</th>\n",
              "      <td>1.0</td>\n",
              "      <td>-11062.06</td>\n",
              "    </tr>\n",
              "  </tbody>\n",
              "</table>\n",
              "</div>"
            ],
            "text/plain": [
              "       Quantity  UnitPrice\n",
              "count       2.0       2.00\n",
              "mean        1.0  -11062.06\n",
              "std         0.0       0.00\n",
              "min         1.0  -11062.06\n",
              "25%         1.0  -11062.06\n",
              "50%         1.0  -11062.06\n",
              "75%         1.0  -11062.06\n",
              "max         1.0  -11062.06"
            ]
          },
          "execution_count": 26,
          "metadata": {},
          "output_type": "execute_result"
        }
      ],
      "source": [
        "df[df['UnitPrice'] < 0].describe()"
      ]
    },
    {
      "cell_type": "code",
      "execution_count": 27,
      "metadata": {
        "colab": {
          "base_uri": "https://localhost:8080/",
          "height": 81
        },
        "id": "GB0GNhy3sk2s",
        "outputId": "293292be-7ad9-408a-96eb-015394c1fe4e"
      },
      "outputs": [
        {
          "data": {
            "text/html": [
              "<div>\n",
              "<style scoped>\n",
              "    .dataframe tbody tr th:only-of-type {\n",
              "        vertical-align: middle;\n",
              "    }\n",
              "\n",
              "    .dataframe tbody tr th {\n",
              "        vertical-align: top;\n",
              "    }\n",
              "\n",
              "    .dataframe thead th {\n",
              "        text-align: right;\n",
              "    }\n",
              "</style>\n",
              "<table border=\"1\" class=\"dataframe\">\n",
              "  <thead>\n",
              "    <tr style=\"text-align: right;\">\n",
              "      <th></th>\n",
              "      <th>InvoiceNo</th>\n",
              "      <th>StockCode</th>\n",
              "      <th>Description</th>\n",
              "      <th>Quantity</th>\n",
              "      <th>UnitPrice</th>\n",
              "      <th>Country</th>\n",
              "    </tr>\n",
              "    <tr>\n",
              "      <th>InvoiceDate</th>\n",
              "      <th></th>\n",
              "      <th></th>\n",
              "      <th></th>\n",
              "      <th></th>\n",
              "      <th></th>\n",
              "      <th></th>\n",
              "    </tr>\n",
              "  </thead>\n",
              "  <tbody>\n",
              "    <tr>\n",
              "      <th>2011-08-12 14:51:00</th>\n",
              "      <td>A563186</td>\n",
              "      <td>B</td>\n",
              "      <td>Adjust bad debt</td>\n",
              "      <td>1</td>\n",
              "      <td>-11062.06</td>\n",
              "      <td>United Kingdom</td>\n",
              "    </tr>\n",
              "    <tr>\n",
              "      <th>2011-08-12 14:52:00</th>\n",
              "      <td>A563187</td>\n",
              "      <td>B</td>\n",
              "      <td>Adjust bad debt</td>\n",
              "      <td>1</td>\n",
              "      <td>-11062.06</td>\n",
              "      <td>United Kingdom</td>\n",
              "    </tr>\n",
              "  </tbody>\n",
              "</table>\n",
              "</div>"
            ],
            "text/plain": [
              "                    InvoiceNo StockCode      Description  Quantity  UnitPrice  \\\n",
              "InvoiceDate                                                                     \n",
              "2011-08-12 14:51:00   A563186         B  Adjust bad debt         1  -11062.06   \n",
              "2011-08-12 14:52:00   A563187         B  Adjust bad debt         1  -11062.06   \n",
              "\n",
              "                            Country  \n",
              "InvoiceDate                          \n",
              "2011-08-12 14:51:00  United Kingdom  \n",
              "2011-08-12 14:52:00  United Kingdom  "
            ]
          },
          "execution_count": 27,
          "metadata": {},
          "output_type": "execute_result"
        }
      ],
      "source": [
        "df[df['UnitPrice'] == -11062.06]"
      ]
    },
    {
      "cell_type": "markdown",
      "metadata": {
        "id": "CTf_LyuYhMgv"
      },
      "source": []
    },
    {
      "cell_type": "markdown",
      "metadata": {
        "id": "5LmGRV8wsk2t"
      },
      "source": [
        "- As there are just two rows, let's ignore them for the moment (the description gives us enough warnings, although we still need some context to understand it better)"
      ]
    },
    {
      "cell_type": "code",
      "execution_count": 28,
      "metadata": {
        "colab": {
          "base_uri": "https://localhost:8080/",
          "height": 300
        },
        "id": "tTlmE12-sk2t",
        "outputId": "a9c2f537-3839-4465-d0ac-2a54f6c49786"
      },
      "outputs": [
        {
          "data": {
            "text/html": [
              "<div>\n",
              "<style scoped>\n",
              "    .dataframe tbody tr th:only-of-type {\n",
              "        vertical-align: middle;\n",
              "    }\n",
              "\n",
              "    .dataframe tbody tr th {\n",
              "        vertical-align: top;\n",
              "    }\n",
              "\n",
              "    .dataframe thead th {\n",
              "        text-align: right;\n",
              "    }\n",
              "</style>\n",
              "<table border=\"1\" class=\"dataframe\">\n",
              "  <thead>\n",
              "    <tr style=\"text-align: right;\">\n",
              "      <th></th>\n",
              "      <th>Quantity</th>\n",
              "      <th>UnitPrice</th>\n",
              "    </tr>\n",
              "  </thead>\n",
              "  <tbody>\n",
              "    <tr>\n",
              "      <th>count</th>\n",
              "      <td>530104.000000</td>\n",
              "      <td>530104.000000</td>\n",
              "    </tr>\n",
              "    <tr>\n",
              "      <th>mean</th>\n",
              "      <td>10.542037</td>\n",
              "      <td>3.907625</td>\n",
              "    </tr>\n",
              "    <tr>\n",
              "      <th>std</th>\n",
              "      <td>155.524124</td>\n",
              "      <td>35.915681</td>\n",
              "    </tr>\n",
              "    <tr>\n",
              "      <th>min</th>\n",
              "      <td>1.000000</td>\n",
              "      <td>0.001000</td>\n",
              "    </tr>\n",
              "    <tr>\n",
              "      <th>25%</th>\n",
              "      <td>1.000000</td>\n",
              "      <td>1.250000</td>\n",
              "    </tr>\n",
              "    <tr>\n",
              "      <th>50%</th>\n",
              "      <td>3.000000</td>\n",
              "      <td>2.080000</td>\n",
              "    </tr>\n",
              "    <tr>\n",
              "      <th>75%</th>\n",
              "      <td>10.000000</td>\n",
              "      <td>4.130000</td>\n",
              "    </tr>\n",
              "    <tr>\n",
              "      <th>max</th>\n",
              "      <td>80995.000000</td>\n",
              "      <td>13541.330000</td>\n",
              "    </tr>\n",
              "  </tbody>\n",
              "</table>\n",
              "</div>"
            ],
            "text/plain": [
              "            Quantity      UnitPrice\n",
              "count  530104.000000  530104.000000\n",
              "mean       10.542037       3.907625\n",
              "std       155.524124      35.915681\n",
              "min         1.000000       0.001000\n",
              "25%         1.000000       1.250000\n",
              "50%         3.000000       2.080000\n",
              "75%        10.000000       4.130000\n",
              "max     80995.000000   13541.330000"
            ]
          },
          "execution_count": 28,
          "metadata": {},
          "output_type": "execute_result"
        }
      ],
      "source": [
        "df = df[df['UnitPrice'] > 0]\n",
        "df.describe()"
      ]
    },
    {
      "cell_type": "markdown",
      "metadata": {
        "id": "W0U5ktGDsk2u"
      },
      "source": [
        "- Sau khi đã hoàn thành việc làm sạch dữ liệu và loại bỏ tất cả các bản ghi đáng ngờ, chúng ta có thể bắt đầu tạo một số đặc trưng mới cho mô hình của mình.\n",
        "- Bắt đầu với yếu tố hiển nhiên nhất - Doanh số bán hàng.\n",
        "- Chúng ta có số lượng, chúng ta có giá cả - chúng ta có thể tính toán doanh thu.\n"
      ]
    },
    {
      "cell_type": "markdown",
      "metadata": {
        "id": "bVvQlSeisk2v"
      },
      "source": [
        "# Visual EDA"
      ]
    },
    {
      "cell_type": "code",
      "execution_count": 29,
      "metadata": {
        "colab": {
          "base_uri": "https://localhost:8080/",
          "height": 729
        },
        "id": "s6xy8HTxsk2v",
        "outputId": "34e299a1-82fe-40e6-af21-94d229b07087"
      },
      "outputs": [
        {
          "data": {
            "text/plain": [
              "([0], [Text(0, 0, 'United Kingdom')])"
            ]
          },
          "execution_count": 29,
          "metadata": {},
          "output_type": "execute_result"
        }
      ],
      "source": [
        "plt.figure(figsize=(3,6))\n",
        "sns.countplot(x=df[df['Country'] == 'United Kingdom']['Country'])\n",
        "plt.xticks(rotation=90)"
      ]
    },
    {
      "cell_type": "code",
      "execution_count": 30,
      "metadata": {
        "colab": {
          "base_uri": "https://localhost:8080/",
          "height": 630
        },
        "id": "5e-2mfD4sk2v",
        "outputId": "0d2e0ce1-8f02-4ae9-9e2e-04da5a53e8c1"
      },
      "outputs": [
        {
          "data": {
            "text/plain": [
              "([0,\n",
              "  1,\n",
              "  2,\n",
              "  3,\n",
              "  4,\n",
              "  5,\n",
              "  6,\n",
              "  7,\n",
              "  8,\n",
              "  9,\n",
              "  10,\n",
              "  11,\n",
              "  12,\n",
              "  13,\n",
              "  14,\n",
              "  15,\n",
              "  16,\n",
              "  17,\n",
              "  18,\n",
              "  19,\n",
              "  20,\n",
              "  21,\n",
              "  22,\n",
              "  23,\n",
              "  24,\n",
              "  25,\n",
              "  26,\n",
              "  27,\n",
              "  28,\n",
              "  29,\n",
              "  30,\n",
              "  31,\n",
              "  32,\n",
              "  33,\n",
              "  34,\n",
              "  35,\n",
              "  36],\n",
              " [Text(0, 0, 'France'),\n",
              "  Text(1, 0, 'Australia'),\n",
              "  Text(2, 0, 'Netherlands'),\n",
              "  Text(3, 0, 'Germany'),\n",
              "  Text(4, 0, 'Norway'),\n",
              "  Text(5, 0, 'EIRE'),\n",
              "  Text(6, 0, 'Switzerland'),\n",
              "  Text(7, 0, 'Spain'),\n",
              "  Text(8, 0, 'Poland'),\n",
              "  Text(9, 0, 'Portugal'),\n",
              "  Text(10, 0, 'Italy'),\n",
              "  Text(11, 0, 'Belgium'),\n",
              "  Text(12, 0, 'Lithuania'),\n",
              "  Text(13, 0, 'Japan'),\n",
              "  Text(14, 0, 'Iceland'),\n",
              "  Text(15, 0, 'Channel Islands'),\n",
              "  Text(16, 0, 'Denmark'),\n",
              "  Text(17, 0, 'Cyprus'),\n",
              "  Text(18, 0, 'Sweden'),\n",
              "  Text(19, 0, 'Finland'),\n",
              "  Text(20, 0, 'Austria'),\n",
              "  Text(21, 0, 'Bahrain'),\n",
              "  Text(22, 0, 'Israel'),\n",
              "  Text(23, 0, 'Greece'),\n",
              "  Text(24, 0, 'Hong Kong'),\n",
              "  Text(25, 0, 'Singapore'),\n",
              "  Text(26, 0, 'Lebanon'),\n",
              "  Text(27, 0, 'United Arab Emirates'),\n",
              "  Text(28, 0, 'Saudi Arabia'),\n",
              "  Text(29, 0, 'Czech Republic'),\n",
              "  Text(30, 0, 'Canada'),\n",
              "  Text(31, 0, 'Unspecified'),\n",
              "  Text(32, 0, 'Brazil'),\n",
              "  Text(33, 0, 'USA'),\n",
              "  Text(34, 0, 'European Community'),\n",
              "  Text(35, 0, 'Malta'),\n",
              "  Text(36, 0, 'RSA')])"
            ]
          },
          "execution_count": 30,
          "metadata": {},
          "output_type": "execute_result"
        }
      ],
      "source": [
        "plt.figure(figsize=(18,6))\n",
        "sns.countplot(x=df[df['Country'] != 'United Kingdom']['Country'])\n",
        "plt.xticks(rotation=90)"
      ]
    },
    {
      "cell_type": "code",
      "execution_count": 31,
      "metadata": {
        "colab": {
          "base_uri": "https://localhost:8080/"
        },
        "id": "TVPSA_5qsk2x",
        "outputId": "4aac7e1b-8b3f-4c8e-a3a1-9a407a8056a6"
      },
      "outputs": [
        {
          "name": "stdout",
          "output_type": "stream",
          "text": [
            "91.51%\n"
          ]
        }
      ],
      "source": [
        "uk_count = df[df['Country'] == 'United Kingdom']['Country'].count()\n",
        "all_count = df['Country'].count()\n",
        "uk_perc = uk_count/all_count\n",
        "print(str('{0:.2f}%').format(uk_perc*100))"
      ]
    },
    {
      "cell_type": "markdown",
      "metadata": {
        "id": "whxfAP5ssk2x"
      },
      "source": [
        "- Từ các biểu đồ và tính toán ở trên, chúng ta có thể thấy rằng phần lớn doanh số bán hàng được thực hiện tại Vương quốc Anh và chỉ 8,49% được bán ra nước ngoài.\n",
        "- Chúng ta có thể nói rằng tập dữ liệu của mình bị lệch về phía Vương quốc Anh.  \n",
        "\n"
      ]
    },
    {
      "cell_type": "markdown",
      "metadata": {
        "id": "s8iY5Q92sk2y"
      },
      "source": [
        "# Phát hiện các giá trị ngoại lệ (Outliers)\n",
        "- Có một số phương pháp khác nhau để phát hiện giá trị ngoại lệ:\n",
        "\n",
        "    - biểu đồ hộp (box plots),\n",
        "    - sử dụng IQR (khoảng cách giữa các phần tư),\n",
        "    - biểu đồ phân tán (scatter plot) cũng hoạt động trong một số trường hợp (và đây là một trong số đó).\n",
        "\n"
      ]
    },
    {
      "cell_type": "markdown",
      "metadata": {
        "id": "3SCqDKu0sk2y"
      },
      "source": [
        "### Phát hiện giá trị ngoại lệ bằng biểu đồ phân tán (scatter plot) khá trực quan\n",
        "Bạn vẽ biểu đồ dữ liệu của mình và loại bỏ các điểm dữ liệu mà về mặt trực quan chắc chắn nằm ngoài phạm vi. Giống như trong biểu đồ dưới đây.  \n",
        "\n"
      ]
    },
    {
      "cell_type": "code",
      "execution_count": 32,
      "metadata": {
        "colab": {
          "base_uri": "https://localhost:8080/",
          "height": 244
        },
        "id": "0YGER4DYsk2y",
        "outputId": "ab23818e-8ea1-4e42-bfb6-4b6af263158d"
      },
      "outputs": [
        {
          "data": {
            "text/plain": [
              "<matplotlib.collections.PathCollection at 0x21f59ee1400>"
            ]
          },
          "execution_count": 32,
          "metadata": {},
          "output_type": "execute_result"
        }
      ],
      "source": [
        "plt.figure(figsize=(18,6))\n",
        "plt.scatter(x=df.index, y=df['UnitPrice'])"
      ]
    },
    {
      "cell_type": "markdown",
      "metadata": {
        "id": "9UtkcDR0sk2z"
      },
      "source": [
        "## Loại bỏ các giá trị ngoại lệ hiển nhiên:\n",
        "\n"
      ]
    },
    {
      "cell_type": "code",
      "execution_count": 33,
      "metadata": {
        "colab": {
          "base_uri": "https://localhost:8080/",
          "height": 495
        },
        "id": "IgQTUWcKsk2z",
        "outputId": "3d39598c-7b13-4caf-ed79-21f2e53d3963"
      },
      "outputs": [
        {
          "data": {
            "text/plain": [
              "(array([14975., 15034., 15095., 15156., 15218., 15279.]),\n",
              " [Text(14975.0, 0, '2011-01'),\n",
              "  Text(15034.0, 0, '2011-03'),\n",
              "  Text(15095.0, 0, '2011-05'),\n",
              "  Text(15156.0, 0, '2011-07'),\n",
              "  Text(15218.0, 0, '2011-09'),\n",
              "  Text(15279.0, 0, '2011-11')])"
            ]
          },
          "execution_count": 33,
          "metadata": {},
          "output_type": "execute_result"
        }
      ],
      "source": [
        "df = df[df['UnitPrice'] < 25000]\n",
        "plt.figure(figsize=(18,6))\n",
        "plt.scatter(x=df.index, y=df['UnitPrice'])\n",
        "plt.xticks(rotation=90)"
      ]
    },
    {
      "cell_type": "markdown",
      "metadata": {
        "id": "h7B7F9Fosk20"
      },
      "source": [
        "- Sau khi loại bỏ các giá trị ngoại lệ hiển nhiên, chúng ta vẫn thấy một số giá trị nằm ngoài phân phối bình thường (*normal distribution*).\n"
      ]
    },
    {
      "cell_type": "markdown",
      "metadata": {
        "id": "_XkvvsbJsk20"
      },
      "source": [
        "### Để hiểu rõ hơn về phân phối của dữ liệu, hãy kiểm tra các phần trăm (percentiles) khác nhau của các đặc trưng số (numeric features)."
      ]
    },
    {
      "cell_type": "code",
      "execution_count": 34,
      "metadata": {
        "colab": {
          "base_uri": "https://localhost:8080/",
          "height": 206
        },
        "id": "zLaeuDxhsk20",
        "outputId": "18f7dfa0-9557-447a-b172-01aee6555dfd"
      },
      "outputs": [
        {
          "data": {
            "text/html": [
              "<div>\n",
              "<style scoped>\n",
              "    .dataframe tbody tr th:only-of-type {\n",
              "        vertical-align: middle;\n",
              "    }\n",
              "\n",
              "    .dataframe tbody tr th {\n",
              "        vertical-align: top;\n",
              "    }\n",
              "\n",
              "    .dataframe thead th {\n",
              "        text-align: right;\n",
              "    }\n",
              "</style>\n",
              "<table border=\"1\" class=\"dataframe\">\n",
              "  <thead>\n",
              "    <tr style=\"text-align: right;\">\n",
              "      <th></th>\n",
              "      <th>Quantity</th>\n",
              "      <th>UnitPrice</th>\n",
              "    </tr>\n",
              "  </thead>\n",
              "  <tbody>\n",
              "    <tr>\n",
              "      <th>0.050</th>\n",
              "      <td>1.000</td>\n",
              "      <td>0.42</td>\n",
              "    </tr>\n",
              "    <tr>\n",
              "      <th>0.950</th>\n",
              "      <td>30.000</td>\n",
              "      <td>9.95</td>\n",
              "    </tr>\n",
              "    <tr>\n",
              "      <th>0.980</th>\n",
              "      <td>72.000</td>\n",
              "      <td>14.95</td>\n",
              "    </tr>\n",
              "    <tr>\n",
              "      <th>0.990</th>\n",
              "      <td>100.000</td>\n",
              "      <td>16.98</td>\n",
              "    </tr>\n",
              "    <tr>\n",
              "      <th>0.999</th>\n",
              "      <td>449.794</td>\n",
              "      <td>165.00</td>\n",
              "    </tr>\n",
              "  </tbody>\n",
              "</table>\n",
              "</div>"
            ],
            "text/plain": [
              "       Quantity  UnitPrice\n",
              "0.050     1.000       0.42\n",
              "0.950    30.000       9.95\n",
              "0.980    72.000      14.95\n",
              "0.990   100.000      16.98\n",
              "0.999   449.794     165.00"
            ]
          },
          "execution_count": 34,
          "metadata": {},
          "output_type": "execute_result"
        }
      ],
      "source": [
        "df.select_dtypes(include=[np.number]).quantile([0.05, 0.95, 0.98, 0.99, 0.999])"
      ]
    },
    {
      "cell_type": "markdown",
      "metadata": {
        "id": "UgQE4Z0fsk21"
      },
      "source": [
        "- Chúng ta có thể thấy rằng nếu loại bỏ 2% điểm dữ liệu trên cùng, chúng ta sẽ loại bỏ được các giá trị ngoại lệ tuyệt đối (absolute outliers) và có được một tập dữ liệu cân bằng hơn."
      ]
    },
    {
      "cell_type": "code",
      "execution_count": 35,
      "metadata": {
        "colab": {
          "base_uri": "https://localhost:8080/",
          "height": 769
        },
        "id": "eLrm60Xcsk22",
        "outputId": "9f055cf4-3cff-4beb-83b0-8d8d35f7463d"
      },
      "outputs": [
        {
          "data": {
            "text/plain": [
              "(array([14975., 15034., 15095., 15156., 15218., 15279.]),\n",
              " [Text(14975.0, 0, '2011-01'),\n",
              "  Text(15034.0, 0, '2011-03'),\n",
              "  Text(15095.0, 0, '2011-05'),\n",
              "  Text(15156.0, 0, '2011-07'),\n",
              "  Text(15218.0, 0, '2011-09'),\n",
              "  Text(15279.0, 0, '2011-11')])"
            ]
          },
          "execution_count": 35,
          "metadata": {},
          "output_type": "execute_result"
        }
      ],
      "source": [
        "df_quantile = df[df['UnitPrice'] < 125]\n",
        "plt.scatter(x=df_quantile.index, y=df_quantile['UnitPrice'])\n",
        "plt.xticks(rotation=90)"
      ]
    },
    {
      "cell_type": "code",
      "execution_count": 36,
      "metadata": {
        "colab": {
          "base_uri": "https://localhost:8080/",
          "height": 300
        },
        "id": "7rJgs5v1sk22",
        "outputId": "3f5aed94-7c4b-4a1b-f845-95444b2580ce"
      },
      "outputs": [
        {
          "data": {
            "text/html": [
              "<div>\n",
              "<style scoped>\n",
              "    .dataframe tbody tr th:only-of-type {\n",
              "        vertical-align: middle;\n",
              "    }\n",
              "\n",
              "    .dataframe tbody tr th {\n",
              "        vertical-align: top;\n",
              "    }\n",
              "\n",
              "    .dataframe thead th {\n",
              "        text-align: right;\n",
              "    }\n",
              "</style>\n",
              "<table border=\"1\" class=\"dataframe\">\n",
              "  <thead>\n",
              "    <tr style=\"text-align: right;\">\n",
              "      <th></th>\n",
              "      <th>Quantity</th>\n",
              "      <th>UnitPrice</th>\n",
              "    </tr>\n",
              "  </thead>\n",
              "  <tbody>\n",
              "    <tr>\n",
              "      <th>count</th>\n",
              "      <td>529361.000000</td>\n",
              "      <td>529361.000000</td>\n",
              "    </tr>\n",
              "    <tr>\n",
              "      <th>mean</th>\n",
              "      <td>10.555237</td>\n",
              "      <td>3.306499</td>\n",
              "    </tr>\n",
              "    <tr>\n",
              "      <th>std</th>\n",
              "      <td>155.632810</td>\n",
              "      <td>4.006631</td>\n",
              "    </tr>\n",
              "    <tr>\n",
              "      <th>min</th>\n",
              "      <td>1.000000</td>\n",
              "      <td>0.001000</td>\n",
              "    </tr>\n",
              "    <tr>\n",
              "      <th>25%</th>\n",
              "      <td>1.000000</td>\n",
              "      <td>1.250000</td>\n",
              "    </tr>\n",
              "    <tr>\n",
              "      <th>50%</th>\n",
              "      <td>3.000000</td>\n",
              "      <td>2.080000</td>\n",
              "    </tr>\n",
              "    <tr>\n",
              "      <th>75%</th>\n",
              "      <td>10.000000</td>\n",
              "      <td>4.130000</td>\n",
              "    </tr>\n",
              "    <tr>\n",
              "      <th>max</th>\n",
              "      <td>80995.000000</td>\n",
              "      <td>124.870000</td>\n",
              "    </tr>\n",
              "  </tbody>\n",
              "</table>\n",
              "</div>"
            ],
            "text/plain": [
              "            Quantity      UnitPrice\n",
              "count  529361.000000  529361.000000\n",
              "mean       10.555237       3.306499\n",
              "std       155.632810       4.006631\n",
              "min         1.000000       0.001000\n",
              "25%         1.000000       1.250000\n",
              "50%         3.000000       2.080000\n",
              "75%        10.000000       4.130000\n",
              "max     80995.000000     124.870000"
            ]
          },
          "execution_count": 36,
          "metadata": {},
          "output_type": "execute_result"
        }
      ],
      "source": [
        "df_quantile.describe()"
      ]
    },
    {
      "cell_type": "markdown",
      "metadata": {
        "id": "SZLumQ7Nsk23"
      },
      "source": [
        "- Có vẻ như dữ liệu của chúng ta gần như đã sẵn sàng cho việc mô hình hóa (*modeling*).  \n",
        "- Chúng ta đã thực hiện việc làm sạch dữ liệu (*clean up*), loại bỏ các giá trị ngoại lệ (*outliers*) làm xáo trộn cân bằng của tập dữ liệu, và loại bỏ các bản ghi không hợp lệ.  \n",
        "- Giờ đây, dữ liệu của chúng ta trông tốt hơn nhiều! Và nó vẫn giữ được giá trị của mình.  \n"
      ]
    },
    {
      "cell_type": "markdown",
      "metadata": {
        "id": "-FPoHRU7sk23"
      },
      "source": [
        "# Kiểm tra trực quan phân phối của các đặc trưng số (*numeric features*)\n"
      ]
    },
    {
      "cell_type": "code",
      "execution_count": 37,
      "metadata": {
        "colab": {
          "base_uri": "https://localhost:8080/",
          "height": 250
        },
        "id": "_Z2nk3zdsk24",
        "outputId": "b3a4a3c9-7247-40dc-f740-6674fbadf0ac"
      },
      "outputs": [
        {
          "data": {
            "text/plain": [
              "<Axes: ylabel='Density'>"
            ]
          },
          "execution_count": 37,
          "metadata": {},
          "output_type": "execute_result"
        }
      ],
      "source": [
        "plt.figure(figsize=(12,4))\n",
        "sns.distplot(df_quantile[df_quantile['UnitPrice'] < 10]['UnitPrice'].values, kde=True, bins=10)"
      ]
    },
    {
      "cell_type": "code",
      "execution_count": 38,
      "metadata": {
        "colab": {
          "base_uri": "https://localhost:8080/",
          "height": 250
        },
        "id": "5Aqd4Wyksk24",
        "outputId": "489edd95-b821-4597-c94b-29715d3107dc"
      },
      "outputs": [
        {
          "data": {
            "text/plain": [
              "<Axes: ylabel='Density'>"
            ]
          },
          "execution_count": 38,
          "metadata": {},
          "output_type": "execute_result"
        }
      ],
      "source": [
        "plt.figure(figsize=(12,4))\n",
        "sns.distplot(df_quantile[df_quantile['UnitPrice'] < 5]['UnitPrice'].values, kde=True, bins=10, color='green')"
      ]
    },
    {
      "cell_type": "markdown",
      "metadata": {
        "id": "XNMIHeLssk25"
      },
      "source": [
        "- Từ những biểu đồ histogram này, chúng ta có thể thấy rằng phần lớn các mặt hàng được bán trong cửa hàng này nằm trong khoảng giá thấp - từ 0 đến 3 bảng Anh (*pounds*).  "
      ]
    },
    {
      "cell_type": "code",
      "execution_count": 39,
      "metadata": {
        "colab": {
          "base_uri": "https://localhost:8080/",
          "height": 269
        },
        "id": "UQPfgaDpsk25",
        "outputId": "99e7d222-ec9d-4692-8c72-703d3d93a973"
      },
      "outputs": [
        {
          "data": {
            "text/plain": [
              "<Axes: xlabel='Quantity', ylabel='Density'>"
            ]
          },
          "execution_count": 39,
          "metadata": {},
          "output_type": "execute_result"
        }
      ],
      "source": [
        "plt.figure(figsize=(12,4))\n",
        "sns.distplot(df_quantile[df_quantile['Quantity'] <= 30]['Quantity'], kde=True, bins=10, color='red')"
      ]
    },
    {
      "cell_type": "code",
      "execution_count": 40,
      "metadata": {
        "colab": {
          "base_uri": "https://localhost:8080/",
          "height": 269
        },
        "id": "0iHLZHrFsk27",
        "outputId": "121c2188-dde4-4fed-89ac-6b58212825b2"
      },
      "outputs": [
        {
          "data": {
            "text/plain": [
              "<Axes: xlabel='Quantity', ylabel='Density'>"
            ]
          },
          "execution_count": 40,
          "metadata": {},
          "output_type": "execute_result"
        }
      ],
      "source": [
        "plt.figure(figsize=(12,4))\n",
        "sns.distplot(df_quantile[df_quantile['Quantity'] <= 15]['Quantity'], kde=True, bins=10, color='orange')"
      ]
    },
    {
      "cell_type": "markdown",
      "metadata": {
        "id": "6PgrGIkfsk28"
      },
      "source": [
        "- Từ các biểu đồ histogram này, chúng ta thấy rằng người mua thường chọn mua từ 1-5 mặt hàng hoặc 10-12 mặt hàng.  \n",
        "- Có thể đã có một số chương trình khuyến mãi theo bộ sản phẩm (*sets*)?\n",
        "\n"
      ]
    },
    {
      "cell_type": "code",
      "execution_count": 41,
      "metadata": {
        "colab": {
          "base_uri": "https://localhost:8080/",
          "height": 267
        },
        "id": "wvHNdnDYsk28",
        "outputId": "ad6df142-d444-4949-fdfa-14fdc80bc625"
      },
      "outputs": [
        {
          "data": {
            "text/plain": [
              "<Axes: xlabel='UnitPrice', ylabel='Density'>"
            ]
          },
          "execution_count": 41,
          "metadata": {},
          "output_type": "execute_result"
        }
      ],
      "source": [
        "plt.figure(figsize=(12,4))\n",
        "sns.distplot(df_quantile[df_quantile['UnitPrice'] < 60]['UnitPrice'], kde=True, bins=10, color='purple')"
      ]
    },
    {
      "cell_type": "code",
      "execution_count": 42,
      "metadata": {
        "colab": {
          "base_uri": "https://localhost:8080/",
          "height": 268
        },
        "id": "nb1xmwPOsk28",
        "outputId": "47191404-768e-489a-8047-14d6f7abefeb"
      },
      "outputs": [
        {
          "data": {
            "text/plain": [
              "<Axes: xlabel='UnitPrice', ylabel='Density'>"
            ]
          },
          "execution_count": 42,
          "metadata": {},
          "output_type": "execute_result"
        }
      ],
      "source": [
        "plt.figure(figsize=(12,4))\n",
        "sns.distplot(df_quantile[df_quantile['UnitPrice'] < 30]['UnitPrice'], kde=True, bins=10, color='grey')"
      ]
    },
    {
      "cell_type": "markdown",
      "metadata": {
        "id": "n351iWHEsk29"
      },
      "source": [
        "- Từ các biểu đồ histogram này, chúng ta có thể hiểu rằng phần lớn doanh số bán hàng cho mỗi đơn đặt hàng nằm trong khoảng 1-15 bảng Anh (*pounds*) mỗi đơn.  \n",
        "\n"
      ]
    },
    {
      "cell_type": "markdown",
      "metadata": {
        "id": "IAqT4Qhvsk29"
      },
      "source": [
        "# Phân tích doanh số theo thời gian (Analysing sales over time)"
      ]
    },
    {
      "cell_type": "code",
      "execution_count": 43,
      "metadata": {
        "colab": {
          "base_uri": "https://localhost:8080/",
          "height": 237
        },
        "id": "ToXoNTjtsk29",
        "outputId": "434b7c54-fd65-44ed-c57e-edf2905e8221"
      },
      "outputs": [
        {
          "data": {
            "text/html": [
              "<div>\n",
              "<style scoped>\n",
              "    .dataframe tbody tr th:only-of-type {\n",
              "        vertical-align: middle;\n",
              "    }\n",
              "\n",
              "    .dataframe tbody tr th {\n",
              "        vertical-align: top;\n",
              "    }\n",
              "\n",
              "    .dataframe thead th {\n",
              "        text-align: right;\n",
              "    }\n",
              "</style>\n",
              "<table border=\"1\" class=\"dataframe\">\n",
              "  <thead>\n",
              "    <tr style=\"text-align: right;\">\n",
              "      <th></th>\n",
              "      <th>UnitPrice</th>\n",
              "    </tr>\n",
              "    <tr>\n",
              "      <th>InvoiceDate</th>\n",
              "      <th></th>\n",
              "    </tr>\n",
              "  </thead>\n",
              "  <tbody>\n",
              "    <tr>\n",
              "      <th>2010-12-01 08:26:00</th>\n",
              "      <td>2.55</td>\n",
              "    </tr>\n",
              "    <tr>\n",
              "      <th>2010-12-01 08:26:00</th>\n",
              "      <td>3.39</td>\n",
              "    </tr>\n",
              "    <tr>\n",
              "      <th>2010-12-01 08:26:00</th>\n",
              "      <td>2.75</td>\n",
              "    </tr>\n",
              "    <tr>\n",
              "      <th>2010-12-01 08:26:00</th>\n",
              "      <td>3.39</td>\n",
              "    </tr>\n",
              "    <tr>\n",
              "      <th>2010-12-01 08:26:00</th>\n",
              "      <td>3.39</td>\n",
              "    </tr>\n",
              "  </tbody>\n",
              "</table>\n",
              "</div>"
            ],
            "text/plain": [
              "                     UnitPrice\n",
              "InvoiceDate                   \n",
              "2010-12-01 08:26:00       2.55\n",
              "2010-12-01 08:26:00       3.39\n",
              "2010-12-01 08:26:00       2.75\n",
              "2010-12-01 08:26:00       3.39\n",
              "2010-12-01 08:26:00       3.39"
            ]
          },
          "execution_count": 43,
          "metadata": {},
          "output_type": "execute_result"
        }
      ],
      "source": [
        "df_ts = df[['UnitPrice']]\n",
        "df_ts.head()"
      ]
    },
    {
      "cell_type": "markdown",
      "metadata": {
        "id": "K-G0Cb8bsk29"
      },
      "source": [
        "- Như chúng ta có thể thấy, mỗi hóa đơn đều có dấu thời gian (*timestamp*), chắc chắn dựa trên thời điểm đặt hàng.  \n",
        "- Chúng ta có thể lấy mẫu lại dữ liệu thời gian, ví dụ theo tuần, và thử kiểm tra xem có bất kỳ mẫu hình (*patterns*) nào trong doanh số bán hàng không.  \n"
      ]
    },
    {
      "cell_type": "code",
      "execution_count": 44,
      "metadata": {
        "colab": {
          "base_uri": "https://localhost:8080/",
          "height": 557
        },
        "id": "QASaal8Bsk2-",
        "outputId": "cd5e2e45-14f2-4fb6-a9d0-3fadc90701c3"
      },
      "outputs": [
        {
          "data": {
            "text/plain": [
              "<Axes: xlabel='InvoiceDate'>"
            ]
          },
          "execution_count": 44,
          "metadata": {},
          "output_type": "execute_result"
        }
      ],
      "source": [
        "plt.figure(figsize=(18,6))\n",
        "df_resample = df_ts.resample('W').sum()\n",
        "df_resample.plot()"
      ]
    },
    {
      "cell_type": "markdown",
      "metadata": {
        "id": "RODkdiKWsk2_"
      },
      "source": [
        "- Tuần với 0 doanh số bán hàng trong tháng 1 trông rất đáng ngờ, hãy kiểm tra kỹ hơn xem sao.\n",
        "\n"
      ]
    },
    {
      "cell_type": "code",
      "execution_count": 45,
      "metadata": {
        "colab": {
          "base_uri": "https://localhost:8080/",
          "height": 143
        },
        "id": "mz-bzLg9sk2_",
        "outputId": "99c12165-45ca-4ac2-ea3b-4d0f982c1596"
      },
      "outputs": [
        {
          "data": {
            "text/html": [
              "<div>\n",
              "<style scoped>\n",
              "    .dataframe tbody tr th:only-of-type {\n",
              "        vertical-align: middle;\n",
              "    }\n",
              "\n",
              "    .dataframe tbody tr th {\n",
              "        vertical-align: top;\n",
              "    }\n",
              "\n",
              "    .dataframe thead th {\n",
              "        text-align: right;\n",
              "    }\n",
              "</style>\n",
              "<table border=\"1\" class=\"dataframe\">\n",
              "  <thead>\n",
              "    <tr style=\"text-align: right;\">\n",
              "      <th></th>\n",
              "      <th>UnitPrice</th>\n",
              "    </tr>\n",
              "    <tr>\n",
              "      <th>InvoiceDate</th>\n",
              "      <th></th>\n",
              "    </tr>\n",
              "  </thead>\n",
              "  <tbody>\n",
              "    <tr>\n",
              "      <th>2010-12-05</th>\n",
              "      <td>38224.49</td>\n",
              "    </tr>\n",
              "    <tr>\n",
              "      <th>2010-12-12</th>\n",
              "      <td>88540.65</td>\n",
              "    </tr>\n",
              "    <tr>\n",
              "      <th>2010-12-19</th>\n",
              "      <td>47278.94</td>\n",
              "    </tr>\n",
              "    <tr>\n",
              "      <th>2010-12-26</th>\n",
              "      <td>25860.39</td>\n",
              "    </tr>\n",
              "    <tr>\n",
              "      <th>2011-01-02</th>\n",
              "      <td>0.00</td>\n",
              "    </tr>\n",
              "    <tr>\n",
              "      <th>2011-01-09</th>\n",
              "      <td>25072.03</td>\n",
              "    </tr>\n",
              "    <tr>\n",
              "      <th>2011-01-16</th>\n",
              "      <td>33919.09</td>\n",
              "    </tr>\n",
              "    <tr>\n",
              "      <th>2011-01-23</th>\n",
              "      <td>35064.34</td>\n",
              "    </tr>\n",
              "    <tr>\n",
              "      <th>2011-01-30</th>\n",
              "      <td>29676.45</td>\n",
              "    </tr>\n",
              "  </tbody>\n",
              "</table>\n",
              "</div>"
            ],
            "text/plain": [
              "             UnitPrice\n",
              "InvoiceDate           \n",
              "2010-12-05    38224.49\n",
              "2010-12-12    88540.65\n",
              "2010-12-19    47278.94\n",
              "2010-12-26    25860.39\n",
              "2011-01-02        0.00\n",
              "2011-01-09    25072.03\n",
              "2011-01-16    33919.09\n",
              "2011-01-23    35064.34\n",
              "2011-01-30    29676.45"
            ]
          },
          "execution_count": 45,
          "metadata": {},
          "output_type": "execute_result"
        }
      ],
      "source": [
        "df_resample['12-2010':'01-2011']"
      ]
    },
    {
      "cell_type": "markdown",
      "metadata": {
        "id": "8XTibyEvsk3A"
      },
      "source": [
        "- Giờ thì hợp lý rồi - có thể trong kỳ nghỉ lễ Tết Dương lịch (New Year holidays), cửa hàng đã đóng cửa và không xử lý đơn hàng, nên họ không có doanh số bán hàng nào."
      ]
    },
    {
      "cell_type": "markdown",
      "metadata": {
        "id": "mkv1mo6usk3A"
      },
      "source": [
        "# Chuẩn bị dữ liệu cho mô hình hóa và tạo đặc trưng (*feature creation*)\n",
        "\n",
        "- Giờ đến phần thú vị nhất của dự án - xây dựng mô hình (*modeling*).  \n",
        "- Để thực hiện điều này, chúng ta sẽ cần tạo thêm một số đặc trưng (*features*) mới để làm cho mô hình trở nên tinh vi và hiệu quả hơn.  \n"
      ]
    },
    {
      "cell_type": "code",
      "execution_count": 46,
      "metadata": {
        "colab": {
          "base_uri": "https://localhost:8080/",
          "height": 300
        },
        "id": "z1EfeYDKsk3A",
        "outputId": "1c470dc4-0588-4aac-cbb1-5e595313f482"
      },
      "outputs": [
        {
          "data": {
            "text/html": [
              "<div>\n",
              "<style scoped>\n",
              "    .dataframe tbody tr th:only-of-type {\n",
              "        vertical-align: middle;\n",
              "    }\n",
              "\n",
              "    .dataframe tbody tr th {\n",
              "        vertical-align: top;\n",
              "    }\n",
              "\n",
              "    .dataframe thead th {\n",
              "        text-align: right;\n",
              "    }\n",
              "</style>\n",
              "<table border=\"1\" class=\"dataframe\">\n",
              "  <thead>\n",
              "    <tr style=\"text-align: right;\">\n",
              "      <th></th>\n",
              "      <th>Quantity</th>\n",
              "      <th>UnitPrice</th>\n",
              "    </tr>\n",
              "  </thead>\n",
              "  <tbody>\n",
              "    <tr>\n",
              "      <th>count</th>\n",
              "      <td>520395.000000</td>\n",
              "      <td>520395.000000</td>\n",
              "    </tr>\n",
              "    <tr>\n",
              "      <th>mean</th>\n",
              "      <td>10.707578</td>\n",
              "      <td>2.978730</td>\n",
              "    </tr>\n",
              "    <tr>\n",
              "      <th>std</th>\n",
              "      <td>156.962876</td>\n",
              "      <td>2.669826</td>\n",
              "    </tr>\n",
              "    <tr>\n",
              "      <th>min</th>\n",
              "      <td>1.000000</td>\n",
              "      <td>0.001000</td>\n",
              "    </tr>\n",
              "    <tr>\n",
              "      <th>25%</th>\n",
              "      <td>1.000000</td>\n",
              "      <td>1.250000</td>\n",
              "    </tr>\n",
              "    <tr>\n",
              "      <th>50%</th>\n",
              "      <td>4.000000</td>\n",
              "      <td>2.080000</td>\n",
              "    </tr>\n",
              "    <tr>\n",
              "      <th>75%</th>\n",
              "      <td>12.000000</td>\n",
              "      <td>4.130000</td>\n",
              "    </tr>\n",
              "    <tr>\n",
              "      <th>max</th>\n",
              "      <td>80995.000000</td>\n",
              "      <td>14.960000</td>\n",
              "    </tr>\n",
              "  </tbody>\n",
              "</table>\n",
              "</div>"
            ],
            "text/plain": [
              "            Quantity      UnitPrice\n",
              "count  520395.000000  520395.000000\n",
              "mean       10.707578       2.978730\n",
              "std       156.962876       2.669826\n",
              "min         1.000000       0.001000\n",
              "25%         1.000000       1.250000\n",
              "50%         4.000000       2.080000\n",
              "75%        12.000000       4.130000\n",
              "max     80995.000000      14.960000"
            ]
          },
          "execution_count": 46,
          "metadata": {},
          "output_type": "execute_result"
        }
      ],
      "source": [
        "df_clean = df[df['UnitPrice'] < 15]\n",
        "df_clean.describe()"
      ]
    },
    {
      "cell_type": "code",
      "execution_count": 47,
      "metadata": {
        "colab": {
          "base_uri": "https://localhost:8080/"
        },
        "id": "BwrRkToNsk3B",
        "outputId": "40cac75a-dd86-482a-880a-fc3517abe410"
      },
      "outputs": [
        {
          "data": {
            "text/plain": [
              "DatetimeIndex(['2010-12-01 08:26:00', '2010-12-01 08:26:00',\n",
              "               '2010-12-01 08:26:00', '2010-12-01 08:26:00',\n",
              "               '2010-12-01 08:26:00', '2010-12-01 08:26:00',\n",
              "               '2010-12-01 08:26:00', '2010-12-01 08:28:00',\n",
              "               '2010-12-01 08:28:00', '2010-12-01 08:34:00',\n",
              "               ...\n",
              "               '2011-12-09 12:50:00', '2011-12-09 12:50:00',\n",
              "               '2011-12-09 12:50:00', '2011-12-09 12:50:00',\n",
              "               '2011-12-09 12:50:00', '2011-12-09 12:50:00',\n",
              "               '2011-12-09 12:50:00', '2011-12-09 12:50:00',\n",
              "               '2011-12-09 12:50:00', '2011-12-09 12:50:00'],\n",
              "              dtype='datetime64[ns]', name='InvoiceDate', length=520395, freq=None)"
            ]
          },
          "execution_count": 47,
          "metadata": {},
          "output_type": "execute_result"
        }
      ],
      "source": [
        "df_clean.index"
      ]
    },
    {
      "cell_type": "markdown",
      "metadata": {
        "id": "2Eo94Nkmsk3C"
      },
      "source": [
        "# Đặc trưng \"Số lượng trên mỗi hóa đơn\" (*Quantity per invoice*)\n",
        "\n",
        "- Một feature có thể ảnh hưởng đến kết quả doanh số (sales output) là \"Số lượng trên mỗi hóa đơn\" (Quantity per invoice). Cùng tìm dữ liệu cho đặc trưng này.\n"
      ]
    },
    {
      "cell_type": "code",
      "execution_count": 48,
      "metadata": {
        "id": "ZVxCP0pssk3C"
      },
      "outputs": [],
      "source": [
        "df_join = df_clean.groupby('InvoiceNo')[['Quantity']].sum()"
      ]
    },
    {
      "cell_type": "code",
      "execution_count": 49,
      "metadata": {
        "colab": {
          "base_uri": "https://localhost:8080/",
          "height": 206
        },
        "id": "R6Z1aUJesk3C",
        "outputId": "7459a793-d533-4e3d-a5fe-1c228a3bada6"
      },
      "outputs": [
        {
          "data": {
            "text/html": [
              "<div>\n",
              "<style scoped>\n",
              "    .dataframe tbody tr th:only-of-type {\n",
              "        vertical-align: middle;\n",
              "    }\n",
              "\n",
              "    .dataframe tbody tr th {\n",
              "        vertical-align: top;\n",
              "    }\n",
              "\n",
              "    .dataframe thead th {\n",
              "        text-align: right;\n",
              "    }\n",
              "</style>\n",
              "<table border=\"1\" class=\"dataframe\">\n",
              "  <thead>\n",
              "    <tr style=\"text-align: right;\">\n",
              "      <th></th>\n",
              "      <th>InvoiceNo</th>\n",
              "      <th>Quantity</th>\n",
              "    </tr>\n",
              "  </thead>\n",
              "  <tbody>\n",
              "    <tr>\n",
              "      <th>0</th>\n",
              "      <td>536365</td>\n",
              "      <td>40</td>\n",
              "    </tr>\n",
              "    <tr>\n",
              "      <th>1</th>\n",
              "      <td>536366</td>\n",
              "      <td>12</td>\n",
              "    </tr>\n",
              "    <tr>\n",
              "      <th>2</th>\n",
              "      <td>536367</td>\n",
              "      <td>83</td>\n",
              "    </tr>\n",
              "    <tr>\n",
              "      <th>3</th>\n",
              "      <td>536368</td>\n",
              "      <td>15</td>\n",
              "    </tr>\n",
              "    <tr>\n",
              "      <th>4</th>\n",
              "      <td>536369</td>\n",
              "      <td>3</td>\n",
              "    </tr>\n",
              "  </tbody>\n",
              "</table>\n",
              "</div>"
            ],
            "text/plain": [
              "  InvoiceNo  Quantity\n",
              "0    536365        40\n",
              "1    536366        12\n",
              "2    536367        83\n",
              "3    536368        15\n",
              "4    536369         3"
            ]
          },
          "execution_count": 49,
          "metadata": {},
          "output_type": "execute_result"
        }
      ],
      "source": [
        "df_join = df_join.reset_index()\n",
        "df_join.head()"
      ]
    },
    {
      "cell_type": "code",
      "execution_count": 50,
      "metadata": {
        "colab": {
          "base_uri": "https://localhost:8080/",
          "height": 1000
        },
        "id": "D0ZUs_bTsk3D",
        "outputId": "29b9a029-ce37-413e-dc44-e385702037e3"
      },
      "outputs": [
        {
          "data": {
            "text/html": [
              "<div>\n",
              "<style scoped>\n",
              "    .dataframe tbody tr th:only-of-type {\n",
              "        vertical-align: middle;\n",
              "    }\n",
              "\n",
              "    .dataframe tbody tr th {\n",
              "        vertical-align: top;\n",
              "    }\n",
              "\n",
              "    .dataframe thead th {\n",
              "        text-align: right;\n",
              "    }\n",
              "</style>\n",
              "<table border=\"1\" class=\"dataframe\">\n",
              "  <thead>\n",
              "    <tr style=\"text-align: right;\">\n",
              "      <th></th>\n",
              "      <th>InvoiceNo</th>\n",
              "      <th>StockCode</th>\n",
              "      <th>Description</th>\n",
              "      <th>Quantity</th>\n",
              "      <th>UnitPrice</th>\n",
              "      <th>Country</th>\n",
              "      <th>InvoiceDate</th>\n",
              "      <th>QuantityInv</th>\n",
              "    </tr>\n",
              "  </thead>\n",
              "  <tbody>\n",
              "    <tr>\n",
              "      <th>520380</th>\n",
              "      <td>581587</td>\n",
              "      <td>22631</td>\n",
              "      <td>CIRCUS PARADE LUNCH BOX</td>\n",
              "      <td>12</td>\n",
              "      <td>1.95</td>\n",
              "      <td>France</td>\n",
              "      <td>2011-12-09 12:50:00</td>\n",
              "      <td>105</td>\n",
              "    </tr>\n",
              "    <tr>\n",
              "      <th>520381</th>\n",
              "      <td>581587</td>\n",
              "      <td>22556</td>\n",
              "      <td>PLASTERS IN TIN CIRCUS PARADE</td>\n",
              "      <td>12</td>\n",
              "      <td>1.65</td>\n",
              "      <td>France</td>\n",
              "      <td>2011-12-09 12:50:00</td>\n",
              "      <td>105</td>\n",
              "    </tr>\n",
              "    <tr>\n",
              "      <th>520382</th>\n",
              "      <td>581587</td>\n",
              "      <td>22555</td>\n",
              "      <td>PLASTERS IN TIN STRONGMAN</td>\n",
              "      <td>12</td>\n",
              "      <td>1.65</td>\n",
              "      <td>France</td>\n",
              "      <td>2011-12-09 12:50:00</td>\n",
              "      <td>105</td>\n",
              "    </tr>\n",
              "    <tr>\n",
              "      <th>520383</th>\n",
              "      <td>581587</td>\n",
              "      <td>22728</td>\n",
              "      <td>ALARM CLOCK BAKELIKE PINK</td>\n",
              "      <td>4</td>\n",
              "      <td>3.75</td>\n",
              "      <td>France</td>\n",
              "      <td>2011-12-09 12:50:00</td>\n",
              "      <td>105</td>\n",
              "    </tr>\n",
              "    <tr>\n",
              "      <th>520384</th>\n",
              "      <td>581587</td>\n",
              "      <td>22727</td>\n",
              "      <td>ALARM CLOCK BAKELIKE RED</td>\n",
              "      <td>4</td>\n",
              "      <td>3.75</td>\n",
              "      <td>France</td>\n",
              "      <td>2011-12-09 12:50:00</td>\n",
              "      <td>105</td>\n",
              "    </tr>\n",
              "    <tr>\n",
              "      <th>520385</th>\n",
              "      <td>581587</td>\n",
              "      <td>22726</td>\n",
              "      <td>ALARM CLOCK BAKELIKE GREEN</td>\n",
              "      <td>4</td>\n",
              "      <td>3.75</td>\n",
              "      <td>France</td>\n",
              "      <td>2011-12-09 12:50:00</td>\n",
              "      <td>105</td>\n",
              "    </tr>\n",
              "    <tr>\n",
              "      <th>520386</th>\n",
              "      <td>581587</td>\n",
              "      <td>22730</td>\n",
              "      <td>ALARM CLOCK BAKELIKE IVORY</td>\n",
              "      <td>4</td>\n",
              "      <td>3.75</td>\n",
              "      <td>France</td>\n",
              "      <td>2011-12-09 12:50:00</td>\n",
              "      <td>105</td>\n",
              "    </tr>\n",
              "    <tr>\n",
              "      <th>520387</th>\n",
              "      <td>581587</td>\n",
              "      <td>22367</td>\n",
              "      <td>CHILDRENS APRON SPACEBOY DESIGN</td>\n",
              "      <td>8</td>\n",
              "      <td>1.95</td>\n",
              "      <td>France</td>\n",
              "      <td>2011-12-09 12:50:00</td>\n",
              "      <td>105</td>\n",
              "    </tr>\n",
              "    <tr>\n",
              "      <th>520388</th>\n",
              "      <td>581587</td>\n",
              "      <td>22629</td>\n",
              "      <td>SPACEBOY LUNCH BOX</td>\n",
              "      <td>12</td>\n",
              "      <td>1.95</td>\n",
              "      <td>France</td>\n",
              "      <td>2011-12-09 12:50:00</td>\n",
              "      <td>105</td>\n",
              "    </tr>\n",
              "    <tr>\n",
              "      <th>520389</th>\n",
              "      <td>581587</td>\n",
              "      <td>23256</td>\n",
              "      <td>CHILDRENS CUTLERY SPACEBOY</td>\n",
              "      <td>4</td>\n",
              "      <td>4.15</td>\n",
              "      <td>France</td>\n",
              "      <td>2011-12-09 12:50:00</td>\n",
              "      <td>105</td>\n",
              "    </tr>\n",
              "    <tr>\n",
              "      <th>520390</th>\n",
              "      <td>581587</td>\n",
              "      <td>22613</td>\n",
              "      <td>PACK OF 20 SPACEBOY NAPKINS</td>\n",
              "      <td>12</td>\n",
              "      <td>0.85</td>\n",
              "      <td>France</td>\n",
              "      <td>2011-12-09 12:50:00</td>\n",
              "      <td>105</td>\n",
              "    </tr>\n",
              "    <tr>\n",
              "      <th>520391</th>\n",
              "      <td>581587</td>\n",
              "      <td>22899</td>\n",
              "      <td>CHILDREN'S APRON DOLLY GIRL</td>\n",
              "      <td>6</td>\n",
              "      <td>2.10</td>\n",
              "      <td>France</td>\n",
              "      <td>2011-12-09 12:50:00</td>\n",
              "      <td>105</td>\n",
              "    </tr>\n",
              "    <tr>\n",
              "      <th>520392</th>\n",
              "      <td>581587</td>\n",
              "      <td>23254</td>\n",
              "      <td>CHILDRENS CUTLERY DOLLY GIRL</td>\n",
              "      <td>4</td>\n",
              "      <td>4.15</td>\n",
              "      <td>France</td>\n",
              "      <td>2011-12-09 12:50:00</td>\n",
              "      <td>105</td>\n",
              "    </tr>\n",
              "    <tr>\n",
              "      <th>520393</th>\n",
              "      <td>581587</td>\n",
              "      <td>23255</td>\n",
              "      <td>CHILDRENS CUTLERY CIRCUS PARADE</td>\n",
              "      <td>4</td>\n",
              "      <td>4.15</td>\n",
              "      <td>France</td>\n",
              "      <td>2011-12-09 12:50:00</td>\n",
              "      <td>105</td>\n",
              "    </tr>\n",
              "    <tr>\n",
              "      <th>520394</th>\n",
              "      <td>581587</td>\n",
              "      <td>22138</td>\n",
              "      <td>BAKING SET 9 PIECE RETROSPOT</td>\n",
              "      <td>3</td>\n",
              "      <td>4.95</td>\n",
              "      <td>France</td>\n",
              "      <td>2011-12-09 12:50:00</td>\n",
              "      <td>105</td>\n",
              "    </tr>\n",
              "  </tbody>\n",
              "</table>\n",
              "</div>"
            ],
            "text/plain": [
              "       InvoiceNo StockCode                      Description  Quantity  \\\n",
              "520380    581587     22631         CIRCUS PARADE LUNCH BOX         12   \n",
              "520381    581587     22556   PLASTERS IN TIN CIRCUS PARADE         12   \n",
              "520382    581587     22555        PLASTERS IN TIN STRONGMAN        12   \n",
              "520383    581587     22728        ALARM CLOCK BAKELIKE PINK         4   \n",
              "520384    581587     22727        ALARM CLOCK BAKELIKE RED          4   \n",
              "520385    581587     22726       ALARM CLOCK BAKELIKE GREEN         4   \n",
              "520386    581587     22730       ALARM CLOCK BAKELIKE IVORY         4   \n",
              "520387    581587     22367  CHILDRENS APRON SPACEBOY DESIGN         8   \n",
              "520388    581587     22629              SPACEBOY LUNCH BOX         12   \n",
              "520389    581587     23256      CHILDRENS CUTLERY SPACEBOY          4   \n",
              "520390    581587     22613      PACK OF 20 SPACEBOY NAPKINS        12   \n",
              "520391    581587     22899     CHILDREN'S APRON DOLLY GIRL          6   \n",
              "520392    581587     23254    CHILDRENS CUTLERY DOLLY GIRL          4   \n",
              "520393    581587     23255  CHILDRENS CUTLERY CIRCUS PARADE         4   \n",
              "520394    581587     22138    BAKING SET 9 PIECE RETROSPOT          3   \n",
              "\n",
              "        UnitPrice Country         InvoiceDate  QuantityInv  \n",
              "520380       1.95  France 2011-12-09 12:50:00          105  \n",
              "520381       1.65  France 2011-12-09 12:50:00          105  \n",
              "520382       1.65  France 2011-12-09 12:50:00          105  \n",
              "520383       3.75  France 2011-12-09 12:50:00          105  \n",
              "520384       3.75  France 2011-12-09 12:50:00          105  \n",
              "520385       3.75  France 2011-12-09 12:50:00          105  \n",
              "520386       3.75  France 2011-12-09 12:50:00          105  \n",
              "520387       1.95  France 2011-12-09 12:50:00          105  \n",
              "520388       1.95  France 2011-12-09 12:50:00          105  \n",
              "520389       4.15  France 2011-12-09 12:50:00          105  \n",
              "520390       0.85  France 2011-12-09 12:50:00          105  \n",
              "520391       2.10  France 2011-12-09 12:50:00          105  \n",
              "520392       4.15  France 2011-12-09 12:50:00          105  \n",
              "520393       4.15  France 2011-12-09 12:50:00          105  \n",
              "520394       4.95  France 2011-12-09 12:50:00          105  "
            ]
          },
          "execution_count": 50,
          "metadata": {},
          "output_type": "execute_result"
        }
      ],
      "source": [
        "df_clean['InvoiceDate'] = df_clean.index\n",
        "df_clean = df_clean.merge(df_join, how='left', on='InvoiceNo')\n",
        "df_clean = df_clean.rename(columns={'Quantity_x' : 'Quantity', 'Quantity_y' : 'QuantityInv'})\n",
        "df_clean.tail(15)"
      ]
    },
    {
      "cell_type": "code",
      "execution_count": 51,
      "metadata": {
        "colab": {
          "base_uri": "https://localhost:8080/",
          "height": 300
        },
        "id": "uHpF8N3xsk3D",
        "outputId": "55aa4381-771f-4650-c1d8-73d84f92d0d6"
      },
      "outputs": [
        {
          "data": {
            "text/html": [
              "<div>\n",
              "<style scoped>\n",
              "    .dataframe tbody tr th:only-of-type {\n",
              "        vertical-align: middle;\n",
              "    }\n",
              "\n",
              "    .dataframe tbody tr th {\n",
              "        vertical-align: top;\n",
              "    }\n",
              "\n",
              "    .dataframe thead th {\n",
              "        text-align: right;\n",
              "    }\n",
              "</style>\n",
              "<table border=\"1\" class=\"dataframe\">\n",
              "  <thead>\n",
              "    <tr style=\"text-align: right;\">\n",
              "      <th></th>\n",
              "      <th>Quantity</th>\n",
              "      <th>UnitPrice</th>\n",
              "      <th>InvoiceDate</th>\n",
              "      <th>QuantityInv</th>\n",
              "    </tr>\n",
              "  </thead>\n",
              "  <tbody>\n",
              "    <tr>\n",
              "      <th>count</th>\n",
              "      <td>520395.000000</td>\n",
              "      <td>520395.000000</td>\n",
              "      <td>520395</td>\n",
              "      <td>520395.000000</td>\n",
              "    </tr>\n",
              "    <tr>\n",
              "      <th>mean</th>\n",
              "      <td>10.707578</td>\n",
              "      <td>2.978730</td>\n",
              "      <td>2011-07-05 01:44:16.782867456</td>\n",
              "      <td>533.624937</td>\n",
              "    </tr>\n",
              "    <tr>\n",
              "      <th>min</th>\n",
              "      <td>1.000000</td>\n",
              "      <td>0.001000</td>\n",
              "      <td>2010-12-01 08:26:00</td>\n",
              "      <td>1.000000</td>\n",
              "    </tr>\n",
              "    <tr>\n",
              "      <th>25%</th>\n",
              "      <td>1.000000</td>\n",
              "      <td>1.250000</td>\n",
              "      <td>2011-03-28 13:28:00</td>\n",
              "      <td>152.000000</td>\n",
              "    </tr>\n",
              "    <tr>\n",
              "      <th>50%</th>\n",
              "      <td>4.000000</td>\n",
              "      <td>2.080000</td>\n",
              "      <td>2011-07-20 16:12:00</td>\n",
              "      <td>300.000000</td>\n",
              "    </tr>\n",
              "    <tr>\n",
              "      <th>75%</th>\n",
              "      <td>12.000000</td>\n",
              "      <td>4.130000</td>\n",
              "      <td>2011-10-19 13:58:00</td>\n",
              "      <td>567.000000</td>\n",
              "    </tr>\n",
              "    <tr>\n",
              "      <th>max</th>\n",
              "      <td>80995.000000</td>\n",
              "      <td>14.960000</td>\n",
              "      <td>2011-12-09 12:50:00</td>\n",
              "      <td>80995.000000</td>\n",
              "    </tr>\n",
              "    <tr>\n",
              "      <th>std</th>\n",
              "      <td>156.962876</td>\n",
              "      <td>2.669826</td>\n",
              "      <td>NaN</td>\n",
              "      <td>903.091973</td>\n",
              "    </tr>\n",
              "  </tbody>\n",
              "</table>\n",
              "</div>"
            ],
            "text/plain": [
              "            Quantity      UnitPrice                    InvoiceDate  \\\n",
              "count  520395.000000  520395.000000                         520395   \n",
              "mean       10.707578       2.978730  2011-07-05 01:44:16.782867456   \n",
              "min         1.000000       0.001000            2010-12-01 08:26:00   \n",
              "25%         1.000000       1.250000            2011-03-28 13:28:00   \n",
              "50%         4.000000       2.080000            2011-07-20 16:12:00   \n",
              "75%        12.000000       4.130000            2011-10-19 13:58:00   \n",
              "max     80995.000000      14.960000            2011-12-09 12:50:00   \n",
              "std       156.962876       2.669826                            NaN   \n",
              "\n",
              "         QuantityInv  \n",
              "count  520395.000000  \n",
              "mean      533.624937  \n",
              "min         1.000000  \n",
              "25%       152.000000  \n",
              "50%       300.000000  \n",
              "75%       567.000000  \n",
              "max     80995.000000  \n",
              "std       903.091973  "
            ]
          },
          "execution_count": 51,
          "metadata": {},
          "output_type": "execute_result"
        }
      ],
      "source": [
        "df_clean.describe()"
      ]
    },
    {
      "cell_type": "code",
      "execution_count": 52,
      "metadata": {
        "id": "bfFJJeqWsk3E"
      },
      "outputs": [],
      "source": [
        "df_clean['InvoiceDate'] = pd.to_datetime(df_clean['InvoiceDate'])"
      ]
    },
    {
      "cell_type": "code",
      "execution_count": 53,
      "metadata": {
        "colab": {
          "base_uri": "https://localhost:8080/",
          "height": 335
        },
        "id": "ckGsvDTjsk3E",
        "outputId": "a439efa2-9389-453f-c3e5-fb28662f8098"
      },
      "outputs": [
        {
          "data": {
            "text/plain": [
              "InvoiceNo              object\n",
              "StockCode              object\n",
              "Description            object\n",
              "Quantity                int64\n",
              "UnitPrice             float64\n",
              "Country                object\n",
              "InvoiceDate    datetime64[ns]\n",
              "QuantityInv             int64\n",
              "dtype: object"
            ]
          },
          "execution_count": 53,
          "metadata": {},
          "output_type": "execute_result"
        }
      ],
      "source": [
        "df_clean.dtypes"
      ]
    },
    {
      "cell_type": "markdown",
      "metadata": {
        "id": "23MwlZnPsk3E"
      },
      "source": [
        "# Phân loại các đặc trưng Quantity và UnitPrice\n",
        "\n",
        "- Dựa trên việc phân tích dữ liệu thăm dò (*Exploratory Data Analysis - EDA*) đã thực hiện trước đó, chúng ta có thể nhóm các đặc trưng này thành 6 nhóm cho **Quantity** và 5 nhóm cho **UnitPrice**, bằng cách sử dụng phương pháp `pandas.cut()`.\n",
        "\n",
        "\n"
      ]
    },
    {
      "cell_type": "code",
      "execution_count": 54,
      "metadata": {
        "colab": {
          "base_uri": "https://localhost:8080/",
          "height": 538
        },
        "id": "X8BtDRIask3E",
        "outputId": "fa70b6ba-c1f6-4444-cb35-bd70bb49af17"
      },
      "outputs": [
        {
          "data": {
            "text/html": [
              "<div>\n",
              "<style scoped>\n",
              "    .dataframe tbody tr th:only-of-type {\n",
              "        vertical-align: middle;\n",
              "    }\n",
              "\n",
              "    .dataframe tbody tr th {\n",
              "        vertical-align: top;\n",
              "    }\n",
              "\n",
              "    .dataframe thead th {\n",
              "        text-align: right;\n",
              "    }\n",
              "</style>\n",
              "<table border=\"1\" class=\"dataframe\">\n",
              "  <thead>\n",
              "    <tr style=\"text-align: right;\">\n",
              "      <th></th>\n",
              "      <th>InvoiceNo</th>\n",
              "      <th>StockCode</th>\n",
              "      <th>Description</th>\n",
              "      <th>Quantity</th>\n",
              "      <th>UnitPrice</th>\n",
              "      <th>Country</th>\n",
              "      <th>InvoiceDate</th>\n",
              "      <th>QuantityInv</th>\n",
              "      <th>QuantityRange</th>\n",
              "      <th>PriceRange</th>\n",
              "    </tr>\n",
              "  </thead>\n",
              "  <tbody>\n",
              "    <tr>\n",
              "      <th>0</th>\n",
              "      <td>536365</td>\n",
              "      <td>85123A</td>\n",
              "      <td>WHITE HANGING HEART T-LIGHT HOLDER</td>\n",
              "      <td>6</td>\n",
              "      <td>2.55</td>\n",
              "      <td>United Kingdom</td>\n",
              "      <td>2010-12-01 08:26:00</td>\n",
              "      <td>40</td>\n",
              "      <td>(5, 8]</td>\n",
              "      <td>(2, 3]</td>\n",
              "    </tr>\n",
              "    <tr>\n",
              "      <th>1</th>\n",
              "      <td>536365</td>\n",
              "      <td>71053</td>\n",
              "      <td>WHITE METAL LANTERN</td>\n",
              "      <td>6</td>\n",
              "      <td>3.39</td>\n",
              "      <td>United Kingdom</td>\n",
              "      <td>2010-12-01 08:26:00</td>\n",
              "      <td>40</td>\n",
              "      <td>(5, 8]</td>\n",
              "      <td>(3, 4]</td>\n",
              "    </tr>\n",
              "    <tr>\n",
              "      <th>2</th>\n",
              "      <td>536365</td>\n",
              "      <td>84406B</td>\n",
              "      <td>CREAM CUPID HEARTS COAT HANGER</td>\n",
              "      <td>8</td>\n",
              "      <td>2.75</td>\n",
              "      <td>United Kingdom</td>\n",
              "      <td>2010-12-01 08:26:00</td>\n",
              "      <td>40</td>\n",
              "      <td>(5, 8]</td>\n",
              "      <td>(2, 3]</td>\n",
              "    </tr>\n",
              "    <tr>\n",
              "      <th>3</th>\n",
              "      <td>536365</td>\n",
              "      <td>84029G</td>\n",
              "      <td>KNITTED UNION FLAG HOT WATER BOTTLE</td>\n",
              "      <td>6</td>\n",
              "      <td>3.39</td>\n",
              "      <td>United Kingdom</td>\n",
              "      <td>2010-12-01 08:26:00</td>\n",
              "      <td>40</td>\n",
              "      <td>(5, 8]</td>\n",
              "      <td>(3, 4]</td>\n",
              "    </tr>\n",
              "    <tr>\n",
              "      <th>4</th>\n",
              "      <td>536365</td>\n",
              "      <td>84029E</td>\n",
              "      <td>RED WOOLLY HOTTIE WHITE HEART.</td>\n",
              "      <td>6</td>\n",
              "      <td>3.39</td>\n",
              "      <td>United Kingdom</td>\n",
              "      <td>2010-12-01 08:26:00</td>\n",
              "      <td>40</td>\n",
              "      <td>(5, 8]</td>\n",
              "      <td>(3, 4]</td>\n",
              "    </tr>\n",
              "  </tbody>\n",
              "</table>\n",
              "</div>"
            ],
            "text/plain": [
              "  InvoiceNo StockCode                          Description  Quantity  \\\n",
              "0    536365    85123A   WHITE HANGING HEART T-LIGHT HOLDER         6   \n",
              "1    536365     71053                  WHITE METAL LANTERN         6   \n",
              "2    536365    84406B       CREAM CUPID HEARTS COAT HANGER         8   \n",
              "3    536365    84029G  KNITTED UNION FLAG HOT WATER BOTTLE         6   \n",
              "4    536365    84029E       RED WOOLLY HOTTIE WHITE HEART.         6   \n",
              "\n",
              "   UnitPrice         Country         InvoiceDate  QuantityInv QuantityRange  \\\n",
              "0       2.55  United Kingdom 2010-12-01 08:26:00           40        (5, 8]   \n",
              "1       3.39  United Kingdom 2010-12-01 08:26:00           40        (5, 8]   \n",
              "2       2.75  United Kingdom 2010-12-01 08:26:00           40        (5, 8]   \n",
              "3       3.39  United Kingdom 2010-12-01 08:26:00           40        (5, 8]   \n",
              "4       3.39  United Kingdom 2010-12-01 08:26:00           40        (5, 8]   \n",
              "\n",
              "  PriceRange  \n",
              "0     (2, 3]  \n",
              "1     (3, 4]  \n",
              "2     (2, 3]  \n",
              "3     (3, 4]  \n",
              "4     (3, 4]  "
            ]
          },
          "execution_count": 54,
          "metadata": {},
          "output_type": "execute_result"
        }
      ],
      "source": [
        "bins_q = pd.IntervalIndex.from_tuples([(0, 2), (2, 5), (5, 8), (8, 11), (11, 14), (15, 5000)])\n",
        "df_clean['QuantityRange'] = pd.cut(df_clean['Quantity'], bins=bins_q)\n",
        "bins_p = pd.IntervalIndex.from_tuples([(0, 1), (1, 2), (2, 3), (3, 4), (4, 20)])\n",
        "df_clean['PriceRange'] = pd.cut(df_clean['UnitPrice'], bins=bins_p)\n",
        "df_clean.head()"
      ]
    },
    {
      "cell_type": "markdown",
      "metadata": {
        "id": "MdgS6O-Qsk3F"
      },
      "source": [
        "# Trích xuất và phân loại ngày tháng (*Extracting and bucketing dates*)\n",
        "\n",
        "- Chúng ta đã nhận thấy rằng doanh số bán hàng quà tặng thay đổi tùy theo mùa:\n",
        "\n",
        "    - Doanh số đạt đỉnh vào quý 4 (*Q4*).\n",
        "    - Sau đó giảm mạnh vào quý 1 (*Q1*) của năm tiếp theo.\n",
        "    - Và tiếp tục tăng trưởng cho đến khi đạt đỉnh mới vào quý 4.\n",
        "\n",
        "- Từ quan sát này, chúng ta có thể tạo ra một đặc trưng mới liên quan đến thời gian, chẳng hạn như \"Mùa bán hàng\" (*Sales Season*), để giúp cải thiện mô hình. Đặc trưng này có thể được tạo bằng cách phân chia ngày tháng thành các nhóm hoặc nhãn tương ứng với các quý hoặc mùa trong năm.  "
      ]
    },
    {
      "cell_type": "code",
      "execution_count": 55,
      "metadata": {
        "colab": {
          "base_uri": "https://localhost:8080/",
          "height": 538
        },
        "id": "i3-Y0qpQsk3F",
        "outputId": "c8fe3fdf-fd9f-4412-86b2-88e3936f411e"
      },
      "outputs": [
        {
          "data": {
            "text/html": [
              "<div>\n",
              "<style scoped>\n",
              "    .dataframe tbody tr th:only-of-type {\n",
              "        vertical-align: middle;\n",
              "    }\n",
              "\n",
              "    .dataframe tbody tr th {\n",
              "        vertical-align: top;\n",
              "    }\n",
              "\n",
              "    .dataframe thead th {\n",
              "        text-align: right;\n",
              "    }\n",
              "</style>\n",
              "<table border=\"1\" class=\"dataframe\">\n",
              "  <thead>\n",
              "    <tr style=\"text-align: right;\">\n",
              "      <th></th>\n",
              "      <th>InvoiceNo</th>\n",
              "      <th>StockCode</th>\n",
              "      <th>Description</th>\n",
              "      <th>Quantity</th>\n",
              "      <th>UnitPrice</th>\n",
              "      <th>Country</th>\n",
              "      <th>InvoiceDate</th>\n",
              "      <th>QuantityInv</th>\n",
              "      <th>QuantityRange</th>\n",
              "      <th>PriceRange</th>\n",
              "      <th>Month</th>\n",
              "    </tr>\n",
              "  </thead>\n",
              "  <tbody>\n",
              "    <tr>\n",
              "      <th>0</th>\n",
              "      <td>536365</td>\n",
              "      <td>85123A</td>\n",
              "      <td>WHITE HANGING HEART T-LIGHT HOLDER</td>\n",
              "      <td>6</td>\n",
              "      <td>2.55</td>\n",
              "      <td>United Kingdom</td>\n",
              "      <td>2010-12-01 08:26:00</td>\n",
              "      <td>40</td>\n",
              "      <td>(5, 8]</td>\n",
              "      <td>(2, 3]</td>\n",
              "      <td>12</td>\n",
              "    </tr>\n",
              "    <tr>\n",
              "      <th>1</th>\n",
              "      <td>536365</td>\n",
              "      <td>71053</td>\n",
              "      <td>WHITE METAL LANTERN</td>\n",
              "      <td>6</td>\n",
              "      <td>3.39</td>\n",
              "      <td>United Kingdom</td>\n",
              "      <td>2010-12-01 08:26:00</td>\n",
              "      <td>40</td>\n",
              "      <td>(5, 8]</td>\n",
              "      <td>(3, 4]</td>\n",
              "      <td>12</td>\n",
              "    </tr>\n",
              "    <tr>\n",
              "      <th>2</th>\n",
              "      <td>536365</td>\n",
              "      <td>84406B</td>\n",
              "      <td>CREAM CUPID HEARTS COAT HANGER</td>\n",
              "      <td>8</td>\n",
              "      <td>2.75</td>\n",
              "      <td>United Kingdom</td>\n",
              "      <td>2010-12-01 08:26:00</td>\n",
              "      <td>40</td>\n",
              "      <td>(5, 8]</td>\n",
              "      <td>(2, 3]</td>\n",
              "      <td>12</td>\n",
              "    </tr>\n",
              "    <tr>\n",
              "      <th>3</th>\n",
              "      <td>536365</td>\n",
              "      <td>84029G</td>\n",
              "      <td>KNITTED UNION FLAG HOT WATER BOTTLE</td>\n",
              "      <td>6</td>\n",
              "      <td>3.39</td>\n",
              "      <td>United Kingdom</td>\n",
              "      <td>2010-12-01 08:26:00</td>\n",
              "      <td>40</td>\n",
              "      <td>(5, 8]</td>\n",
              "      <td>(3, 4]</td>\n",
              "      <td>12</td>\n",
              "    </tr>\n",
              "    <tr>\n",
              "      <th>4</th>\n",
              "      <td>536365</td>\n",
              "      <td>84029E</td>\n",
              "      <td>RED WOOLLY HOTTIE WHITE HEART.</td>\n",
              "      <td>6</td>\n",
              "      <td>3.39</td>\n",
              "      <td>United Kingdom</td>\n",
              "      <td>2010-12-01 08:26:00</td>\n",
              "      <td>40</td>\n",
              "      <td>(5, 8]</td>\n",
              "      <td>(3, 4]</td>\n",
              "      <td>12</td>\n",
              "    </tr>\n",
              "  </tbody>\n",
              "</table>\n",
              "</div>"
            ],
            "text/plain": [
              "  InvoiceNo StockCode                          Description  Quantity  \\\n",
              "0    536365    85123A   WHITE HANGING HEART T-LIGHT HOLDER         6   \n",
              "1    536365     71053                  WHITE METAL LANTERN         6   \n",
              "2    536365    84406B       CREAM CUPID HEARTS COAT HANGER         8   \n",
              "3    536365    84029G  KNITTED UNION FLAG HOT WATER BOTTLE         6   \n",
              "4    536365    84029E       RED WOOLLY HOTTIE WHITE HEART.         6   \n",
              "\n",
              "   UnitPrice         Country         InvoiceDate  QuantityInv QuantityRange  \\\n",
              "0       2.55  United Kingdom 2010-12-01 08:26:00           40        (5, 8]   \n",
              "1       3.39  United Kingdom 2010-12-01 08:26:00           40        (5, 8]   \n",
              "2       2.75  United Kingdom 2010-12-01 08:26:00           40        (5, 8]   \n",
              "3       3.39  United Kingdom 2010-12-01 08:26:00           40        (5, 8]   \n",
              "4       3.39  United Kingdom 2010-12-01 08:26:00           40        (5, 8]   \n",
              "\n",
              "  PriceRange  Month  \n",
              "0     (2, 3]     12  \n",
              "1     (3, 4]     12  \n",
              "2     (2, 3]     12  \n",
              "3     (3, 4]     12  \n",
              "4     (3, 4]     12  "
            ]
          },
          "execution_count": 55,
          "metadata": {},
          "output_type": "execute_result"
        }
      ],
      "source": [
        "df_clean['Month'] = df_clean['InvoiceDate'].dt.month\n",
        "df_clean.head()"
      ]
    },
    {
      "cell_type": "code",
      "execution_count": 56,
      "metadata": {
        "colab": {
          "base_uri": "https://localhost:8080/",
          "height": 451
        },
        "id": "NLprgy3Psk3G",
        "outputId": "4032c065-173a-4934-ba85-bb5059bbe1c3"
      },
      "outputs": [
        {
          "data": {
            "text/html": [
              "<div>\n",
              "<style scoped>\n",
              "    .dataframe tbody tr th:only-of-type {\n",
              "        vertical-align: middle;\n",
              "    }\n",
              "\n",
              "    .dataframe tbody tr th {\n",
              "        vertical-align: top;\n",
              "    }\n",
              "\n",
              "    .dataframe thead th {\n",
              "        text-align: right;\n",
              "    }\n",
              "</style>\n",
              "<table border=\"1\" class=\"dataframe\">\n",
              "  <thead>\n",
              "    <tr style=\"text-align: right;\">\n",
              "      <th></th>\n",
              "      <th>InvoiceNo</th>\n",
              "      <th>StockCode</th>\n",
              "      <th>Description</th>\n",
              "      <th>Quantity</th>\n",
              "      <th>UnitPrice</th>\n",
              "      <th>Country</th>\n",
              "      <th>InvoiceDate</th>\n",
              "      <th>QuantityInv</th>\n",
              "      <th>QuantityRange</th>\n",
              "      <th>PriceRange</th>\n",
              "      <th>Month</th>\n",
              "      <th>DateRange</th>\n",
              "    </tr>\n",
              "  </thead>\n",
              "  <tbody>\n",
              "    <tr>\n",
              "      <th>520390</th>\n",
              "      <td>581587</td>\n",
              "      <td>22613</td>\n",
              "      <td>PACK OF 20 SPACEBOY NAPKINS</td>\n",
              "      <td>12</td>\n",
              "      <td>0.85</td>\n",
              "      <td>France</td>\n",
              "      <td>2011-12-09 12:50:00</td>\n",
              "      <td>105</td>\n",
              "      <td>(11, 14]</td>\n",
              "      <td>(0, 1]</td>\n",
              "      <td>12</td>\n",
              "      <td>(9, 12]</td>\n",
              "    </tr>\n",
              "    <tr>\n",
              "      <th>520391</th>\n",
              "      <td>581587</td>\n",
              "      <td>22899</td>\n",
              "      <td>CHILDREN'S APRON DOLLY GIRL</td>\n",
              "      <td>6</td>\n",
              "      <td>2.10</td>\n",
              "      <td>France</td>\n",
              "      <td>2011-12-09 12:50:00</td>\n",
              "      <td>105</td>\n",
              "      <td>(5, 8]</td>\n",
              "      <td>(2, 3]</td>\n",
              "      <td>12</td>\n",
              "      <td>(9, 12]</td>\n",
              "    </tr>\n",
              "    <tr>\n",
              "      <th>520392</th>\n",
              "      <td>581587</td>\n",
              "      <td>23254</td>\n",
              "      <td>CHILDRENS CUTLERY DOLLY GIRL</td>\n",
              "      <td>4</td>\n",
              "      <td>4.15</td>\n",
              "      <td>France</td>\n",
              "      <td>2011-12-09 12:50:00</td>\n",
              "      <td>105</td>\n",
              "      <td>(2, 5]</td>\n",
              "      <td>(4, 20]</td>\n",
              "      <td>12</td>\n",
              "      <td>(9, 12]</td>\n",
              "    </tr>\n",
              "    <tr>\n",
              "      <th>520393</th>\n",
              "      <td>581587</td>\n",
              "      <td>23255</td>\n",
              "      <td>CHILDRENS CUTLERY CIRCUS PARADE</td>\n",
              "      <td>4</td>\n",
              "      <td>4.15</td>\n",
              "      <td>France</td>\n",
              "      <td>2011-12-09 12:50:00</td>\n",
              "      <td>105</td>\n",
              "      <td>(2, 5]</td>\n",
              "      <td>(4, 20]</td>\n",
              "      <td>12</td>\n",
              "      <td>(9, 12]</td>\n",
              "    </tr>\n",
              "    <tr>\n",
              "      <th>520394</th>\n",
              "      <td>581587</td>\n",
              "      <td>22138</td>\n",
              "      <td>BAKING SET 9 PIECE RETROSPOT</td>\n",
              "      <td>3</td>\n",
              "      <td>4.95</td>\n",
              "      <td>France</td>\n",
              "      <td>2011-12-09 12:50:00</td>\n",
              "      <td>105</td>\n",
              "      <td>(2, 5]</td>\n",
              "      <td>(4, 20]</td>\n",
              "      <td>12</td>\n",
              "      <td>(9, 12]</td>\n",
              "    </tr>\n",
              "  </tbody>\n",
              "</table>\n",
              "</div>"
            ],
            "text/plain": [
              "       InvoiceNo StockCode                      Description  Quantity  \\\n",
              "520390    581587     22613      PACK OF 20 SPACEBOY NAPKINS        12   \n",
              "520391    581587     22899     CHILDREN'S APRON DOLLY GIRL          6   \n",
              "520392    581587     23254    CHILDRENS CUTLERY DOLLY GIRL          4   \n",
              "520393    581587     23255  CHILDRENS CUTLERY CIRCUS PARADE         4   \n",
              "520394    581587     22138    BAKING SET 9 PIECE RETROSPOT          3   \n",
              "\n",
              "        UnitPrice Country         InvoiceDate  QuantityInv QuantityRange  \\\n",
              "520390       0.85  France 2011-12-09 12:50:00          105      (11, 14]   \n",
              "520391       2.10  France 2011-12-09 12:50:00          105        (5, 8]   \n",
              "520392       4.15  France 2011-12-09 12:50:00          105        (2, 5]   \n",
              "520393       4.15  France 2011-12-09 12:50:00          105        (2, 5]   \n",
              "520394       4.95  France 2011-12-09 12:50:00          105        (2, 5]   \n",
              "\n",
              "       PriceRange  Month DateRange  \n",
              "520390     (0, 1]     12   (9, 12]  \n",
              "520391     (2, 3]     12   (9, 12]  \n",
              "520392    (4, 20]     12   (9, 12]  \n",
              "520393    (4, 20]     12   (9, 12]  \n",
              "520394    (4, 20]     12   (9, 12]  "
            ]
          },
          "execution_count": 56,
          "metadata": {},
          "output_type": "execute_result"
        }
      ],
      "source": [
        "bins_d = pd.IntervalIndex.from_tuples([(0,3),(3,6),(6,9),(9,12)])\n",
        "df_clean['DateRange'] = pd.cut(df_clean['Month'], bins=bins_d, labels=['q1','q2','q3','q4'])\n",
        "df_clean.tail()"
      ]
    },
    {
      "cell_type": "markdown",
      "metadata": {
        "id": "_qd7cyqlsk3G"
      },
      "source": [
        "# Xây dựng mô hình"
      ]
    },
    {
      "cell_type": "markdown",
      "metadata": {
        "id": "RaO6wFvJsk3G"
      },
      "source": [
        "## Phân chia dữ liệu thành UK và ngoài UK (*Splitting data into UK and non-UK*)\n",
        "\n",
        "- Chúng ta cần phân tích riêng biệt hai tập dữ liệu này để tạo ra dữ liệu chuẩn hóa hơn cho mô hình. Có thể tồn tại các mẫu (*patterns*) hoạt động tốt đối với các quốc gia khác nhưng không áp dụng cho UK, hoặc ngược lại.  \n",
        "\n",
        "- Một giả thuyết thú vị cần kiểm tra: Liệu mô hình được xây dựng dành riêng cho UK có hoạt động tốt trên dữ liệu của các quốc gia khác hay không?  \n",
        "\n",
        "\n"
      ]
    },
    {
      "cell_type": "code",
      "execution_count": 57,
      "metadata": {
        "id": "oJtPo8Zbsk3H"
      },
      "outputs": [],
      "source": [
        "df_uk = df_clean[df_clean['Country'] == 'United Kingdom']\n",
        "df_abroad = df_clean[df_clean['Country'] != 'United Kingdom']"
      ]
    },
    {
      "cell_type": "code",
      "execution_count": 58,
      "metadata": {
        "colab": {
          "base_uri": "https://localhost:8080/",
          "height": 538
        },
        "id": "0AYtASpjsk3H",
        "outputId": "51951522-9304-4ea4-c600-a9953d8ab5df"
      },
      "outputs": [
        {
          "data": {
            "text/html": [
              "<div>\n",
              "<style scoped>\n",
              "    .dataframe tbody tr th:only-of-type {\n",
              "        vertical-align: middle;\n",
              "    }\n",
              "\n",
              "    .dataframe tbody tr th {\n",
              "        vertical-align: top;\n",
              "    }\n",
              "\n",
              "    .dataframe thead th {\n",
              "        text-align: right;\n",
              "    }\n",
              "</style>\n",
              "<table border=\"1\" class=\"dataframe\">\n",
              "  <thead>\n",
              "    <tr style=\"text-align: right;\">\n",
              "      <th></th>\n",
              "      <th>InvoiceNo</th>\n",
              "      <th>StockCode</th>\n",
              "      <th>Description</th>\n",
              "      <th>Quantity</th>\n",
              "      <th>UnitPrice</th>\n",
              "      <th>Country</th>\n",
              "      <th>InvoiceDate</th>\n",
              "      <th>QuantityInv</th>\n",
              "      <th>QuantityRange</th>\n",
              "      <th>PriceRange</th>\n",
              "      <th>Month</th>\n",
              "      <th>DateRange</th>\n",
              "    </tr>\n",
              "  </thead>\n",
              "  <tbody>\n",
              "    <tr>\n",
              "      <th>0</th>\n",
              "      <td>536365</td>\n",
              "      <td>85123A</td>\n",
              "      <td>WHITE HANGING HEART T-LIGHT HOLDER</td>\n",
              "      <td>6</td>\n",
              "      <td>2.55</td>\n",
              "      <td>United Kingdom</td>\n",
              "      <td>2010-12-01 08:26:00</td>\n",
              "      <td>40</td>\n",
              "      <td>(5, 8]</td>\n",
              "      <td>(2, 3]</td>\n",
              "      <td>12</td>\n",
              "      <td>(9, 12]</td>\n",
              "    </tr>\n",
              "    <tr>\n",
              "      <th>1</th>\n",
              "      <td>536365</td>\n",
              "      <td>71053</td>\n",
              "      <td>WHITE METAL LANTERN</td>\n",
              "      <td>6</td>\n",
              "      <td>3.39</td>\n",
              "      <td>United Kingdom</td>\n",
              "      <td>2010-12-01 08:26:00</td>\n",
              "      <td>40</td>\n",
              "      <td>(5, 8]</td>\n",
              "      <td>(3, 4]</td>\n",
              "      <td>12</td>\n",
              "      <td>(9, 12]</td>\n",
              "    </tr>\n",
              "    <tr>\n",
              "      <th>2</th>\n",
              "      <td>536365</td>\n",
              "      <td>84406B</td>\n",
              "      <td>CREAM CUPID HEARTS COAT HANGER</td>\n",
              "      <td>8</td>\n",
              "      <td>2.75</td>\n",
              "      <td>United Kingdom</td>\n",
              "      <td>2010-12-01 08:26:00</td>\n",
              "      <td>40</td>\n",
              "      <td>(5, 8]</td>\n",
              "      <td>(2, 3]</td>\n",
              "      <td>12</td>\n",
              "      <td>(9, 12]</td>\n",
              "    </tr>\n",
              "    <tr>\n",
              "      <th>3</th>\n",
              "      <td>536365</td>\n",
              "      <td>84029G</td>\n",
              "      <td>KNITTED UNION FLAG HOT WATER BOTTLE</td>\n",
              "      <td>6</td>\n",
              "      <td>3.39</td>\n",
              "      <td>United Kingdom</td>\n",
              "      <td>2010-12-01 08:26:00</td>\n",
              "      <td>40</td>\n",
              "      <td>(5, 8]</td>\n",
              "      <td>(3, 4]</td>\n",
              "      <td>12</td>\n",
              "      <td>(9, 12]</td>\n",
              "    </tr>\n",
              "    <tr>\n",
              "      <th>4</th>\n",
              "      <td>536365</td>\n",
              "      <td>84029E</td>\n",
              "      <td>RED WOOLLY HOTTIE WHITE HEART.</td>\n",
              "      <td>6</td>\n",
              "      <td>3.39</td>\n",
              "      <td>United Kingdom</td>\n",
              "      <td>2010-12-01 08:26:00</td>\n",
              "      <td>40</td>\n",
              "      <td>(5, 8]</td>\n",
              "      <td>(3, 4]</td>\n",
              "      <td>12</td>\n",
              "      <td>(9, 12]</td>\n",
              "    </tr>\n",
              "  </tbody>\n",
              "</table>\n",
              "</div>"
            ],
            "text/plain": [
              "  InvoiceNo StockCode                          Description  Quantity  \\\n",
              "0    536365    85123A   WHITE HANGING HEART T-LIGHT HOLDER         6   \n",
              "1    536365     71053                  WHITE METAL LANTERN         6   \n",
              "2    536365    84406B       CREAM CUPID HEARTS COAT HANGER         8   \n",
              "3    536365    84029G  KNITTED UNION FLAG HOT WATER BOTTLE         6   \n",
              "4    536365    84029E       RED WOOLLY HOTTIE WHITE HEART.         6   \n",
              "\n",
              "   UnitPrice         Country         InvoiceDate  QuantityInv QuantityRange  \\\n",
              "0       2.55  United Kingdom 2010-12-01 08:26:00           40        (5, 8]   \n",
              "1       3.39  United Kingdom 2010-12-01 08:26:00           40        (5, 8]   \n",
              "2       2.75  United Kingdom 2010-12-01 08:26:00           40        (5, 8]   \n",
              "3       3.39  United Kingdom 2010-12-01 08:26:00           40        (5, 8]   \n",
              "4       3.39  United Kingdom 2010-12-01 08:26:00           40        (5, 8]   \n",
              "\n",
              "  PriceRange  Month DateRange  \n",
              "0     (2, 3]     12   (9, 12]  \n",
              "1     (3, 4]     12   (9, 12]  \n",
              "2     (2, 3]     12   (9, 12]  \n",
              "3     (3, 4]     12   (9, 12]  \n",
              "4     (3, 4]     12   (9, 12]  "
            ]
          },
          "execution_count": 58,
          "metadata": {},
          "output_type": "execute_result"
        }
      ],
      "source": [
        "df_uk.head()"
      ]
    },
    {
      "cell_type": "markdown",
      "metadata": {
        "id": "ijQRWZWVsk3H"
      },
      "source": [
        "## Trích xuất đặc trưng và tạo biến giả (*dummy variables*)\n",
        "\n",
        "- **Trích xuất đặc trưng**: Quá trình này bao gồm việc xác định và chuyển đổi các cột dữ liệu hiện có thành các đặc trưng mà mô hình học máy có thể hiểu rõ và sử dụng hiệu quả.\n",
        "\n",
        "- **Tạo biến giả** (*dummy variables*): Dành cho các biến phân loại (*categorical variables*). Chúng ta có thể sử dụng phương pháp `pandas.get_dummies()` để mã hóa chúng thành các cột nhị phân (*binary columns*). Ví dụ, một cột với các giá trị như \"UK\", \"US\", \"Vietnam\" sẽ được mã hóa thành ba cột mới, mỗi cột biểu thị một quốc gia với giá trị 0 hoặc 1.\n"
      ]
    },
    {
      "cell_type": "code",
      "execution_count": 59,
      "metadata": {
        "id": "rnii3Lgjsk3I"
      },
      "outputs": [],
      "source": [
        "df_uk_model = df_uk[['UnitPrice', 'QuantityInv', 'QuantityRange', 'PriceRange', 'DateRange']]"
      ]
    },
    {
      "cell_type": "code",
      "execution_count": 60,
      "metadata": {
        "colab": {
          "base_uri": "https://localhost:8080/",
          "height": 206
        },
        "id": "aVIhWGVKsk3I",
        "outputId": "dc2f23fd-9289-4c22-e326-fc8f87faa77e"
      },
      "outputs": [
        {
          "data": {
            "text/html": [
              "<div>\n",
              "<style scoped>\n",
              "    .dataframe tbody tr th:only-of-type {\n",
              "        vertical-align: middle;\n",
              "    }\n",
              "\n",
              "    .dataframe tbody tr th {\n",
              "        vertical-align: top;\n",
              "    }\n",
              "\n",
              "    .dataframe thead th {\n",
              "        text-align: right;\n",
              "    }\n",
              "</style>\n",
              "<table border=\"1\" class=\"dataframe\">\n",
              "  <thead>\n",
              "    <tr style=\"text-align: right;\">\n",
              "      <th></th>\n",
              "      <th>UnitPrice</th>\n",
              "      <th>QuantityInv</th>\n",
              "      <th>QuantityRange</th>\n",
              "      <th>PriceRange</th>\n",
              "      <th>DateRange</th>\n",
              "    </tr>\n",
              "  </thead>\n",
              "  <tbody>\n",
              "    <tr>\n",
              "      <th>0</th>\n",
              "      <td>2.55</td>\n",
              "      <td>40</td>\n",
              "      <td>(5, 8]</td>\n",
              "      <td>(2, 3]</td>\n",
              "      <td>(9, 12]</td>\n",
              "    </tr>\n",
              "    <tr>\n",
              "      <th>1</th>\n",
              "      <td>3.39</td>\n",
              "      <td>40</td>\n",
              "      <td>(5, 8]</td>\n",
              "      <td>(3, 4]</td>\n",
              "      <td>(9, 12]</td>\n",
              "    </tr>\n",
              "    <tr>\n",
              "      <th>2</th>\n",
              "      <td>2.75</td>\n",
              "      <td>40</td>\n",
              "      <td>(5, 8]</td>\n",
              "      <td>(2, 3]</td>\n",
              "      <td>(9, 12]</td>\n",
              "    </tr>\n",
              "    <tr>\n",
              "      <th>3</th>\n",
              "      <td>3.39</td>\n",
              "      <td>40</td>\n",
              "      <td>(5, 8]</td>\n",
              "      <td>(3, 4]</td>\n",
              "      <td>(9, 12]</td>\n",
              "    </tr>\n",
              "    <tr>\n",
              "      <th>4</th>\n",
              "      <td>3.39</td>\n",
              "      <td>40</td>\n",
              "      <td>(5, 8]</td>\n",
              "      <td>(3, 4]</td>\n",
              "      <td>(9, 12]</td>\n",
              "    </tr>\n",
              "  </tbody>\n",
              "</table>\n",
              "</div>"
            ],
            "text/plain": [
              "   UnitPrice  QuantityInv QuantityRange PriceRange DateRange\n",
              "0       2.55           40        (5, 8]     (2, 3]   (9, 12]\n",
              "1       3.39           40        (5, 8]     (3, 4]   (9, 12]\n",
              "2       2.75           40        (5, 8]     (2, 3]   (9, 12]\n",
              "3       3.39           40        (5, 8]     (3, 4]   (9, 12]\n",
              "4       3.39           40        (5, 8]     (3, 4]   (9, 12]"
            ]
          },
          "execution_count": 60,
          "metadata": {},
          "output_type": "execute_result"
        }
      ],
      "source": [
        "df_uk_model.head()"
      ]
    },
    {
      "cell_type": "code",
      "execution_count": 61,
      "metadata": {
        "colab": {
          "base_uri": "https://localhost:8080/",
          "height": 243
        },
        "id": "rMxTDOGosk3I",
        "outputId": "e8aa49be-0c35-4430-b6cd-5f2c436ace31"
      },
      "outputs": [
        {
          "data": {
            "text/html": [
              "<div>\n",
              "<style scoped>\n",
              "    .dataframe tbody tr th:only-of-type {\n",
              "        vertical-align: middle;\n",
              "    }\n",
              "\n",
              "    .dataframe tbody tr th {\n",
              "        vertical-align: top;\n",
              "    }\n",
              "\n",
              "    .dataframe thead th {\n",
              "        text-align: right;\n",
              "    }\n",
              "</style>\n",
              "<table border=\"1\" class=\"dataframe\">\n",
              "  <thead>\n",
              "    <tr style=\"text-align: right;\">\n",
              "      <th></th>\n",
              "      <th>UnitPrice</th>\n",
              "      <th>QuantityInv</th>\n",
              "      <th>qr_(0, 2]</th>\n",
              "      <th>qr_(2, 5]</th>\n",
              "      <th>qr_(5, 8]</th>\n",
              "      <th>qr_(8, 11]</th>\n",
              "      <th>qr_(11, 14]</th>\n",
              "      <th>qr_(15, 5000]</th>\n",
              "      <th>pr_(0, 1]</th>\n",
              "      <th>pr_(1, 2]</th>\n",
              "      <th>pr_(2, 3]</th>\n",
              "      <th>pr_(3, 4]</th>\n",
              "      <th>pr_(4, 20]</th>\n",
              "      <th>dr_(0, 3]</th>\n",
              "      <th>dr_(3, 6]</th>\n",
              "      <th>dr_(6, 9]</th>\n",
              "      <th>dr_(9, 12]</th>\n",
              "    </tr>\n",
              "  </thead>\n",
              "  <tbody>\n",
              "    <tr>\n",
              "      <th>0</th>\n",
              "      <td>2.55</td>\n",
              "      <td>40</td>\n",
              "      <td>False</td>\n",
              "      <td>False</td>\n",
              "      <td>True</td>\n",
              "      <td>False</td>\n",
              "      <td>False</td>\n",
              "      <td>False</td>\n",
              "      <td>False</td>\n",
              "      <td>False</td>\n",
              "      <td>True</td>\n",
              "      <td>False</td>\n",
              "      <td>False</td>\n",
              "      <td>False</td>\n",
              "      <td>False</td>\n",
              "      <td>False</td>\n",
              "      <td>True</td>\n",
              "    </tr>\n",
              "    <tr>\n",
              "      <th>1</th>\n",
              "      <td>3.39</td>\n",
              "      <td>40</td>\n",
              "      <td>False</td>\n",
              "      <td>False</td>\n",
              "      <td>True</td>\n",
              "      <td>False</td>\n",
              "      <td>False</td>\n",
              "      <td>False</td>\n",
              "      <td>False</td>\n",
              "      <td>False</td>\n",
              "      <td>False</td>\n",
              "      <td>True</td>\n",
              "      <td>False</td>\n",
              "      <td>False</td>\n",
              "      <td>False</td>\n",
              "      <td>False</td>\n",
              "      <td>True</td>\n",
              "    </tr>\n",
              "    <tr>\n",
              "      <th>2</th>\n",
              "      <td>2.75</td>\n",
              "      <td>40</td>\n",
              "      <td>False</td>\n",
              "      <td>False</td>\n",
              "      <td>True</td>\n",
              "      <td>False</td>\n",
              "      <td>False</td>\n",
              "      <td>False</td>\n",
              "      <td>False</td>\n",
              "      <td>False</td>\n",
              "      <td>True</td>\n",
              "      <td>False</td>\n",
              "      <td>False</td>\n",
              "      <td>False</td>\n",
              "      <td>False</td>\n",
              "      <td>False</td>\n",
              "      <td>True</td>\n",
              "    </tr>\n",
              "    <tr>\n",
              "      <th>3</th>\n",
              "      <td>3.39</td>\n",
              "      <td>40</td>\n",
              "      <td>False</td>\n",
              "      <td>False</td>\n",
              "      <td>True</td>\n",
              "      <td>False</td>\n",
              "      <td>False</td>\n",
              "      <td>False</td>\n",
              "      <td>False</td>\n",
              "      <td>False</td>\n",
              "      <td>False</td>\n",
              "      <td>True</td>\n",
              "      <td>False</td>\n",
              "      <td>False</td>\n",
              "      <td>False</td>\n",
              "      <td>False</td>\n",
              "      <td>True</td>\n",
              "    </tr>\n",
              "    <tr>\n",
              "      <th>4</th>\n",
              "      <td>3.39</td>\n",
              "      <td>40</td>\n",
              "      <td>False</td>\n",
              "      <td>False</td>\n",
              "      <td>True</td>\n",
              "      <td>False</td>\n",
              "      <td>False</td>\n",
              "      <td>False</td>\n",
              "      <td>False</td>\n",
              "      <td>False</td>\n",
              "      <td>False</td>\n",
              "      <td>True</td>\n",
              "      <td>False</td>\n",
              "      <td>False</td>\n",
              "      <td>False</td>\n",
              "      <td>False</td>\n",
              "      <td>True</td>\n",
              "    </tr>\n",
              "  </tbody>\n",
              "</table>\n",
              "</div>"
            ],
            "text/plain": [
              "   UnitPrice  QuantityInv  qr_(0, 2]  qr_(2, 5]  qr_(5, 8]  qr_(8, 11]  \\\n",
              "0       2.55           40      False      False       True       False   \n",
              "1       3.39           40      False      False       True       False   \n",
              "2       2.75           40      False      False       True       False   \n",
              "3       3.39           40      False      False       True       False   \n",
              "4       3.39           40      False      False       True       False   \n",
              "\n",
              "   qr_(11, 14]  qr_(15, 5000]  pr_(0, 1]  pr_(1, 2]  pr_(2, 3]  pr_(3, 4]  \\\n",
              "0        False          False      False      False       True      False   \n",
              "1        False          False      False      False      False       True   \n",
              "2        False          False      False      False       True      False   \n",
              "3        False          False      False      False      False       True   \n",
              "4        False          False      False      False      False       True   \n",
              "\n",
              "   pr_(4, 20]  dr_(0, 3]  dr_(3, 6]  dr_(6, 9]  dr_(9, 12]  \n",
              "0       False      False      False      False        True  \n",
              "1       False      False      False      False        True  \n",
              "2       False      False      False      False        True  \n",
              "3       False      False      False      False        True  \n",
              "4       False      False      False      False        True  "
            ]
          },
          "execution_count": 61,
          "metadata": {},
          "output_type": "execute_result"
        }
      ],
      "source": [
        "df_data = df_uk_model.copy()\n",
        "df_data = pd.get_dummies(df_data, columns=['QuantityRange'], prefix='qr')\n",
        "df_data = pd.get_dummies(df_data, columns=['PriceRange'], prefix='pr')\n",
        "df_data = pd.get_dummies(df_data, columns=['DateRange'], prefix='dr')\n",
        "df_data.head()"
      ]
    },
    {
      "cell_type": "markdown",
      "metadata": {
        "id": "49fZTnCqsk3I"
      },
      "source": [
        "# Chuẩn hóa (*Scaling*)\n",
        "\n",
        "- Vì phần lớn các đặc trưng của chúng ta nằm trong khoảng 0-1, nên việc chuẩn hóa (*scale*) đặc trưng \"QuantityInv\" cũng là một ý tưởng hợp lý.  \n",
        "- Nhìn chung, việc chuẩn hóa các đặc trưng thường là một bước tốt để cải thiện hiệu quả mô hình, đặc biệt đối với các thuật toán nhạy cảm với khoảng cách, như hồi quy logistic (*logistic regression*) hoặc SVM.  \n"
      ]
    },
    {
      "cell_type": "code",
      "execution_count": 62,
      "metadata": {
        "id": "ogxhSpEVsk3J"
      },
      "outputs": [],
      "source": [
        "from sklearn.preprocessing import scale\n",
        "\n",
        "df_data['QuantityInv'] = scale(df_data['QuantityInv'])"
      ]
    },
    {
      "cell_type": "markdown",
      "metadata": {
        "id": "Z3XvP8rosk3J"
      },
      "source": [
        "# Chia dữ liệu thành tập huấn luyện và kiểm tra (*Train-Test Split*)\n",
        "\n",
        "- Đây là bước quan trọng để xây dựng và đánh giá mô hình.  \n",
        "- Chúng ta cần phân chia dữ liệu thành hai phần: một tập để huấn luyện mô hình (*training set*) và một tập để kiểm tra khả năng của mô hình (*test set*).  \n",
        "\n"
      ]
    },
    {
      "cell_type": "code",
      "execution_count": 63,
      "metadata": {
        "id": "FaHNVB7hsk3J"
      },
      "outputs": [],
      "source": [
        "y = df_data['UnitPrice']\n",
        "X = df_data.drop(columns=['UnitPrice'])"
      ]
    },
    {
      "cell_type": "code",
      "execution_count": 64,
      "metadata": {
        "id": "h9-V0m5Xsk3K"
      },
      "outputs": [],
      "source": [
        "from sklearn.model_selection import train_test_split\n",
        "\n",
        "X_train, X_test, y_train, y_test = train_test_split(X, y, test_size = 0.20, random_state=42)"
      ]
    },
    {
      "cell_type": "markdown",
      "metadata": {
        "id": "DKCpvg3Ssk3K"
      },
      "source": [
        "# Kiểm tra và đánh giá các mô hình khác nhau (*Testing and validating different models*)\n",
        "\n",
        "- Chúng ta sử dụng GridSearch và CrossValidation để kiểm tra ba loại bộ hồi quy (*regressors*):  \n",
        "    - **Hồi quy tuyến tính** (*Linear Regression*)  \n",
        "    - **Cây quyết định** (*Decision Tree*)  \n",
        "    - **Rừng ngẫu nhiên** (*Random Forest*)  \n",
        "\n",
        "Phương pháp này giúp tối ưu hóa các siêu tham số (*hyperparameters*) và đảm bảo rằng mô hình của bạn được đánh giá trên một tập dữ liệu không chồng chéo với tập huấn luyện, giảm nguy cơ overfitting."
      ]
    },
    {
      "cell_type": "code",
      "execution_count": 65,
      "metadata": {
        "id": "bN9F-P8Wsk3K"
      },
      "outputs": [],
      "source": [
        "from sklearn.model_selection import KFold\n",
        "from sklearn.linear_model import LinearRegression\n",
        "from sklearn.tree import DecisionTreeRegressor\n",
        "from sklearn.ensemble import RandomForestRegressor\n",
        "\n",
        "from sklearn.model_selection import GridSearchCV\n",
        "\n",
        "from sklearn.metrics import mean_absolute_error\n",
        "from sklearn.metrics import mean_squared_error\n",
        "from sklearn.metrics import r2_score"
      ]
    },
    {
      "cell_type": "markdown",
      "metadata": {
        "id": "umT0-bRWsk3L"
      },
      "source": [
        "# **Hồi quy tuyến tính** (*Linear Regression*)"
      ]
    },
    {
      "cell_type": "code",
      "execution_count": 66,
      "metadata": {
        "id": "oTaSezKOsk3L"
      },
      "outputs": [],
      "source": [
        "fit_intercepts = [True, False]\n",
        "param_grid_linear = dict(fit_intercept=fit_intercepts)\n",
        "linear_model = LinearRegression()"
      ]
    },
    {
      "cell_type": "markdown",
      "metadata": {
        "id": "2Ier4iKJsk3L"
      },
      "source": [
        "# **Cây quyết định** (*Decision Tree*)  "
      ]
    },
    {
      "cell_type": "code",
      "execution_count": 67,
      "metadata": {
        "id": "Of5dzgDVsk3L"
      },
      "outputs": [],
      "source": [
        "min_tree_splits = range(2,3)\n",
        "min_tree_leaves = range(2,3)\n",
        "param_grid_tree = dict(min_samples_split=min_tree_splits,\n",
        "                       min_samples_leaf=min_tree_leaves)\n",
        "tree_model = DecisionTreeRegressor()"
      ]
    },
    {
      "cell_type": "markdown",
      "metadata": {
        "id": "mXnS48P6sk3M"
      },
      "source": [
        "# **Rừng ngẫu nhiên** (*Random Forest*)"
      ]
    },
    {
      "cell_type": "code",
      "execution_count": 68,
      "metadata": {
        "id": "OR7jsgbesk3M"
      },
      "outputs": [],
      "source": [
        "estimators_space = [100]\n",
        "min_sample_splits = range(2,4)\n",
        "min_sample_leaves = range(2,3)\n",
        "param_grid_forest = dict(min_samples_split=min_sample_splits,\n",
        "                       min_samples_leaf=min_sample_leaves,\n",
        "                       n_estimators=estimators_space)\n",
        "forest_model = RandomForestRegressor()"
      ]
    },
    {
      "cell_type": "markdown",
      "metadata": {
        "id": "OjtKhCBfsk3N"
      },
      "source": [
        "# Kiểm tra và xác nhận (*Testing and validating*)\n",
        "\n",
        "Đây là bước để đảm bảo mô hình của bạn hoạt động tốt và đáng tin cậy.\n"
      ]
    },
    {
      "cell_type": "markdown",
      "metadata": {
        "id": "SsvcnDopsk3P"
      },
      "source": [
        "# Creating summary report"
      ]
    },
    {
      "cell_type": "code",
      "execution_count": 69,
      "metadata": {
        "colab": {
          "base_uri": "https://localhost:8080/"
        },
        "id": "bIxMrNbzsk3O",
        "outputId": "fe892d27-6988-4909-fb7e-077e153ca337"
      },
      "outputs": [
        {
          "name": "stdout",
          "output_type": "stream",
          "text": [
            " === Start report for regressor LinearRegression ===\n",
            "Tuned Parameters: {'fit_intercept': False}\n",
            "Best score is 0.7539427490061379\n",
            "MAE for LinearRegression\n",
            "0.7153119740251258\n",
            "MSE for LinearRegression\n",
            "1.7357713929975975\n",
            "R2 score for LinearRegression\n",
            "0.755062349421775\n",
            " === End of report for regressor LinearRegression === \n",
            "\n",
            " === Start report for regressor DecisionTreeRegressor ===\n",
            "Tuned Parameters: {'min_samples_leaf': 2, 'min_samples_split': 2}\n",
            "Best score is 0.7548704343609021\n",
            "MAE for DecisionTreeRegressor\n",
            "0.6499361213732373\n",
            "MSE for DecisionTreeRegressor\n",
            "1.7034714792206989\n",
            "R2 score for DecisionTreeRegressor\n",
            "0.7596202451367919\n",
            " === End of report for regressor DecisionTreeRegressor === \n",
            "\n"
          ]
        },
        {
          "ename": "KeyboardInterrupt",
          "evalue": "",
          "output_type": "error",
          "traceback": [
            "\u001b[1;31m---------------------------------------------------------------------------\u001b[0m",
            "\u001b[1;31mKeyboardInterrupt\u001b[0m                         Traceback (most recent call last)",
            "Cell \u001b[1;32mIn[69], line 21\u001b[0m\n\u001b[0;32m     18\u001b[0m \u001b[38;5;28;01mfor\u001b[39;00m model \u001b[38;5;129;01min\u001b[39;00m models_to_test:\n\u001b[0;32m     19\u001b[0m   regressor \u001b[38;5;241m=\u001b[39m GridSearchCV(regression_dict[model], param_grid_dict[model], cv\u001b[38;5;241m=\u001b[39mcv, n_jobs\u001b[38;5;241m=\u001b[39m\u001b[38;5;241m-\u001b[39m\u001b[38;5;241m1\u001b[39m)\n\u001b[1;32m---> 21\u001b[0m   regressor\u001b[38;5;241m.\u001b[39mfit(X_train, y_train)\n\u001b[0;32m     22\u001b[0m   y_pred \u001b[38;5;241m=\u001b[39m regressor\u001b[38;5;241m.\u001b[39mpredict(X_test)\n\u001b[0;32m     24\u001b[0m   \u001b[38;5;66;03m# Print the tuned parameters and score\u001b[39;00m\n",
            "File \u001b[1;32mc:\\ProgramData\\anaconda3\\Lib\\site-packages\\sklearn\\base.py:1473\u001b[0m, in \u001b[0;36m_fit_context.<locals>.decorator.<locals>.wrapper\u001b[1;34m(estimator, *args, **kwargs)\u001b[0m\n\u001b[0;32m   1466\u001b[0m     estimator\u001b[38;5;241m.\u001b[39m_validate_params()\n\u001b[0;32m   1468\u001b[0m \u001b[38;5;28;01mwith\u001b[39;00m config_context(\n\u001b[0;32m   1469\u001b[0m     skip_parameter_validation\u001b[38;5;241m=\u001b[39m(\n\u001b[0;32m   1470\u001b[0m         prefer_skip_nested_validation \u001b[38;5;129;01mor\u001b[39;00m global_skip_validation\n\u001b[0;32m   1471\u001b[0m     )\n\u001b[0;32m   1472\u001b[0m ):\n\u001b[1;32m-> 1473\u001b[0m     \u001b[38;5;28;01mreturn\u001b[39;00m fit_method(estimator, \u001b[38;5;241m*\u001b[39margs, \u001b[38;5;241m*\u001b[39m\u001b[38;5;241m*\u001b[39mkwargs)\n",
            "File \u001b[1;32mc:\\ProgramData\\anaconda3\\Lib\\site-packages\\sklearn\\model_selection\\_search.py:1018\u001b[0m, in \u001b[0;36mBaseSearchCV.fit\u001b[1;34m(self, X, y, **params)\u001b[0m\n\u001b[0;32m   1012\u001b[0m     results \u001b[38;5;241m=\u001b[39m \u001b[38;5;28mself\u001b[39m\u001b[38;5;241m.\u001b[39m_format_results(\n\u001b[0;32m   1013\u001b[0m         all_candidate_params, n_splits, all_out, all_more_results\n\u001b[0;32m   1014\u001b[0m     )\n\u001b[0;32m   1016\u001b[0m     \u001b[38;5;28;01mreturn\u001b[39;00m results\n\u001b[1;32m-> 1018\u001b[0m \u001b[38;5;28mself\u001b[39m\u001b[38;5;241m.\u001b[39m_run_search(evaluate_candidates)\n\u001b[0;32m   1020\u001b[0m \u001b[38;5;66;03m# multimetric is determined here because in the case of a callable\u001b[39;00m\n\u001b[0;32m   1021\u001b[0m \u001b[38;5;66;03m# self.scoring the return type is only known after calling\u001b[39;00m\n\u001b[0;32m   1022\u001b[0m first_test_score \u001b[38;5;241m=\u001b[39m all_out[\u001b[38;5;241m0\u001b[39m][\u001b[38;5;124m\"\u001b[39m\u001b[38;5;124mtest_scores\u001b[39m\u001b[38;5;124m\"\u001b[39m]\n",
            "File \u001b[1;32mc:\\ProgramData\\anaconda3\\Lib\\site-packages\\sklearn\\model_selection\\_search.py:1572\u001b[0m, in \u001b[0;36mGridSearchCV._run_search\u001b[1;34m(self, evaluate_candidates)\u001b[0m\n\u001b[0;32m   1570\u001b[0m \u001b[38;5;28;01mdef\u001b[39;00m \u001b[38;5;21m_run_search\u001b[39m(\u001b[38;5;28mself\u001b[39m, evaluate_candidates):\n\u001b[0;32m   1571\u001b[0m \u001b[38;5;250m    \u001b[39m\u001b[38;5;124;03m\"\"\"Search all candidates in param_grid\"\"\"\u001b[39;00m\n\u001b[1;32m-> 1572\u001b[0m     evaluate_candidates(ParameterGrid(\u001b[38;5;28mself\u001b[39m\u001b[38;5;241m.\u001b[39mparam_grid))\n",
            "File \u001b[1;32mc:\\ProgramData\\anaconda3\\Lib\\site-packages\\sklearn\\model_selection\\_search.py:964\u001b[0m, in \u001b[0;36mBaseSearchCV.fit.<locals>.evaluate_candidates\u001b[1;34m(candidate_params, cv, more_results)\u001b[0m\n\u001b[0;32m    956\u001b[0m \u001b[38;5;28;01mif\u001b[39;00m \u001b[38;5;28mself\u001b[39m\u001b[38;5;241m.\u001b[39mverbose \u001b[38;5;241m>\u001b[39m \u001b[38;5;241m0\u001b[39m:\n\u001b[0;32m    957\u001b[0m     \u001b[38;5;28mprint\u001b[39m(\n\u001b[0;32m    958\u001b[0m         \u001b[38;5;124m\"\u001b[39m\u001b[38;5;124mFitting \u001b[39m\u001b[38;5;132;01m{0}\u001b[39;00m\u001b[38;5;124m folds for each of \u001b[39m\u001b[38;5;132;01m{1}\u001b[39;00m\u001b[38;5;124m candidates,\u001b[39m\u001b[38;5;124m\"\u001b[39m\n\u001b[0;32m    959\u001b[0m         \u001b[38;5;124m\"\u001b[39m\u001b[38;5;124m totalling \u001b[39m\u001b[38;5;132;01m{2}\u001b[39;00m\u001b[38;5;124m fits\u001b[39m\u001b[38;5;124m\"\u001b[39m\u001b[38;5;241m.\u001b[39mformat(\n\u001b[0;32m    960\u001b[0m             n_splits, n_candidates, n_candidates \u001b[38;5;241m*\u001b[39m n_splits\n\u001b[0;32m    961\u001b[0m         )\n\u001b[0;32m    962\u001b[0m     )\n\u001b[1;32m--> 964\u001b[0m out \u001b[38;5;241m=\u001b[39m parallel(\n\u001b[0;32m    965\u001b[0m     delayed(_fit_and_score)(\n\u001b[0;32m    966\u001b[0m         clone(base_estimator),\n\u001b[0;32m    967\u001b[0m         X,\n\u001b[0;32m    968\u001b[0m         y,\n\u001b[0;32m    969\u001b[0m         train\u001b[38;5;241m=\u001b[39mtrain,\n\u001b[0;32m    970\u001b[0m         test\u001b[38;5;241m=\u001b[39mtest,\n\u001b[0;32m    971\u001b[0m         parameters\u001b[38;5;241m=\u001b[39mparameters,\n\u001b[0;32m    972\u001b[0m         split_progress\u001b[38;5;241m=\u001b[39m(split_idx, n_splits),\n\u001b[0;32m    973\u001b[0m         candidate_progress\u001b[38;5;241m=\u001b[39m(cand_idx, n_candidates),\n\u001b[0;32m    974\u001b[0m         \u001b[38;5;241m*\u001b[39m\u001b[38;5;241m*\u001b[39mfit_and_score_kwargs,\n\u001b[0;32m    975\u001b[0m     )\n\u001b[0;32m    976\u001b[0m     \u001b[38;5;28;01mfor\u001b[39;00m (cand_idx, parameters), (split_idx, (train, test)) \u001b[38;5;129;01min\u001b[39;00m product(\n\u001b[0;32m    977\u001b[0m         \u001b[38;5;28menumerate\u001b[39m(candidate_params),\n\u001b[0;32m    978\u001b[0m         \u001b[38;5;28menumerate\u001b[39m(cv\u001b[38;5;241m.\u001b[39msplit(X, y, \u001b[38;5;241m*\u001b[39m\u001b[38;5;241m*\u001b[39mrouted_params\u001b[38;5;241m.\u001b[39msplitter\u001b[38;5;241m.\u001b[39msplit)),\n\u001b[0;32m    979\u001b[0m     )\n\u001b[0;32m    980\u001b[0m )\n\u001b[0;32m    982\u001b[0m \u001b[38;5;28;01mif\u001b[39;00m \u001b[38;5;28mlen\u001b[39m(out) \u001b[38;5;241m<\u001b[39m \u001b[38;5;241m1\u001b[39m:\n\u001b[0;32m    983\u001b[0m     \u001b[38;5;28;01mraise\u001b[39;00m \u001b[38;5;167;01mValueError\u001b[39;00m(\n\u001b[0;32m    984\u001b[0m         \u001b[38;5;124m\"\u001b[39m\u001b[38;5;124mNo fits were performed. \u001b[39m\u001b[38;5;124m\"\u001b[39m\n\u001b[0;32m    985\u001b[0m         \u001b[38;5;124m\"\u001b[39m\u001b[38;5;124mWas the CV iterator empty? \u001b[39m\u001b[38;5;124m\"\u001b[39m\n\u001b[0;32m    986\u001b[0m         \u001b[38;5;124m\"\u001b[39m\u001b[38;5;124mWere there no candidates?\u001b[39m\u001b[38;5;124m\"\u001b[39m\n\u001b[0;32m    987\u001b[0m     )\n",
            "File \u001b[1;32mc:\\ProgramData\\anaconda3\\Lib\\site-packages\\sklearn\\utils\\parallel.py:74\u001b[0m, in \u001b[0;36mParallel.__call__\u001b[1;34m(self, iterable)\u001b[0m\n\u001b[0;32m     69\u001b[0m config \u001b[38;5;241m=\u001b[39m get_config()\n\u001b[0;32m     70\u001b[0m iterable_with_config \u001b[38;5;241m=\u001b[39m (\n\u001b[0;32m     71\u001b[0m     (_with_config(delayed_func, config), args, kwargs)\n\u001b[0;32m     72\u001b[0m     \u001b[38;5;28;01mfor\u001b[39;00m delayed_func, args, kwargs \u001b[38;5;129;01min\u001b[39;00m iterable\n\u001b[0;32m     73\u001b[0m )\n\u001b[1;32m---> 74\u001b[0m \u001b[38;5;28;01mreturn\u001b[39;00m \u001b[38;5;28msuper\u001b[39m()\u001b[38;5;241m.\u001b[39m\u001b[38;5;21m__call__\u001b[39m(iterable_with_config)\n",
            "File \u001b[1;32mc:\\ProgramData\\anaconda3\\Lib\\site-packages\\joblib\\parallel.py:2007\u001b[0m, in \u001b[0;36mParallel.__call__\u001b[1;34m(self, iterable)\u001b[0m\n\u001b[0;32m   2001\u001b[0m \u001b[38;5;66;03m# The first item from the output is blank, but it makes the interpreter\u001b[39;00m\n\u001b[0;32m   2002\u001b[0m \u001b[38;5;66;03m# progress until it enters the Try/Except block of the generator and\u001b[39;00m\n\u001b[0;32m   2003\u001b[0m \u001b[38;5;66;03m# reaches the first `yield` statement. This starts the asynchronous\u001b[39;00m\n\u001b[0;32m   2004\u001b[0m \u001b[38;5;66;03m# dispatch of the tasks to the workers.\u001b[39;00m\n\u001b[0;32m   2005\u001b[0m \u001b[38;5;28mnext\u001b[39m(output)\n\u001b[1;32m-> 2007\u001b[0m \u001b[38;5;28;01mreturn\u001b[39;00m output \u001b[38;5;28;01mif\u001b[39;00m \u001b[38;5;28mself\u001b[39m\u001b[38;5;241m.\u001b[39mreturn_generator \u001b[38;5;28;01melse\u001b[39;00m \u001b[38;5;28mlist\u001b[39m(output)\n",
            "File \u001b[1;32mc:\\ProgramData\\anaconda3\\Lib\\site-packages\\joblib\\parallel.py:1650\u001b[0m, in \u001b[0;36mParallel._get_outputs\u001b[1;34m(self, iterator, pre_dispatch)\u001b[0m\n\u001b[0;32m   1647\u001b[0m     \u001b[38;5;28;01myield\u001b[39;00m\n\u001b[0;32m   1649\u001b[0m     \u001b[38;5;28;01mwith\u001b[39;00m \u001b[38;5;28mself\u001b[39m\u001b[38;5;241m.\u001b[39m_backend\u001b[38;5;241m.\u001b[39mretrieval_context():\n\u001b[1;32m-> 1650\u001b[0m         \u001b[38;5;28;01myield from\u001b[39;00m \u001b[38;5;28mself\u001b[39m\u001b[38;5;241m.\u001b[39m_retrieve()\n\u001b[0;32m   1652\u001b[0m \u001b[38;5;28;01mexcept\u001b[39;00m \u001b[38;5;167;01mGeneratorExit\u001b[39;00m:\n\u001b[0;32m   1653\u001b[0m     \u001b[38;5;66;03m# The generator has been garbage collected before being fully\u001b[39;00m\n\u001b[0;32m   1654\u001b[0m     \u001b[38;5;66;03m# consumed. This aborts the remaining tasks if possible and warn\u001b[39;00m\n\u001b[0;32m   1655\u001b[0m     \u001b[38;5;66;03m# the user if necessary.\u001b[39;00m\n\u001b[0;32m   1656\u001b[0m     \u001b[38;5;28mself\u001b[39m\u001b[38;5;241m.\u001b[39m_exception \u001b[38;5;241m=\u001b[39m \u001b[38;5;28;01mTrue\u001b[39;00m\n",
            "File \u001b[1;32mc:\\ProgramData\\anaconda3\\Lib\\site-packages\\joblib\\parallel.py:1762\u001b[0m, in \u001b[0;36mParallel._retrieve\u001b[1;34m(self)\u001b[0m\n\u001b[0;32m   1757\u001b[0m \u001b[38;5;66;03m# If the next job is not ready for retrieval yet, we just wait for\u001b[39;00m\n\u001b[0;32m   1758\u001b[0m \u001b[38;5;66;03m# async callbacks to progress.\u001b[39;00m\n\u001b[0;32m   1759\u001b[0m \u001b[38;5;28;01mif\u001b[39;00m ((\u001b[38;5;28mlen\u001b[39m(\u001b[38;5;28mself\u001b[39m\u001b[38;5;241m.\u001b[39m_jobs) \u001b[38;5;241m==\u001b[39m \u001b[38;5;241m0\u001b[39m) \u001b[38;5;129;01mor\u001b[39;00m\n\u001b[0;32m   1760\u001b[0m     (\u001b[38;5;28mself\u001b[39m\u001b[38;5;241m.\u001b[39m_jobs[\u001b[38;5;241m0\u001b[39m]\u001b[38;5;241m.\u001b[39mget_status(\n\u001b[0;32m   1761\u001b[0m         timeout\u001b[38;5;241m=\u001b[39m\u001b[38;5;28mself\u001b[39m\u001b[38;5;241m.\u001b[39mtimeout) \u001b[38;5;241m==\u001b[39m TASK_PENDING)):\n\u001b[1;32m-> 1762\u001b[0m     time\u001b[38;5;241m.\u001b[39msleep(\u001b[38;5;241m0.01\u001b[39m)\n\u001b[0;32m   1763\u001b[0m     \u001b[38;5;28;01mcontinue\u001b[39;00m\n\u001b[0;32m   1765\u001b[0m \u001b[38;5;66;03m# We need to be careful: the job list can be filling up as\u001b[39;00m\n\u001b[0;32m   1766\u001b[0m \u001b[38;5;66;03m# we empty it and Python list are not thread-safe by\u001b[39;00m\n\u001b[0;32m   1767\u001b[0m \u001b[38;5;66;03m# default hence the use of the lock\u001b[39;00m\n",
            "\u001b[1;31mKeyboardInterrupt\u001b[0m: "
          ]
        }
      ],
      "source": [
        "cv = 5\n",
        "\n",
        "models_to_test = ['LinearRegression','DecisionTreeRegressor','RandomForest']\n",
        "regression_dict = dict(LinearRegression=linear_model,\n",
        "                       DecisionTreeRegressor=tree_model,\n",
        "                       RandomForest=forest_model)\n",
        "param_grid_dict = dict(LinearRegression=param_grid_linear,\n",
        "                       DecisionTreeRegressor=param_grid_tree,\n",
        "                       RandomForest=param_grid_forest)\n",
        "\n",
        "score_dict = {}\n",
        "params_dict = {}\n",
        "mae_dict = {}\n",
        "mse_dict = {}\n",
        "r2_dict = {}\n",
        "best_est_dict = {}\n",
        "\n",
        "for model in models_to_test:\n",
        "  regressor = GridSearchCV(regression_dict[model], param_grid_dict[model], cv=cv, n_jobs=-1)\n",
        "\n",
        "  regressor.fit(X_train, y_train)\n",
        "  y_pred = regressor.predict(X_test)\n",
        "\n",
        "  # Print the tuned parameters and score\n",
        "  print(\" === Start report for regressor {} ===\".format(model))\n",
        "  score_dict[model] = regressor.best_score_\n",
        "  print(\"Tuned Parameters: {}\".format(regressor.best_params_))\n",
        "  params_dict = regressor.best_params_\n",
        "  print(\"Best score is {}\".format(regressor.best_score_))\n",
        "\n",
        "  # Compute metrics\n",
        "  mae_dict[model] = mean_absolute_error(y_test, y_pred)\n",
        "  print(\"MAE for {}\".format(model))\n",
        "  print(mean_absolute_error(y_test, y_pred))\n",
        "  mse_dict[model] = mean_squared_error(y_test, y_pred)\n",
        "  print(\"MSE for {}\".format(model))\n",
        "  print(mean_squared_error(y_test, y_pred))\n",
        "  r2_dict[model] = r2_score(y_test, y_pred)\n",
        "  print(\"R2 score for {}\".format(model))\n",
        "  print(r2_score(y_test, y_pred))\n",
        "  print(\" === End of report for regressor {} === \\n\".format(model))\n",
        "\n",
        "  # Add best estimator to the dict\n",
        "  best_est_dict[model] = regressor.best_estimator_\n",
        "  # ✅ Xác định mô hình tốt nhất dựa trên `best_score_`\n",
        "best_model_name = max(score_dict, key=score_dict.get)\n",
        "best_model = best_est_dict[best_model_name]\n",
        "\n",
        "print(f\"✅ Best model: {best_model_name} with score: {score_dict[best_model_name]:.4f}\")"
      ]
    },
    {
      "cell_type": "markdown",
      "metadata": {
        "id": "eKEa0mFNqS9z"
      },
      "source": [
        "\n",
        "1. **GridSearchCV**:\n",
        "   - Công cụ trong Scikit-learn được sử dụng để tìm kiếm và tối ưu hóa các siêu tham số (*hyperparameters*) của mô hình.\n",
        "   - `cv=5` thực hiện **Cross-validation** 5 lần để đánh giá mô hình trên các tập con khác nhau của dữ liệu.\n",
        "\n",
        "2. **Danh sách và từ điển**:\n",
        "   - `models_to_test`: Chứa tên của các mô hình hồi quy cần kiểm tra.\n",
        "   - `regression_dict` và `param_grid_dict`: Chứa các mô hình và các lưới tham số (*parameter grid*) để tối ưu hóa với GridSearchCV.\n",
        "\n",
        "3. **Tập huấn luyện và kiểm tra**:\n",
        "   - `regressor.fit(X_train, y_train)`: Huấn luyện mô hình trên tập huấn luyện.\n",
        "   - `regressor.predict(X_test)`: Dự đoán trên tập kiểm tra để đánh giá hiệu suất.\n",
        "\n",
        "4. **Tính toán các chỉ số hiệu suất**:\n",
        "   - **MAE** (Mean Absolute Error): Tính sai số tuyệt đối trung bình giữa giá trị thực tế và dự đoán.\n",
        "   - **MSE** (Mean Squared Error): Tính sai số bình phương trung bình.\n",
        "   - **R2 score**: Đo lường mức độ phù hợp của mô hình với dữ liệu.\n",
        "\n",
        "5. **Lưu kết quả**:\n",
        "   - Các từ điển như `score_dict`, `params_dict`, `mae_dict`, `mse_dict`, `r2_dict`, và `best_est_dict` lưu trữ kết quả đánh giá, tham số tối ưu, và bộ hồi quy tốt nhất.\n",
        "\n"
      ]
    },
    {
      "cell_type": "code",
      "execution_count": 70,
      "metadata": {
        "id": "nK3Icw0Rsk3P"
      },
      "outputs": [],
      "source": [
        "summary_cols = ['Best Score']\n",
        "summary = pd.DataFrame.from_dict(r2_dict, orient='index')\n",
        "summary.index.name = 'Regressor'\n",
        "summary.columns = summary_cols\n",
        "summary = summary.reset_index()"
      ]
    },
    {
      "cell_type": "markdown",
      "metadata": {
        "id": "r0IvOIIssk3Q"
      },
      "source": [
        "# Trực quan hóa kết quả (Visualizing results)"
      ]
    },
    {
      "cell_type": "code",
      "execution_count": 71,
      "metadata": {
        "colab": {
          "base_uri": "https://localhost:8080/",
          "height": 268
        },
        "id": "Au2xAftJsk3Q",
        "outputId": "56109c63-52fb-45d9-83e6-46715d97c34c"
      },
      "outputs": [
        {
          "data": {
            "text/plain": [
              "<Axes: title={'center': 'Regressor Comparison'}, xlabel='Best score', ylabel='Regressor'>"
            ]
          },
          "execution_count": 71,
          "metadata": {},
          "output_type": "execute_result"
        }
      ],
      "source": [
        "plt.figure(figsize=(12,4))\n",
        "plt.xlabel('Best score')\n",
        "plt.title('Regressor Comparison')\n",
        "\n",
        "sns.barplot(x='Best Score', y='Regressor', data=summary)"
      ]
    },
    {
      "cell_type": "markdown",
      "metadata": {
        "id": "c8Y_v8aMsk3Q"
      },
      "source": [
        "# Kết luận\n",
        "\n",
        "- Đây là một phân tích cơ bản trên tập dữ liệu giao dịch, cùng với việc xây dựng một mô hình dự đoán doanh số bán hàng.  \n",
        "\n",
        "- **Random Forest Regressor** dường như là mô hình tốt nhất cho dự đoán này, với điểm số **R2 lớn hơn 0.6**, một kết quả không tệ chút nào.  \n",
        "\n"
      ]
    },
    {
      "cell_type": "code",
      "execution_count": 75,
      "metadata": {
        "colab": {
          "base_uri": "https://localhost:8080/"
        },
        "id": "1NlcGkl8CbDo",
        "outputId": "67dcba0a-8553-4063-fabd-12d06a386e9e"
      },
      "outputs": [
        {
          "name": "stdout",
          "output_type": "stream",
          "text": [
            "Mô hình tốt nhất là: DecisionTreeRegressor với score = 0.7549 và R² = 0.7596\n",
            "✅ Best model and necessary bins saved successfully!\n",
            "Dự đoán doanh thu: 6.35\n"
          ]
        }
      ],
      "source": [
        "# Chọn mô hình tốt nhất dựa trên score_dict\n",
        "best_model_name = max(score_dict, key=score_dict.get)  # Chọn mô hình có best_score_ cao nhất\n",
        "best_model = best_est_dict[best_model_name]\n",
        "\n",
        "print(f\"Mô hình tốt nhất là: {best_model_name} với score = {score_dict[best_model_name]:.4f} và R² = {r2_dict[best_model_name]:.4f}\")\n",
        "\n",
        "# Save the best model and bins using joblib\n",
        "import joblib\n",
        "joblib.dump(best_model, 'best_model.pkl')  # Save the model\n",
        "joblib.dump(bins_q, 'bins_q.pkl')  # Save bins_q\n",
        "joblib.dump(bins_p, 'bins_p.pkl')  # Save bins_p\n",
        "joblib.dump(bins_d, 'bins_d.pkl')  # Save bins_d\n",
        "print(\"✅ Best model and necessary bins saved successfully!\")\n",
        "\n",
        "\n",
        "# Tạo dữ liệu mới để dự đoán\n",
        "new_data = pd.DataFrame({\n",
        "    'QuantityInv': [5],  # Thay đổi 'Quantity' thành 'QuantityInv'\n",
        "    'UnitPrice': [20],\n",
        "    'Month': [3],\n",
        "    'DayOfWeek': [2],\n",
        "    'Hour': [14],\n",
        "    'Country_France': [0],  # Các giá trị One-Hot Encoding cho cột 'Country'\n",
        "    'Country_Germany': [1],\n",
        "    'Country_Spain': [0],\n",
        "    'Country_United Kingdom': [0]\n",
        "})\n",
        "\n",
        "# Tạo các đặc trưng còn thiếu trong new_data\n",
        "# Giả sử bạn có các hàm tạo đặc trưng QuantityRange, PriceRange, DateRange từ trước\n",
        "new_data['QuantityRange'] = pd.cut(new_data['QuantityInv'], bins=bins_q)  # Sử dụng bins_q đã định nghĩa trước\n",
        "new_data['PriceRange'] = pd.cut(new_data['UnitPrice'], bins=bins_p)  # Sử dụng bins_p đã định nghĩa trước\n",
        "new_data['DateRange'] = pd.cut(new_data['Month'], bins=bins_d, labels=['q1', 'q2', 'q3', 'q4'])  # Sử dụng bins_d đã định nghĩa trước\n",
        "\n",
        "# Chuyển đổi các đặc trưng phân loại thành biến giả\n",
        "new_data = pd.get_dummies(new_data, columns=['QuantityRange'], prefix='qr')\n",
        "new_data = pd.get_dummies(new_data, columns=['PriceRange'], prefix='pr')\n",
        "new_data = pd.get_dummies(new_data, columns=['DateRange'], prefix='dr')\n",
        "\n",
        "# Loại bỏ các cột không cần thiết\n",
        "new_data = new_data[X_train.columns]  # Giữ lại các cột trùng khớp với X_train\n",
        "\n",
        "\n",
        "# Dự đoán doanh thu từ dữ liệu mới\n",
        "predicted_revenue = best_model.predict(new_data)\n",
        "print(f'Dự đoán doanh thu: {predicted_revenue[0]:.2f}')\n",
        "\n"
      ]
    },
    {
      "cell_type": "code",
      "execution_count": 77,
      "metadata": {
        "colab": {
          "base_uri": "https://localhost:8080/"
        },
        "id": "kg34bMu2IkUy",
        "outputId": "06065612-fa0d-4d76-9fd9-0d2cc99d4601"
      },
      "outputs": [
        {
          "name": "stdout",
          "output_type": "stream",
          "text": [
            " * Serving Flask app '__main__'\n",
            " * Debug mode: on\n"
          ]
        },
        {
          "name": "stderr",
          "output_type": "stream",
          "text": [
            "WARNING: This is a development server. Do not use it in a production deployment. Use a production WSGI server instead.\n",
            " * Running on http://127.0.0.1:5000\n",
            "Press CTRL+C to quit\n",
            " * Restarting with watchdog (windowsapi)\n"
          ]
        },
        {
          "ename": "SystemExit",
          "evalue": "1",
          "output_type": "error",
          "traceback": [
            "An exception has occurred, use %tb to see the full traceback.\n",
            "\u001b[1;31mSystemExit\u001b[0m\u001b[1;31m:\u001b[0m 1\n"
          ]
        }
      ],
      "source": [
        "from flask import Flask, request, render_template\n",
        "import pandas as pd\n",
        "import joblib\n",
        "\n",
        "app = Flask(__name__)\n",
        "\n",
        "# Load the trained model and bins\n",
        "best_model = joblib.load('best_model.pkl')\n",
        "bins_q = joblib.load('bins_q.pkl')\n",
        "bins_p = joblib.load('bins_p.pkl')\n",
        "bins_d = joblib.load('bins_d.pkl')\n",
        "\n",
        "@app.route('/', methods=['GET', 'POST'])\n",
        "def predict():\n",
        "    if request.method == 'POST':\n",
        "        try:\n",
        "            # Get input data from the form\n",
        "            QuantityInv = float(request.form['QuantityInv'])\n",
        "            UnitPrice = float(request.form['UnitPrice'])\n",
        "            Month = int(request.form['Month'])\n",
        "\n",
        "            # Create a DataFrame with the input data\n",
        "            new_data = pd.DataFrame({\n",
        "                'QuantityInv': [QuantityInv],\n",
        "                'UnitPrice': [UnitPrice],\n",
        "                'Month': [Month]\n",
        "            })\n",
        "\n",
        "            # ... (rest of the feature engineering and prediction code is the same)\n",
        "\n",
        "            # Tạo các đặc trưng còn thiếu trong new_data\n",
        "            new_data['QuantityRange'] = pd.cut(new_data['QuantityInv'], bins=bins_q)\n",
        "            new_data['PriceRange'] = pd.cut(new_data['UnitPrice'], bins=bins_p)\n",
        "            new_data['DateRange'] = pd.cut(new_data['Month'], bins=bins_d, labels=['q1', 'q2', 'q3', 'q4'])\n",
        "\n",
        "            # Chuyển đổi các đặc trưng phân loại thành biến giả\n",
        "            new_data = pd.get_dummies(new_data, columns=['QuantityRange'], prefix='qr')\n",
        "            new_data = pd.get_dummies(new_data, columns=['PriceRange'], prefix='pr')\n",
        "            new_data = pd.get_dummies(new_data, columns=['DateRange'], prefix='dr')\n",
        "\n",
        "            # Loại bỏ các cột không cần thiết\n",
        "            new_data = new_data[X_train.columns]  # Giữ lại các cột trùng khớp với X_train\n",
        "\n",
        "            # Make the prediction\n",
        "            prediction = best_model.predict(new_data)[0]\n",
        "\n",
        "            # Render the template with the prediction\n",
        "            return render_template('result.html', prediction=round(prediction, 2))\n",
        "\n",
        "        except Exception as e:\n",
        "            return f\"Error: {str(e)}\"\n",
        "\n",
        "    # Render the input form if it's a GET request\n",
        "    return render_template('input.html')\n",
        "\n",
        "if __name__ == '__main__':\n",
        "    app.run(debug=True)"
      ]
    }
  ],
  "metadata": {
    "colab": {
      "provenance": []
    },
    "kaggle": {
      "accelerator": "none",
      "dataSources": [
        {
          "datasetId": 3466,
          "sourceId": 5596,
          "sourceType": "datasetVersion"
        }
      ],
      "isGpuEnabled": false,
      "isInternetEnabled": false,
      "language": "python",
      "sourceType": "notebook"
    },
    "kernelspec": {
      "display_name": "base",
      "language": "python",
      "name": "python3"
    },
    "language_info": {
      "codemirror_mode": {
        "name": "ipython",
        "version": 3
      },
      "file_extension": ".py",
      "mimetype": "text/x-python",
      "name": "python",
      "nbconvert_exporter": "python",
      "pygments_lexer": "ipython3",
      "version": "3.12.7"
    }
  },
  "nbformat": 4,
  "nbformat_minor": 0
}
